{
 "cells": [
  {
   "cell_type": "markdown",
   "metadata": {},
   "source": [
    "# JSON examples and exercise\n",
    "****\n",
    "+ get familiar with packages for dealing with JSON\n",
    "+ study examples with JSON strings and files \n",
    "+ work on exercise to be completed and submitted \n",
    "****\n",
    "+ reference: http://pandas.pydata.org/pandas-docs/stable/io.html#io-json-reader\n",
    "+ data source: http://jsonstudio.com/resources/\n",
    "****"
   ]
  },
  {
   "cell_type": "code",
   "execution_count": 1,
   "metadata": {
    "collapsed": true
   },
   "outputs": [],
   "source": [
    "import pandas as pd"
   ]
  },
  {
   "cell_type": "markdown",
   "metadata": {},
   "source": [
    "## imports for Python, Pandas"
   ]
  },
  {
   "cell_type": "code",
   "execution_count": 2,
   "metadata": {
    "collapsed": true
   },
   "outputs": [],
   "source": [
    "import json\n",
    "from pandas.io.json import json_normalize"
   ]
  },
  {
   "cell_type": "markdown",
   "metadata": {},
   "source": [
    "## JSON example, with string\n",
    "\n",
    "+ demonstrates creation of normalized dataframes (tables) from nested json string\n",
    "+ source: http://pandas.pydata.org/pandas-docs/stable/io.html#normalization"
   ]
  },
  {
   "cell_type": "code",
   "execution_count": 3,
   "metadata": {
    "collapsed": true
   },
   "outputs": [],
   "source": [
    "# define json string\n",
    "data = [{'state': 'Florida', \n",
    "         'shortname': 'FL',\n",
    "         'info': {'governor': 'Rick Scott'},\n",
    "         'counties': [{'name': 'Dade', 'population': 12345},\n",
    "                      {'name': 'Broward', 'population': 40000},\n",
    "                      {'name': 'Palm Beach', 'population': 60000}]},\n",
    "        {'state': 'Ohio',\n",
    "         'shortname': 'OH',\n",
    "         'info': {'governor': 'John Kasich'},\n",
    "         'counties': [{'name': 'Summit', 'population': 1234},\n",
    "                      {'name': 'Cuyahoga', 'population': 1337}]}]"
   ]
  },
  {
   "cell_type": "code",
   "execution_count": 4,
   "metadata": {
    "collapsed": false
   },
   "outputs": [
    {
     "data": {
      "text/html": [
       "<div>\n",
       "<style scoped>\n",
       "    .dataframe tbody tr th:only-of-type {\n",
       "        vertical-align: middle;\n",
       "    }\n",
       "\n",
       "    .dataframe tbody tr th {\n",
       "        vertical-align: top;\n",
       "    }\n",
       "\n",
       "    .dataframe thead th {\n",
       "        text-align: right;\n",
       "    }\n",
       "</style>\n",
       "<table border=\"1\" class=\"dataframe\">\n",
       "  <thead>\n",
       "    <tr style=\"text-align: right;\">\n",
       "      <th></th>\n",
       "      <th>name</th>\n",
       "      <th>population</th>\n",
       "    </tr>\n",
       "  </thead>\n",
       "  <tbody>\n",
       "    <tr>\n",
       "      <th>0</th>\n",
       "      <td>Dade</td>\n",
       "      <td>12345</td>\n",
       "    </tr>\n",
       "    <tr>\n",
       "      <th>1</th>\n",
       "      <td>Broward</td>\n",
       "      <td>40000</td>\n",
       "    </tr>\n",
       "    <tr>\n",
       "      <th>2</th>\n",
       "      <td>Palm Beach</td>\n",
       "      <td>60000</td>\n",
       "    </tr>\n",
       "    <tr>\n",
       "      <th>3</th>\n",
       "      <td>Summit</td>\n",
       "      <td>1234</td>\n",
       "    </tr>\n",
       "    <tr>\n",
       "      <th>4</th>\n",
       "      <td>Cuyahoga</td>\n",
       "      <td>1337</td>\n",
       "    </tr>\n",
       "  </tbody>\n",
       "</table>\n",
       "</div>"
      ],
      "text/plain": [
       "         name  population\n",
       "0        Dade       12345\n",
       "1     Broward       40000\n",
       "2  Palm Beach       60000\n",
       "3      Summit        1234\n",
       "4    Cuyahoga        1337"
      ]
     },
     "execution_count": 4,
     "metadata": {},
     "output_type": "execute_result"
    }
   ],
   "source": [
    "# use normalization to create tables from nested element\n",
    "json_normalize(data, 'counties')"
   ]
  },
  {
   "cell_type": "code",
   "execution_count": 5,
   "metadata": {
    "collapsed": false
   },
   "outputs": [
    {
     "data": {
      "text/html": [
       "<div>\n",
       "<style scoped>\n",
       "    .dataframe tbody tr th:only-of-type {\n",
       "        vertical-align: middle;\n",
       "    }\n",
       "\n",
       "    .dataframe tbody tr th {\n",
       "        vertical-align: top;\n",
       "    }\n",
       "\n",
       "    .dataframe thead th {\n",
       "        text-align: right;\n",
       "    }\n",
       "</style>\n",
       "<table border=\"1\" class=\"dataframe\">\n",
       "  <thead>\n",
       "    <tr style=\"text-align: right;\">\n",
       "      <th></th>\n",
       "      <th>name</th>\n",
       "      <th>population</th>\n",
       "      <th>info.governor</th>\n",
       "      <th>state</th>\n",
       "      <th>shortname</th>\n",
       "    </tr>\n",
       "  </thead>\n",
       "  <tbody>\n",
       "    <tr>\n",
       "      <th>0</th>\n",
       "      <td>Dade</td>\n",
       "      <td>12345</td>\n",
       "      <td>Rick Scott</td>\n",
       "      <td>Florida</td>\n",
       "      <td>FL</td>\n",
       "    </tr>\n",
       "    <tr>\n",
       "      <th>1</th>\n",
       "      <td>Broward</td>\n",
       "      <td>40000</td>\n",
       "      <td>Rick Scott</td>\n",
       "      <td>Florida</td>\n",
       "      <td>FL</td>\n",
       "    </tr>\n",
       "    <tr>\n",
       "      <th>2</th>\n",
       "      <td>Palm Beach</td>\n",
       "      <td>60000</td>\n",
       "      <td>Rick Scott</td>\n",
       "      <td>Florida</td>\n",
       "      <td>FL</td>\n",
       "    </tr>\n",
       "    <tr>\n",
       "      <th>3</th>\n",
       "      <td>Summit</td>\n",
       "      <td>1234</td>\n",
       "      <td>John Kasich</td>\n",
       "      <td>Ohio</td>\n",
       "      <td>OH</td>\n",
       "    </tr>\n",
       "    <tr>\n",
       "      <th>4</th>\n",
       "      <td>Cuyahoga</td>\n",
       "      <td>1337</td>\n",
       "      <td>John Kasich</td>\n",
       "      <td>Ohio</td>\n",
       "      <td>OH</td>\n",
       "    </tr>\n",
       "  </tbody>\n",
       "</table>\n",
       "</div>"
      ],
      "text/plain": [
       "         name  population info.governor    state shortname\n",
       "0        Dade       12345    Rick Scott  Florida        FL\n",
       "1     Broward       40000    Rick Scott  Florida        FL\n",
       "2  Palm Beach       60000    Rick Scott  Florida        FL\n",
       "3      Summit        1234   John Kasich     Ohio        OH\n",
       "4    Cuyahoga        1337   John Kasich     Ohio        OH"
      ]
     },
     "execution_count": 5,
     "metadata": {},
     "output_type": "execute_result"
    }
   ],
   "source": [
    "# further populate tables created from nested element\n",
    "json_normalize(data, 'counties', ['state', 'shortname', ['info', 'governor']])"
   ]
  },
  {
   "cell_type": "markdown",
   "metadata": {},
   "source": [
    "****\n",
    "## JSON example, with file\n",
    "\n",
    "+ demonstrates reading in a json file as a string and as a table\n",
    "+ uses small sample file containing data about projects funded by the World Bank \n",
    "+ data source: http://jsonstudio.com/resources/"
   ]
  },
  {
   "cell_type": "code",
   "execution_count": 6,
   "metadata": {
    "collapsed": false
   },
   "outputs": [],
   "source": [
    "# load json as string\n",
    "#json.load((open('data/world_bank_projects_less.json')))"
   ]
  },
  {
   "cell_type": "code",
   "execution_count": 7,
   "metadata": {
    "collapsed": false
   },
   "outputs": [
    {
     "data": {
      "text/html": [
       "<div>\n",
       "<style scoped>\n",
       "    .dataframe tbody tr th:only-of-type {\n",
       "        vertical-align: middle;\n",
       "    }\n",
       "\n",
       "    .dataframe tbody tr th {\n",
       "        vertical-align: top;\n",
       "    }\n",
       "\n",
       "    .dataframe thead th {\n",
       "        text-align: right;\n",
       "    }\n",
       "</style>\n",
       "<table border=\"1\" class=\"dataframe\">\n",
       "  <thead>\n",
       "    <tr style=\"text-align: right;\">\n",
       "      <th></th>\n",
       "      <th>_id</th>\n",
       "      <th>approvalfy</th>\n",
       "      <th>board_approval_month</th>\n",
       "      <th>boardapprovaldate</th>\n",
       "      <th>borrower</th>\n",
       "      <th>closingdate</th>\n",
       "      <th>country_namecode</th>\n",
       "      <th>countrycode</th>\n",
       "      <th>countryname</th>\n",
       "      <th>countryshortname</th>\n",
       "      <th>...</th>\n",
       "      <th>sectorcode</th>\n",
       "      <th>source</th>\n",
       "      <th>status</th>\n",
       "      <th>supplementprojectflg</th>\n",
       "      <th>theme1</th>\n",
       "      <th>theme_namecode</th>\n",
       "      <th>themecode</th>\n",
       "      <th>totalamt</th>\n",
       "      <th>totalcommamt</th>\n",
       "      <th>url</th>\n",
       "    </tr>\n",
       "  </thead>\n",
       "  <tbody>\n",
       "    <tr>\n",
       "      <th>0</th>\n",
       "      <td>{u'$oid': u'52b213b38594d8a2be17c780'}</td>\n",
       "      <td>1999</td>\n",
       "      <td>November</td>\n",
       "      <td>2013-11-12T00:00:00Z</td>\n",
       "      <td>FEDERAL DEMOCRATIC REPUBLIC OF ETHIOPIA</td>\n",
       "      <td>2018-07-07T00:00:00Z</td>\n",
       "      <td>Federal Democratic Republic of Ethiopia!$!ET</td>\n",
       "      <td>ET</td>\n",
       "      <td>Federal Democratic Republic of Ethiopia</td>\n",
       "      <td>Ethiopia</td>\n",
       "      <td>...</td>\n",
       "      <td>ET,BS,ES,EP</td>\n",
       "      <td>IBRD</td>\n",
       "      <td>Active</td>\n",
       "      <td>N</td>\n",
       "      <td>{u'Percent': 100, u'Name': u'Education for all'}</td>\n",
       "      <td>[{u'code': u'65', u'name': u'Education for all'}]</td>\n",
       "      <td>65</td>\n",
       "      <td>130000000</td>\n",
       "      <td>130000000</td>\n",
       "      <td>http://www.worldbank.org/projects/P129828/ethi...</td>\n",
       "    </tr>\n",
       "    <tr>\n",
       "      <th>1</th>\n",
       "      <td>{u'$oid': u'52b213b38594d8a2be17c781'}</td>\n",
       "      <td>2015</td>\n",
       "      <td>November</td>\n",
       "      <td>2013-11-04T00:00:00Z</td>\n",
       "      <td>GOVERNMENT OF TUNISIA</td>\n",
       "      <td>NaN</td>\n",
       "      <td>Republic of Tunisia!$!TN</td>\n",
       "      <td>TN</td>\n",
       "      <td>Republic of Tunisia</td>\n",
       "      <td>Tunisia</td>\n",
       "      <td>...</td>\n",
       "      <td>BZ,BS</td>\n",
       "      <td>IBRD</td>\n",
       "      <td>Active</td>\n",
       "      <td>N</td>\n",
       "      <td>{u'Percent': 30, u'Name': u'Other economic man...</td>\n",
       "      <td>[{u'code': u'24', u'name': u'Other economic ma...</td>\n",
       "      <td>54,24</td>\n",
       "      <td>0</td>\n",
       "      <td>4700000</td>\n",
       "      <td>http://www.worldbank.org/projects/P144674?lang=en</td>\n",
       "    </tr>\n",
       "  </tbody>\n",
       "</table>\n",
       "<p>2 rows × 50 columns</p>\n",
       "</div>"
      ],
      "text/plain": [
       "                                      _id  approvalfy board_approval_month  \\\n",
       "0  {u'$oid': u'52b213b38594d8a2be17c780'}        1999             November   \n",
       "1  {u'$oid': u'52b213b38594d8a2be17c781'}        2015             November   \n",
       "\n",
       "      boardapprovaldate                                 borrower  \\\n",
       "0  2013-11-12T00:00:00Z  FEDERAL DEMOCRATIC REPUBLIC OF ETHIOPIA   \n",
       "1  2013-11-04T00:00:00Z                    GOVERNMENT OF TUNISIA   \n",
       "\n",
       "            closingdate                              country_namecode  \\\n",
       "0  2018-07-07T00:00:00Z  Federal Democratic Republic of Ethiopia!$!ET   \n",
       "1                   NaN                      Republic of Tunisia!$!TN   \n",
       "\n",
       "  countrycode                              countryname countryshortname  \\\n",
       "0          ET  Federal Democratic Republic of Ethiopia         Ethiopia   \n",
       "1          TN                      Republic of Tunisia          Tunisia   \n",
       "\n",
       "                         ...                           sectorcode source  \\\n",
       "0                        ...                          ET,BS,ES,EP   IBRD   \n",
       "1                        ...                                BZ,BS   IBRD   \n",
       "\n",
       "   status  supplementprojectflg  \\\n",
       "0  Active                     N   \n",
       "1  Active                     N   \n",
       "\n",
       "                                              theme1  \\\n",
       "0   {u'Percent': 100, u'Name': u'Education for all'}   \n",
       "1  {u'Percent': 30, u'Name': u'Other economic man...   \n",
       "\n",
       "                                      theme_namecode themecode   totalamt  \\\n",
       "0  [{u'code': u'65', u'name': u'Education for all'}]        65  130000000   \n",
       "1  [{u'code': u'24', u'name': u'Other economic ma...     54,24          0   \n",
       "\n",
       "  totalcommamt                                                url  \n",
       "0    130000000  http://www.worldbank.org/projects/P129828/ethi...  \n",
       "1      4700000  http://www.worldbank.org/projects/P144674?lang=en  \n",
       "\n",
       "[2 rows x 50 columns]"
      ]
     },
     "execution_count": 7,
     "metadata": {},
     "output_type": "execute_result"
    }
   ],
   "source": [
    "# load as Pandas dataframe\n",
    "sample_json_df = pd.read_json('data/world_bank_projects_less.json')\n",
    "sample_json_df"
   ]
  },
  {
   "cell_type": "markdown",
   "metadata": {},
   "source": [
    "****\n",
    "## JSON exercise\n",
    "\n",
    "Using data in file 'data/world_bank_projects.json' and the techniques demonstrated above,\n",
    "1. Find the 10 countries with most projects\n",
    "2. Find the top 10 major project themes (using column 'mjtheme_namecode')\n",
    "3. In 2. above you will notice that some entries have only the code and the name is missing. Create a dataframe with the missing names filled in."
   ]
  },
  {
   "cell_type": "code",
   "execution_count": 8,
   "metadata": {
    "collapsed": true
   },
   "outputs": [
    {
     "data": {
      "text/html": [
       "<div>\n",
       "<style scoped>\n",
       "    .dataframe tbody tr th:only-of-type {\n",
       "        vertical-align: middle;\n",
       "    }\n",
       "\n",
       "    .dataframe tbody tr th {\n",
       "        vertical-align: top;\n",
       "    }\n",
       "\n",
       "    .dataframe thead th {\n",
       "        text-align: right;\n",
       "    }\n",
       "</style>\n",
       "<table border=\"1\" class=\"dataframe\">\n",
       "  <thead>\n",
       "    <tr style=\"text-align: right;\">\n",
       "      <th></th>\n",
       "      <th>idacommamt</th>\n",
       "      <th>impagency</th>\n",
       "      <th>lendinginstr</th>\n",
       "      <th>lendinginstrtype</th>\n",
       "      <th>lendprojectcost</th>\n",
       "      <th>majorsector_percent</th>\n",
       "      <th>mjsector_namecode</th>\n",
       "      <th>mjtheme</th>\n",
       "      <th>mjtheme_namecode</th>\n",
       "      <th>mjthemecode</th>\n",
       "    </tr>\n",
       "  </thead>\n",
       "  <tbody>\n",
       "    <tr>\n",
       "      <th>11</th>\n",
       "      <td>250000000</td>\n",
       "      <td>NaN</td>\n",
       "      <td>Investment Project Financing</td>\n",
       "      <td>IN</td>\n",
       "      <td>250000000</td>\n",
       "      <td>[{u'Percent': 60, u'Name': u'Transportation'},...</td>\n",
       "      <td>[{u'code': u'TX', u'name': u'Transportation'},...</td>\n",
       "      <td>[Rural development, Social protection and risk...</td>\n",
       "      <td>[{u'code': u'10', u'name': u'Rural development...</td>\n",
       "      <td>10,6,6,11</td>\n",
       "    </tr>\n",
       "    <tr>\n",
       "      <th>12</th>\n",
       "      <td>97000000</td>\n",
       "      <td>MINISTRY OF COMMUNICATIONS</td>\n",
       "      <td>Specific Investment Loan</td>\n",
       "      <td>IN</td>\n",
       "      <td>97000000</td>\n",
       "      <td>[{u'Percent': 100, u'Name': u'Information and ...</td>\n",
       "      <td>[{u'code': u'CX', u'name': u'Information and c...</td>\n",
       "      <td>NaN</td>\n",
       "      <td>[{u'code': u'4', u'name': u''}]</td>\n",
       "      <td>4</td>\n",
       "    </tr>\n",
       "    <tr>\n",
       "      <th>13</th>\n",
       "      <td>25000000</td>\n",
       "      <td>MINISTRY OF INFRASTRUCTURE</td>\n",
       "      <td>Specific Investment Loan</td>\n",
       "      <td>IN</td>\n",
       "      <td>92000000</td>\n",
       "      <td>[{u'Percent': 85, u'Name': u'Transportation'},...</td>\n",
       "      <td>[{u'code': u'TX', u'name': u'Transportation'},...</td>\n",
       "      <td>[Trade and integration, Environment and natura...</td>\n",
       "      <td>[{u'code': u'5', u'name': u'Trade and integrat...</td>\n",
       "      <td>5,11,10</td>\n",
       "    </tr>\n",
       "    <tr>\n",
       "      <th>14</th>\n",
       "      <td>0</td>\n",
       "      <td>MINISTRY OF PLANNING AND INTERNATIONAL COOPERA...</td>\n",
       "      <td>Technical Assistance Loan</td>\n",
       "      <td>IN</td>\n",
       "      <td>10000000</td>\n",
       "      <td>[{u'Percent': 100, u'Name': u'Health and other...</td>\n",
       "      <td>[{u'code': u'JX', u'name': u'Health and other ...</td>\n",
       "      <td>[Social protection and risk management, Social...</td>\n",
       "      <td>[{u'code': u'6', u'name': u'Social protection ...</td>\n",
       "      <td>6,6,6</td>\n",
       "    </tr>\n",
       "  </tbody>\n",
       "</table>\n",
       "</div>"
      ],
      "text/plain": [
       "    idacommamt                                          impagency  \\\n",
       "11   250000000                                                NaN   \n",
       "12    97000000                         MINISTRY OF COMMUNICATIONS   \n",
       "13    25000000                         MINISTRY OF INFRASTRUCTURE   \n",
       "14           0  MINISTRY OF PLANNING AND INTERNATIONAL COOPERA...   \n",
       "\n",
       "                    lendinginstr lendinginstrtype  lendprojectcost  \\\n",
       "11  Investment Project Financing               IN        250000000   \n",
       "12      Specific Investment Loan               IN         97000000   \n",
       "13      Specific Investment Loan               IN         92000000   \n",
       "14     Technical Assistance Loan               IN         10000000   \n",
       "\n",
       "                                  majorsector_percent  \\\n",
       "11  [{u'Percent': 60, u'Name': u'Transportation'},...   \n",
       "12  [{u'Percent': 100, u'Name': u'Information and ...   \n",
       "13  [{u'Percent': 85, u'Name': u'Transportation'},...   \n",
       "14  [{u'Percent': 100, u'Name': u'Health and other...   \n",
       "\n",
       "                                    mjsector_namecode  \\\n",
       "11  [{u'code': u'TX', u'name': u'Transportation'},...   \n",
       "12  [{u'code': u'CX', u'name': u'Information and c...   \n",
       "13  [{u'code': u'TX', u'name': u'Transportation'},...   \n",
       "14  [{u'code': u'JX', u'name': u'Health and other ...   \n",
       "\n",
       "                                              mjtheme  \\\n",
       "11  [Rural development, Social protection and risk...   \n",
       "12                                                NaN   \n",
       "13  [Trade and integration, Environment and natura...   \n",
       "14  [Social protection and risk management, Social...   \n",
       "\n",
       "                                     mjtheme_namecode mjthemecode  \n",
       "11  [{u'code': u'10', u'name': u'Rural development...   10,6,6,11  \n",
       "12                    [{u'code': u'4', u'name': u''}]           4  \n",
       "13  [{u'code': u'5', u'name': u'Trade and integrat...     5,11,10  \n",
       "14  [{u'code': u'6', u'name': u'Social protection ...       6,6,6  "
      ]
     },
     "execution_count": 8,
     "metadata": {},
     "output_type": "execute_result"
    }
   ],
   "source": [
    "#load json file into DataFrame\n",
    "import pandas as pd\n",
    "import json\n",
    "import numpy as np\n",
    "from pandas.io.json import json_normalize\n",
    "\n",
    "world_bank_data = pd.read_json('data/world_bank_projects.json')\n",
    "world_bank_data.iloc[11:15,15:25]#looking at specific rows and columns that are missing data"
   ]
  },
  {
   "cell_type": "code",
   "execution_count": 9,
   "metadata": {},
   "outputs": [
    {
     "data": {
      "text/plain": [
       "China                 19\n",
       "Indonesia             19\n",
       "Vietnam               17\n",
       "India                 16\n",
       "Yemen, Republic of    13\n",
       "Morocco               12\n",
       "Bangladesh            12\n",
       "Nepal                 12\n",
       "Africa                11\n",
       "Mozambique            11\n",
       "Name: countryshortname, dtype: int64"
      ]
     },
     "execution_count": 9,
     "metadata": {},
     "output_type": "execute_result"
    }
   ],
   "source": [
    "#1--Top ten countries with the most projects\n",
    "world_bank_data['countryshortname'].value_counts().nlargest(10)"
   ]
  },
  {
   "cell_type": "code",
   "execution_count": 10,
   "metadata": {},
   "outputs": [
    {
     "data": {
      "text/plain": [
       "name\n",
       "Environment and natural resources management    223\n",
       "Rural development                               202\n",
       "Human development                               197\n",
       "Public sector governance                        184\n",
       "Social protection and risk management           158\n",
       "Financial and private sector development        130\n",
       "                                                122\n",
       "Social dev/gender/inclusion                     119\n",
       "Trade and integration                            72\n",
       "Urban development                                47\n",
       "dtype: int64"
      ]
     },
     "execution_count": 10,
     "metadata": {},
     "output_type": "execute_result"
    }
   ],
   "source": [
    "#2--Top ten major project themes\n",
    "#import data in as a string file:\n",
    "world_bank_data_str = json.load(open('data/world_bank_projects.json'))\n",
    "\n",
    "top_project_themes = json_normalize(world_bank_data_str, 'mjtheme_namecode')\n",
    "top_project_themes = top_project_themes.groupby('name')\n",
    "top_project_themes = top_project_themes.size().sort_values(ascending=False)\n",
    "top_project_themes.head(10)"
   ]
  },
  {
   "cell_type": "code",
   "execution_count": 11,
   "metadata": {},
   "outputs": [
    {
     "data": {
      "text/plain": [
       "9"
      ]
     },
     "execution_count": 11,
     "metadata": {},
     "output_type": "execute_result"
    }
   ],
   "source": [
    "#see if there are any rows missing 'mjtheme_namecode' values:\n",
    "count_nulls = 0\n",
    "for d in range(0,len(world_bank_data)):\n",
    "    if (world_bank_data.loc[d,'mjtheme_namecode'][0]['name'] == ''):\n",
    "        count_nulls+=1\n",
    "count_nulls"
   ]
  },
  {
   "cell_type": "code",
   "execution_count": 12,
   "metadata": {},
   "outputs": [],
   "source": [
    "#3--Create a dataframe with the missing names filled in.\n",
    "\n",
    "#--create a lookup table 'lookup_dict' of all 'mjtheme_code' values, \n",
    "#  with corresponding 'mjtheme' names\n",
    "\n",
    "#--create a def that will loop through df rows, then n number of list items\n",
    "#  in the 'mjtheme_namecode' feature (it's a list of dictionaries)\n",
    "\n",
    "#--set the 'mjtheme' value equal to the the value of the key in the lookup \n",
    "#    table dict (do the same for the 'mjtheme_namecode' feature)\n",
    "#--requery to see if any names are null values"
   ]
  },
  {
   "cell_type": "code",
   "execution_count": 13,
   "metadata": {},
   "outputs": [
    {
     "data": {
      "text/plain": [
       "{u'': u'11',\n",
       " u'Economic management': u'8',\n",
       " u'Environment and natural resources management': u'5',\n",
       " u'Financial and private sector development': u'7',\n",
       " u'Human development': u'8',\n",
       " u'Public sector governance': u'2',\n",
       " u'Rule of law': u'7',\n",
       " u'Rural development': u'10',\n",
       " u'Social dev/gender/inclusion': u'1',\n",
       " u'Social protection and risk management': u'8',\n",
       " u'Trade and integration': u'10',\n",
       " u'Urban development': u'4'}"
      ]
     },
     "execution_count": 13,
     "metadata": {},
     "output_type": "execute_result"
    }
   ],
   "source": [
    "#create lookup_dict dictionary of names and codes:\n",
    "lookup_dict = {}\n",
    "for index, row in world_bank_data.iterrows():\n",
    "    #feature can have more than 1 code\n",
    "    for d in range(len(row['mjtheme_namecode'])):\n",
    "        #take the first list's namecode\n",
    "        val = row['mjtheme_namecode'][0]['name']\n",
    "        if row['mjtheme_namecode'][d]['code'] not in lookup_dict.keys():\n",
    "            #grab the code for that name\n",
    "            lookup_dict[val] = row['mjtheme_namecode'][d]['code']\n",
    "lookup_dict"
   ]
  },
  {
   "cell_type": "code",
   "execution_count": 14,
   "metadata": {},
   "outputs": [
    {
     "data": {
      "text/plain": [
       "{u'Economic management': u'8',\n",
       " u'Environment and natural resources management': u'5',\n",
       " u'Financial and private sector development': u'7',\n",
       " u'Human development': u'8',\n",
       " u'Public sector governance': u'2',\n",
       " u'Rule of law': u'7',\n",
       " u'Rural development': u'10',\n",
       " u'Social dev/gender/inclusion': u'1',\n",
       " u'Social protection and risk management': u'8',\n",
       " u'Trade and integration': u'10',\n",
       " u'Urban development': u'4'}"
      ]
     },
     "execution_count": 14,
     "metadata": {},
     "output_type": "execute_result"
    }
   ],
   "source": [
    "#need to remove null keys:\n",
    "del lookup_dict['']\n",
    "lookup_dict"
   ]
  },
  {
   "cell_type": "code",
   "execution_count": 15,
   "metadata": {},
   "outputs": [
    {
     "data": {
      "text/plain": [
       "{u'1': u'Social dev/gender/inclusion',\n",
       " u'10': u'Rural development',\n",
       " u'2': u'Public sector governance',\n",
       " u'4': u'Urban development',\n",
       " u'5': u'Environment and natural resources management',\n",
       " u'7': u'Rule of law',\n",
       " u'8': u'Social protection and risk management'}"
      ]
     },
     "execution_count": 15,
     "metadata": {},
     "output_type": "execute_result"
    }
   ],
   "source": [
    "#invert the keys and values, so codes can be looked up:\n",
    "lookup_dict_inv = {v: k for k, v in lookup_dict.items()}\n",
    "lookup_dict_inv"
   ]
  },
  {
   "cell_type": "code",
   "execution_count": 16,
   "metadata": {},
   "outputs": [],
   "source": [
    "#Def to loop through df, and where 'mjtheme_namecode' is null lookup code \n",
    "#and populate with name:\n",
    "def find_nulls(df):\n",
    "    for d in range(0,len(df)):\n",
    "        name = []\n",
    "        if (df.loc[d,'mjtheme_namecode'][0]['name'] == ''):\n",
    "            code = df.loc[d]['mjtheme_namecode'][0]['code']\n",
    "            if code in lookup_dict_inv:\n",
    "                name = lookup_dict_inv[code]#list({k if v == code else 'Unknown': k for (k,v) in lookup_dict.items()})\n",
    "            else:\n",
    "                name = 'missing'\n",
    "            df.loc[d,'mjtheme'] = name\n",
    "            df.loc[d,'mjtheme_namecode'][0]['name'] = name"
   ]
  },
  {
   "cell_type": "code",
   "execution_count": 17,
   "metadata": {},
   "outputs": [
    {
     "data": {
      "text/plain": [
       "idacommamt                                                      97000000\n",
       "impagency                                     MINISTRY OF COMMUNICATIONS\n",
       "lendinginstr                                    Specific Investment Loan\n",
       "lendinginstrtype                                                      IN\n",
       "lendprojectcost                                                 97000000\n",
       "majorsector_percent    [{u'Percent': 100, u'Name': u'Information and ...\n",
       "mjsector_namecode      [{u'code': u'CX', u'name': u'Information and c...\n",
       "mjtheme                                                              NaN\n",
       "mjtheme_namecode                         [{u'code': u'4', u'name': u''}]\n",
       "mjthemecode                                                            4\n",
       "Name: 12, dtype: object"
      ]
     },
     "execution_count": 17,
     "metadata": {},
     "output_type": "execute_result"
    }
   ],
   "source": [
    "#11th record, missing mjtheme value, has mjtheme_namecode '4'\n",
    "world_bank_data.iloc[12,15:25]"
   ]
  },
  {
   "cell_type": "code",
   "execution_count": 18,
   "metadata": {},
   "outputs": [],
   "source": [
    "#notice that in this record the 'mjtheme' feature is NaN, as well as the\n",
    "#'name' key value in the dictionary in the 'mjtheme_namecode' feature.\n",
    "\n",
    "find_nulls(world_bank_data)"
   ]
  },
  {
   "cell_type": "code",
   "execution_count": 19,
   "metadata": {},
   "outputs": [
    {
     "data": {
      "text/plain": [
       "idacommamt                                                      97000000\n",
       "impagency                                     MINISTRY OF COMMUNICATIONS\n",
       "lendinginstr                                    Specific Investment Loan\n",
       "lendinginstrtype                                                      IN\n",
       "lendprojectcost                                                 97000000\n",
       "majorsector_percent    [{u'Percent': 100, u'Name': u'Information and ...\n",
       "mjsector_namecode      [{u'code': u'CX', u'name': u'Information and c...\n",
       "mjtheme                                                Urban development\n",
       "mjtheme_namecode        [{u'code': u'4', u'name': u'Urban development'}]\n",
       "mjthemecode                                                            4\n",
       "Name: 12, dtype: object"
      ]
     },
     "execution_count": 19,
     "metadata": {},
     "output_type": "execute_result"
    }
   ],
   "source": [
    "world_bank_data.iloc[12,15:25]"
   ]
  },
  {
   "cell_type": "code",
   "execution_count": 20,
   "metadata": {},
   "outputs": [
    {
     "data": {
      "text/plain": [
       "0"
      ]
     },
     "execution_count": 20,
     "metadata": {},
     "output_type": "execute_result"
    }
   ],
   "source": [
    "#re-query to see if all names are now filled in:\n",
    "count_nulls = 0\n",
    "for d in range(0,len(world_bank_data)):\n",
    "    if (world_bank_data.loc[d,'mjtheme_namecode'][0]['name'] == ''):\n",
    "        count_nulls+=1\n",
    "count_nulls"
   ]
  },
  {
   "cell_type": "code",
   "execution_count": null,
   "metadata": {},
   "outputs": [],
   "source": []
  }
 ],
 "metadata": {
  "kernelspec": {
   "display_name": "Python [default]",
   "language": "python",
   "name": "python2"
  },
  "language_info": {
   "codemirror_mode": {
    "name": "ipython",
    "version": 2
   },
   "file_extension": ".py",
   "mimetype": "text/x-python",
   "name": "python",
   "nbconvert_exporter": "python",
   "pygments_lexer": "ipython2",
   "version": "2.7.15"
  }
 },
 "nbformat": 4,
 "nbformat_minor": 2
}
