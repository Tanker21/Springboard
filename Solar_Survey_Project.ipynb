{
 "cells": [
  {
   "cell_type": "markdown",
   "metadata": {},
   "source": [
    "# Predictive Analysis to determine the most likely potential future customers\n",
    "\n",
    "## Objective:\n",
    "To predict the most likely potential future customers to focus on, thus improving and sales efforts, lowering costs, and increase success.\n",
    "<br>Springboard Capstone Project\n",
    "<br>Matthew Walker\n",
    "<br>22 Sept 2018"
   ]
  },
  {
   "cell_type": "markdown",
   "metadata": {},
   "source": [
    "### Data Story:\n",
    "\n",
    "#### Background:\n",
    "There is a uptrend in residential solar photovoltaic array system in the past few years, and the industry is very competitive.  Companies are looking for any way to reduce costs and show their systems as cost effective compared to traditional electricity, and also to be competitive in the marketplace.\n",
    "One of the largest costs for these companies is advertising and aquiring new customers.  Tesla for example has elimenated door to door sales for cost reasons, and is looking for cheaper, more effective ways of obtaining new customers.\n",
    "If there were a way to identify potential future purchasers of solar array systems, I believe this could reduce costs by focusing sales efforts on this group of households, for a better return on sales efforts.\n",
    "\n",
    "I found three datasets of surveys filled out by three different groups of households: \n",
    "    1. Adopters, households that have already purchased systems\n",
    "    2. Considerers, households who have not yet purchased systems, but who are open to the idea and have looked into it\n",
    "    3. GPS or G group, households that have not considered or looked into purchasing solar\n",
    "\n",
    "My initial hypothesis about this data is that from the answers of those people that have purchased systems, there may be patterns that predict if other households are more likely to purchase.\n",
    "I am thinking that with the two different datasets of households that did not yet purchase, I may see the considerers more closely correlated to the adopters answers, thus more likely to purchase in the future.\n",
    "I need to determine which questions on the survey seem to be statistically significant and correlated to purchasing than others, and see if I can find similar patterns in the other datasets.\n",
    "Questions:\n",
    "    1. Is there a pattern to the adopters questions that can be used to predict future purchases?\n",
    "    2. Does either the C group or G group show more correlation to the A group, and thus more likely to purchase in the future?\n",
    "    3. Can I see these correlations or patterns in plots of these datasets?\n",
    "    4. What insights can I gleen from these plots?\n",
    "    5. Which features seem to be more important in predicting purchasing?\n",
    "    \n",
    "The following is my exploratory notebook into these questions."
   ]
  },
  {
   "cell_type": "markdown",
   "metadata": {},
   "source": [
    "Location of data: \n",
    "<br>https://openei.org/doe-opendata/dataset/understanding-the-evolution-of-customer-motivations-and-adoption-barriers-in-residential-solar-mar71 \n",
    "\n",
    "alternate location:\n",
    "https://data.nrel.gov/submissions/68"
   ]
  },
  {
   "cell_type": "code",
   "execution_count": 1,
   "metadata": {},
   "outputs": [],
   "source": [
    "#import packages\n",
    "import numpy as np\n",
    "import pandas as pd\n",
    "import seaborn as sns\n",
    "import matplotlib.pyplot as plt\n",
    "%matplotlib inline\n",
    "import  pylab as p\n",
    "from pylab import rcParams\n",
    "import scipy.stats as stats"
   ]
  },
  {
   "cell_type": "code",
   "execution_count": 2,
   "metadata": {},
   "outputs": [],
   "source": [
    "#bring in the datasets for adopter (has solar), considerer(thought about buying), and gps(have not thought of \n",
    "adopter= pd.read_csv(r'C:\\Users\\mattw\\Documents\\Coding\\Jupyter_Notebooks\\Springboard\\Solar_Survey_Capstone\\data\\ADOPTER.csv')\n",
    "considerer = pd.read_csv(r'C:\\Users\\mattw\\Documents\\Coding\\Jupyter_Notebooks\\Springboard\\Solar_Survey_Capstone\\data\\CONSIDERER.csv')\n",
    "gps= pd.read_csv(r'C:\\Users\\mattw\\Documents\\Coding\\Jupyter_Notebooks\\Springboard\\Solar_Survey_Capstone\\data\\GPS.csv')"
   ]
  },
  {
   "cell_type": "code",
   "execution_count": 3,
   "metadata": {},
   "outputs": [
    {
     "data": {
      "text/html": [
       "<div>\n",
       "<style scoped>\n",
       "    .dataframe tbody tr th:only-of-type {\n",
       "        vertical-align: middle;\n",
       "    }\n",
       "\n",
       "    .dataframe tbody tr th {\n",
       "        vertical-align: top;\n",
       "    }\n",
       "\n",
       "    .dataframe thead th {\n",
       "        text-align: right;\n",
       "    }\n",
       "</style>\n",
       "<table border=\"1\" class=\"dataframe\">\n",
       "  <thead>\n",
       "    <tr style=\"text-align: right;\">\n",
       "      <th></th>\n",
       "      <th>CASE_ID</th>\n",
       "      <th>GPS_NAC_ADOPTER</th>\n",
       "      <th>SURVEY_SOURCE</th>\n",
       "      <th>STATE</th>\n",
       "      <th>HOME</th>\n",
       "      <th>HAVESOLAR</th>\n",
       "      <th>CONSIDEREDSOLAR</th>\n",
       "      <th>CONSIDER_SERIOUSLY</th>\n",
       "      <th>CONSIDER_ACTN1</th>\n",
       "      <th>CONSIDER_ACTN2</th>\n",
       "      <th>...</th>\n",
       "      <th>HAVE_KIDS</th>\n",
       "      <th>GENDER</th>\n",
       "      <th>AGE_BINNED</th>\n",
       "      <th>EDUC_BINNED</th>\n",
       "      <th>FINANCIAL</th>\n",
       "      <th>INCOME_BINNED</th>\n",
       "      <th>RETIRED</th>\n",
       "      <th>RETIRED_LAST5YRS</th>\n",
       "      <th>RETIRE_WHEN</th>\n",
       "      <th>RETIRE_WHEN_BINNED</th>\n",
       "    </tr>\n",
       "  </thead>\n",
       "  <tbody>\n",
       "    <tr>\n",
       "      <th>0</th>\n",
       "      <td>2946</td>\n",
       "      <td>2</td>\n",
       "      <td>4</td>\n",
       "      <td>2</td>\n",
       "      <td>NaN</td>\n",
       "      <td>2</td>\n",
       "      <td>1</td>\n",
       "      <td>3</td>\n",
       "      <td>1</td>\n",
       "      <td>0</td>\n",
       "      <td>...</td>\n",
       "      <td>1</td>\n",
       "      <td>1</td>\n",
       "      <td>1.0</td>\n",
       "      <td>3</td>\n",
       "      <td>3</td>\n",
       "      <td>4</td>\n",
       "      <td>0</td>\n",
       "      <td>NaN</td>\n",
       "      <td>1.0</td>\n",
       "      <td>6.0</td>\n",
       "    </tr>\n",
       "    <tr>\n",
       "      <th>1</th>\n",
       "      <td>2947</td>\n",
       "      <td>2</td>\n",
       "      <td>4</td>\n",
       "      <td>3</td>\n",
       "      <td>NaN</td>\n",
       "      <td>2</td>\n",
       "      <td>1</td>\n",
       "      <td>2</td>\n",
       "      <td>1</td>\n",
       "      <td>1</td>\n",
       "      <td>...</td>\n",
       "      <td>1</td>\n",
       "      <td>0</td>\n",
       "      <td>2.0</td>\n",
       "      <td>2</td>\n",
       "      <td>1</td>\n",
       "      <td>4</td>\n",
       "      <td>0</td>\n",
       "      <td>NaN</td>\n",
       "      <td>1.0</td>\n",
       "      <td>5.0</td>\n",
       "    </tr>\n",
       "    <tr>\n",
       "      <th>2</th>\n",
       "      <td>2948</td>\n",
       "      <td>2</td>\n",
       "      <td>4</td>\n",
       "      <td>4</td>\n",
       "      <td>NaN</td>\n",
       "      <td>2</td>\n",
       "      <td>1</td>\n",
       "      <td>3</td>\n",
       "      <td>1</td>\n",
       "      <td>0</td>\n",
       "      <td>...</td>\n",
       "      <td>0</td>\n",
       "      <td>1</td>\n",
       "      <td>4.0</td>\n",
       "      <td>4</td>\n",
       "      <td>1</td>\n",
       "      <td>3</td>\n",
       "      <td>0</td>\n",
       "      <td>NaN</td>\n",
       "      <td>2.0</td>\n",
       "      <td>NaN</td>\n",
       "    </tr>\n",
       "    <tr>\n",
       "      <th>3</th>\n",
       "      <td>2949</td>\n",
       "      <td>2</td>\n",
       "      <td>4</td>\n",
       "      <td>4</td>\n",
       "      <td>NaN</td>\n",
       "      <td>2</td>\n",
       "      <td>1</td>\n",
       "      <td>3</td>\n",
       "      <td>1</td>\n",
       "      <td>1</td>\n",
       "      <td>...</td>\n",
       "      <td>0</td>\n",
       "      <td>0</td>\n",
       "      <td>3.0</td>\n",
       "      <td>1</td>\n",
       "      <td>2</td>\n",
       "      <td>4</td>\n",
       "      <td>1</td>\n",
       "      <td>0.0</td>\n",
       "      <td>NaN</td>\n",
       "      <td>NaN</td>\n",
       "    </tr>\n",
       "    <tr>\n",
       "      <th>4</th>\n",
       "      <td>2950</td>\n",
       "      <td>2</td>\n",
       "      <td>4</td>\n",
       "      <td>2</td>\n",
       "      <td>NaN</td>\n",
       "      <td>2</td>\n",
       "      <td>1</td>\n",
       "      <td>2</td>\n",
       "      <td>0</td>\n",
       "      <td>0</td>\n",
       "      <td>...</td>\n",
       "      <td>0</td>\n",
       "      <td>0</td>\n",
       "      <td>4.0</td>\n",
       "      <td>3</td>\n",
       "      <td>1</td>\n",
       "      <td>2</td>\n",
       "      <td>1</td>\n",
       "      <td>0.0</td>\n",
       "      <td>NaN</td>\n",
       "      <td>NaN</td>\n",
       "    </tr>\n",
       "  </tbody>\n",
       "</table>\n",
       "<p>5 rows × 201 columns</p>\n",
       "</div>"
      ],
      "text/plain": [
       "   CASE_ID  GPS_NAC_ADOPTER  SURVEY_SOURCE  STATE  HOME  HAVESOLAR  \\\n",
       "0     2946                2              4      2   NaN          2   \n",
       "1     2947                2              4      3   NaN          2   \n",
       "2     2948                2              4      4   NaN          2   \n",
       "3     2949                2              4      4   NaN          2   \n",
       "4     2950                2              4      2   NaN          2   \n",
       "\n",
       "   CONSIDEREDSOLAR  CONSIDER_SERIOUSLY  CONSIDER_ACTN1  CONSIDER_ACTN2  \\\n",
       "0                1                   3               1               0   \n",
       "1                1                   2               1               1   \n",
       "2                1                   3               1               0   \n",
       "3                1                   3               1               1   \n",
       "4                1                   2               0               0   \n",
       "\n",
       "          ...          HAVE_KIDS  GENDER  AGE_BINNED  EDUC_BINNED  FINANCIAL  \\\n",
       "0         ...                  1       1         1.0            3          3   \n",
       "1         ...                  1       0         2.0            2          1   \n",
       "2         ...                  0       1         4.0            4          1   \n",
       "3         ...                  0       0         3.0            1          2   \n",
       "4         ...                  0       0         4.0            3          1   \n",
       "\n",
       "   INCOME_BINNED  RETIRED  RETIRED_LAST5YRS  RETIRE_WHEN  RETIRE_WHEN_BINNED  \n",
       "0              4        0               NaN          1.0                 6.0  \n",
       "1              4        0               NaN          1.0                 5.0  \n",
       "2              3        0               NaN          2.0                 NaN  \n",
       "3              4        1               0.0          NaN                 NaN  \n",
       "4              2        1               0.0          NaN                 NaN  \n",
       "\n",
       "[5 rows x 201 columns]"
      ]
     },
     "execution_count": 3,
     "metadata": {},
     "output_type": "execute_result"
    }
   ],
   "source": [
    "considerer.head()"
   ]
  },
  {
   "cell_type": "code",
   "execution_count": 4,
   "metadata": {},
   "outputs": [
    {
     "data": {
      "text/plain": [
       "(588, 201)"
      ]
     },
     "execution_count": 4,
     "metadata": {},
     "output_type": "execute_result"
    }
   ],
   "source": [
    "considerer.shape"
   ]
  },
  {
   "cell_type": "code",
   "execution_count": 5,
   "metadata": {},
   "outputs": [
    {
     "data": {
      "text/html": [
       "<div>\n",
       "<style scoped>\n",
       "    .dataframe tbody tr th:only-of-type {\n",
       "        vertical-align: middle;\n",
       "    }\n",
       "\n",
       "    .dataframe tbody tr th {\n",
       "        vertical-align: top;\n",
       "    }\n",
       "\n",
       "    .dataframe thead th {\n",
       "        text-align: right;\n",
       "    }\n",
       "</style>\n",
       "<table border=\"1\" class=\"dataframe\">\n",
       "  <thead>\n",
       "    <tr style=\"text-align: right;\">\n",
       "      <th></th>\n",
       "      <th>CASE_ID</th>\n",
       "      <th>GPS_NAC_ADOPTER</th>\n",
       "      <th>SURVEY_SOURCE</th>\n",
       "      <th>STATE</th>\n",
       "      <th>HOME</th>\n",
       "      <th>HAVESOLAR</th>\n",
       "      <th>PROMPT1</th>\n",
       "      <th>PROMPT2</th>\n",
       "      <th>PROMPT3</th>\n",
       "      <th>PROMPT4</th>\n",
       "      <th>...</th>\n",
       "      <th>HAVE_KIDS</th>\n",
       "      <th>GENDER</th>\n",
       "      <th>AGE_BINNED</th>\n",
       "      <th>EDUC_BINNED</th>\n",
       "      <th>FINANCIAL</th>\n",
       "      <th>INCOME_BINNED</th>\n",
       "      <th>RETIRED</th>\n",
       "      <th>RETIRED_LAST5YRS</th>\n",
       "      <th>RETIRE_WHEN</th>\n",
       "      <th>RETIRE_WHEN_BINNED</th>\n",
       "    </tr>\n",
       "  </thead>\n",
       "  <tbody>\n",
       "    <tr>\n",
       "      <th>0</th>\n",
       "      <td>1342</td>\n",
       "      <td>3</td>\n",
       "      <td>2</td>\n",
       "      <td>4</td>\n",
       "      <td>NaN</td>\n",
       "      <td>1</td>\n",
       "      <td>0</td>\n",
       "      <td>0</td>\n",
       "      <td>1</td>\n",
       "      <td>0</td>\n",
       "      <td>...</td>\n",
       "      <td>0.0</td>\n",
       "      <td>0.0</td>\n",
       "      <td>4.0</td>\n",
       "      <td>4.0</td>\n",
       "      <td>2</td>\n",
       "      <td>5.0</td>\n",
       "      <td>1</td>\n",
       "      <td>1.0</td>\n",
       "      <td>NaN</td>\n",
       "      <td>NaN</td>\n",
       "    </tr>\n",
       "    <tr>\n",
       "      <th>1</th>\n",
       "      <td>1343</td>\n",
       "      <td>3</td>\n",
       "      <td>2</td>\n",
       "      <td>4</td>\n",
       "      <td>NaN</td>\n",
       "      <td>1</td>\n",
       "      <td>1</td>\n",
       "      <td>0</td>\n",
       "      <td>1</td>\n",
       "      <td>0</td>\n",
       "      <td>...</td>\n",
       "      <td>0.0</td>\n",
       "      <td>0.0</td>\n",
       "      <td>4.0</td>\n",
       "      <td>2.0</td>\n",
       "      <td>1</td>\n",
       "      <td>4.0</td>\n",
       "      <td>0</td>\n",
       "      <td>NaN</td>\n",
       "      <td>98.0</td>\n",
       "      <td>NaN</td>\n",
       "    </tr>\n",
       "    <tr>\n",
       "      <th>2</th>\n",
       "      <td>1344</td>\n",
       "      <td>3</td>\n",
       "      <td>2</td>\n",
       "      <td>4</td>\n",
       "      <td>NaN</td>\n",
       "      <td>1</td>\n",
       "      <td>0</td>\n",
       "      <td>0</td>\n",
       "      <td>0</td>\n",
       "      <td>0</td>\n",
       "      <td>...</td>\n",
       "      <td>99.0</td>\n",
       "      <td>99.0</td>\n",
       "      <td>NaN</td>\n",
       "      <td>99.0</td>\n",
       "      <td>99</td>\n",
       "      <td>99.0</td>\n",
       "      <td>99</td>\n",
       "      <td>NaN</td>\n",
       "      <td>NaN</td>\n",
       "      <td>NaN</td>\n",
       "    </tr>\n",
       "    <tr>\n",
       "      <th>3</th>\n",
       "      <td>1345</td>\n",
       "      <td>3</td>\n",
       "      <td>2</td>\n",
       "      <td>4</td>\n",
       "      <td>NaN</td>\n",
       "      <td>1</td>\n",
       "      <td>0</td>\n",
       "      <td>0</td>\n",
       "      <td>1</td>\n",
       "      <td>0</td>\n",
       "      <td>...</td>\n",
       "      <td>1.0</td>\n",
       "      <td>0.0</td>\n",
       "      <td>2.0</td>\n",
       "      <td>2.0</td>\n",
       "      <td>2</td>\n",
       "      <td>3.0</td>\n",
       "      <td>0</td>\n",
       "      <td>NaN</td>\n",
       "      <td>98.0</td>\n",
       "      <td>NaN</td>\n",
       "    </tr>\n",
       "    <tr>\n",
       "      <th>4</th>\n",
       "      <td>1346</td>\n",
       "      <td>3</td>\n",
       "      <td>2</td>\n",
       "      <td>4</td>\n",
       "      <td>NaN</td>\n",
       "      <td>1</td>\n",
       "      <td>0</td>\n",
       "      <td>0</td>\n",
       "      <td>1</td>\n",
       "      <td>0</td>\n",
       "      <td>...</td>\n",
       "      <td>0.0</td>\n",
       "      <td>1.0</td>\n",
       "      <td>2.0</td>\n",
       "      <td>2.0</td>\n",
       "      <td>2</td>\n",
       "      <td>1.0</td>\n",
       "      <td>0</td>\n",
       "      <td>NaN</td>\n",
       "      <td>98.0</td>\n",
       "      <td>NaN</td>\n",
       "    </tr>\n",
       "  </tbody>\n",
       "</table>\n",
       "<p>5 rows × 255 columns</p>\n",
       "</div>"
      ],
      "text/plain": [
       "   CASE_ID  GPS_NAC_ADOPTER  SURVEY_SOURCE  STATE  HOME  HAVESOLAR  PROMPT1  \\\n",
       "0     1342                3              2      4   NaN          1        0   \n",
       "1     1343                3              2      4   NaN          1        1   \n",
       "2     1344                3              2      4   NaN          1        0   \n",
       "3     1345                3              2      4   NaN          1        0   \n",
       "4     1346                3              2      4   NaN          1        0   \n",
       "\n",
       "   PROMPT2  PROMPT3  PROMPT4         ...          HAVE_KIDS  GENDER  \\\n",
       "0        0        1        0         ...                0.0     0.0   \n",
       "1        0        1        0         ...                0.0     0.0   \n",
       "2        0        0        0         ...               99.0    99.0   \n",
       "3        0        1        0         ...                1.0     0.0   \n",
       "4        0        1        0         ...                0.0     1.0   \n",
       "\n",
       "   AGE_BINNED  EDUC_BINNED  FINANCIAL  INCOME_BINNED  RETIRED  \\\n",
       "0         4.0          4.0          2            5.0        1   \n",
       "1         4.0          2.0          1            4.0        0   \n",
       "2         NaN         99.0         99           99.0       99   \n",
       "3         2.0          2.0          2            3.0        0   \n",
       "4         2.0          2.0          2            1.0        0   \n",
       "\n",
       "   RETIRED_LAST5YRS  RETIRE_WHEN  RETIRE_WHEN_BINNED  \n",
       "0               1.0          NaN                 NaN  \n",
       "1               NaN         98.0                 NaN  \n",
       "2               NaN          NaN                 NaN  \n",
       "3               NaN         98.0                 NaN  \n",
       "4               NaN         98.0                 NaN  \n",
       "\n",
       "[5 rows x 255 columns]"
      ]
     },
     "execution_count": 5,
     "metadata": {},
     "output_type": "execute_result"
    }
   ],
   "source": [
    "adopter.head()"
   ]
  },
  {
   "cell_type": "code",
   "execution_count": 6,
   "metadata": {},
   "outputs": [
    {
     "data": {
      "text/plain": [
       "(1604, 255)"
      ]
     },
     "execution_count": 6,
     "metadata": {},
     "output_type": "execute_result"
    }
   ],
   "source": [
    "adopter.shape"
   ]
  },
  {
   "cell_type": "code",
   "execution_count": 7,
   "metadata": {},
   "outputs": [
    {
     "data": {
      "text/html": [
       "<div>\n",
       "<style scoped>\n",
       "    .dataframe tbody tr th:only-of-type {\n",
       "        vertical-align: middle;\n",
       "    }\n",
       "\n",
       "    .dataframe tbody tr th {\n",
       "        vertical-align: top;\n",
       "    }\n",
       "\n",
       "    .dataframe thead th {\n",
       "        text-align: right;\n",
       "    }\n",
       "</style>\n",
       "<table border=\"1\" class=\"dataframe\">\n",
       "  <thead>\n",
       "    <tr style=\"text-align: right;\">\n",
       "      <th></th>\n",
       "      <th>CASE_ID</th>\n",
       "      <th>GPS_NAC_ADOPTER</th>\n",
       "      <th>SURVEY_SOURCE</th>\n",
       "      <th>HOME</th>\n",
       "      <th>STATE</th>\n",
       "      <th>AGE_BINNED</th>\n",
       "      <th>EDUC_BINNED</th>\n",
       "      <th>F1</th>\n",
       "      <th>F2</th>\n",
       "      <th>TRIG1</th>\n",
       "      <th>...</th>\n",
       "      <th>SQFT_BINNED</th>\n",
       "      <th>GENDER</th>\n",
       "      <th>PEOPLE_TOT_3PLUS</th>\n",
       "      <th>HAVE_KIDS</th>\n",
       "      <th>EMPLOY_1</th>\n",
       "      <th>EMPLOY_2</th>\n",
       "      <th>EMPLOY_5</th>\n",
       "      <th>RETIRED</th>\n",
       "      <th>FINANCIAL</th>\n",
       "      <th>INCOME_BINNED</th>\n",
       "    </tr>\n",
       "  </thead>\n",
       "  <tbody>\n",
       "    <tr>\n",
       "      <th>0</th>\n",
       "      <td>1</td>\n",
       "      <td>1</td>\n",
       "      <td>1</td>\n",
       "      <td>1</td>\n",
       "      <td>1</td>\n",
       "      <td>4.0</td>\n",
       "      <td>4</td>\n",
       "      <td>1</td>\n",
       "      <td>0</td>\n",
       "      <td>0</td>\n",
       "      <td>...</td>\n",
       "      <td>3</td>\n",
       "      <td>0</td>\n",
       "      <td>0.0</td>\n",
       "      <td>0</td>\n",
       "      <td>0</td>\n",
       "      <td>0</td>\n",
       "      <td>0</td>\n",
       "      <td>1</td>\n",
       "      <td>2</td>\n",
       "      <td>3</td>\n",
       "    </tr>\n",
       "    <tr>\n",
       "      <th>1</th>\n",
       "      <td>2</td>\n",
       "      <td>1</td>\n",
       "      <td>1</td>\n",
       "      <td>1</td>\n",
       "      <td>4</td>\n",
       "      <td>3.0</td>\n",
       "      <td>4</td>\n",
       "      <td>1</td>\n",
       "      <td>1</td>\n",
       "      <td>0</td>\n",
       "      <td>...</td>\n",
       "      <td>3</td>\n",
       "      <td>1</td>\n",
       "      <td>0.0</td>\n",
       "      <td>0</td>\n",
       "      <td>1</td>\n",
       "      <td>0</td>\n",
       "      <td>0</td>\n",
       "      <td>0</td>\n",
       "      <td>2</td>\n",
       "      <td>4</td>\n",
       "    </tr>\n",
       "    <tr>\n",
       "      <th>2</th>\n",
       "      <td>3</td>\n",
       "      <td>1</td>\n",
       "      <td>1</td>\n",
       "      <td>1</td>\n",
       "      <td>2</td>\n",
       "      <td>4.0</td>\n",
       "      <td>1</td>\n",
       "      <td>1</td>\n",
       "      <td>1</td>\n",
       "      <td>0</td>\n",
       "      <td>...</td>\n",
       "      <td>4</td>\n",
       "      <td>0</td>\n",
       "      <td>0.0</td>\n",
       "      <td>0</td>\n",
       "      <td>0</td>\n",
       "      <td>0</td>\n",
       "      <td>0</td>\n",
       "      <td>1</td>\n",
       "      <td>1</td>\n",
       "      <td>95</td>\n",
       "    </tr>\n",
       "    <tr>\n",
       "      <th>3</th>\n",
       "      <td>4</td>\n",
       "      <td>1</td>\n",
       "      <td>1</td>\n",
       "      <td>1</td>\n",
       "      <td>4</td>\n",
       "      <td>4.0</td>\n",
       "      <td>2</td>\n",
       "      <td>0</td>\n",
       "      <td>1</td>\n",
       "      <td>1</td>\n",
       "      <td>...</td>\n",
       "      <td>2</td>\n",
       "      <td>0</td>\n",
       "      <td>0.0</td>\n",
       "      <td>0</td>\n",
       "      <td>0</td>\n",
       "      <td>0</td>\n",
       "      <td>0</td>\n",
       "      <td>1</td>\n",
       "      <td>1</td>\n",
       "      <td>4</td>\n",
       "    </tr>\n",
       "    <tr>\n",
       "      <th>4</th>\n",
       "      <td>5</td>\n",
       "      <td>1</td>\n",
       "      <td>1</td>\n",
       "      <td>1</td>\n",
       "      <td>4</td>\n",
       "      <td>4.0</td>\n",
       "      <td>1</td>\n",
       "      <td>0</td>\n",
       "      <td>1</td>\n",
       "      <td>1</td>\n",
       "      <td>...</td>\n",
       "      <td>3</td>\n",
       "      <td>0</td>\n",
       "      <td>0.0</td>\n",
       "      <td>0</td>\n",
       "      <td>0</td>\n",
       "      <td>0</td>\n",
       "      <td>0</td>\n",
       "      <td>1</td>\n",
       "      <td>2</td>\n",
       "      <td>3</td>\n",
       "    </tr>\n",
       "  </tbody>\n",
       "</table>\n",
       "<p>5 rows × 123 columns</p>\n",
       "</div>"
      ],
      "text/plain": [
       "   CASE_ID  GPS_NAC_ADOPTER  SURVEY_SOURCE  HOME  STATE  AGE_BINNED  \\\n",
       "0        1                1              1     1      1         4.0   \n",
       "1        2                1              1     1      4         3.0   \n",
       "2        3                1              1     1      2         4.0   \n",
       "3        4                1              1     1      4         4.0   \n",
       "4        5                1              1     1      4         4.0   \n",
       "\n",
       "   EDUC_BINNED  F1  F2  TRIG1      ...        SQFT_BINNED  GENDER  \\\n",
       "0            4   1   0      0      ...                  3       0   \n",
       "1            4   1   1      0      ...                  3       1   \n",
       "2            1   1   1      0      ...                  4       0   \n",
       "3            2   0   1      1      ...                  2       0   \n",
       "4            1   0   1      1      ...                  3       0   \n",
       "\n",
       "   PEOPLE_TOT_3PLUS  HAVE_KIDS  EMPLOY_1  EMPLOY_2  EMPLOY_5  RETIRED  \\\n",
       "0               0.0          0         0         0         0        1   \n",
       "1               0.0          0         1         0         0        0   \n",
       "2               0.0          0         0         0         0        1   \n",
       "3               0.0          0         0         0         0        1   \n",
       "4               0.0          0         0         0         0        1   \n",
       "\n",
       "   FINANCIAL  INCOME_BINNED  \n",
       "0          2              3  \n",
       "1          2              4  \n",
       "2          1             95  \n",
       "3          1              4  \n",
       "4          2              3  \n",
       "\n",
       "[5 rows x 123 columns]"
      ]
     },
     "execution_count": 7,
     "metadata": {},
     "output_type": "execute_result"
    }
   ],
   "source": [
    "gps.head()"
   ]
  },
  {
   "cell_type": "code",
   "execution_count": 8,
   "metadata": {},
   "outputs": [
    {
     "data": {
      "text/plain": [
       "(1341, 123)"
      ]
     },
     "execution_count": 8,
     "metadata": {},
     "output_type": "execute_result"
    }
   ],
   "source": [
    "gps.shape"
   ]
  },
  {
   "cell_type": "markdown",
   "metadata": {},
   "source": [
    "#### Each dataset has a different number of columns. I need to find out which columns they all have in common, so as to compare them."
   ]
  },
  {
   "cell_type": "code",
   "execution_count": 9,
   "metadata": {},
   "outputs": [],
   "source": [
    "#find out how many columns are in all datasets (adopter, considerer and gps)\n",
    "c_index = considerer.columns\n",
    "a_index = adopter.columns\n",
    "a_c_cols = c_index.intersection(a_index)"
   ]
  },
  {
   "cell_type": "code",
   "execution_count": 10,
   "metadata": {},
   "outputs": [
    {
     "data": {
      "text/plain": [
       "Index(['CASE_ID', 'GPS_NAC_ADOPTER', 'SURVEY_SOURCE', 'STATE', 'HOME',\n",
       "       'HAVESOLAR', 'PROMPT1', 'PROMPT2', 'PROMPT3', 'PROMPT4',\n",
       "       ...\n",
       "       'HAVE_KIDS', 'GENDER', 'AGE_BINNED', 'EDUC_BINNED', 'FINANCIAL',\n",
       "       'INCOME_BINNED', 'RETIRED', 'RETIRED_LAST5YRS', 'RETIRE_WHEN',\n",
       "       'RETIRE_WHEN_BINNED'],\n",
       "      dtype='object', length=142)"
      ]
     },
     "execution_count": 10,
     "metadata": {},
     "output_type": "execute_result"
    }
   ],
   "source": [
    "#columns in common in a and c datasets\n",
    "a_c_cols"
   ]
  },
  {
   "cell_type": "code",
   "execution_count": 11,
   "metadata": {},
   "outputs": [],
   "source": [
    "#do the same for the gps dataset\n",
    "g_index = gps.columns\n",
    "a_c_g_cols = a_c_cols.intersection(g_index)"
   ]
  },
  {
   "cell_type": "code",
   "execution_count": 12,
   "metadata": {},
   "outputs": [
    {
     "data": {
      "text/plain": [
       "Index(['CASE_ID', 'GPS_NAC_ADOPTER', 'SURVEY_SOURCE', 'STATE', 'HOME',\n",
       "       'WINTER_NOPV_BINNED', 'SUMMER_NOPV_BINNED', 'PN1', 'PN2', 'PN3', 'E2',\n",
       "       'BB1', 'BB2', 'BB3', 'BTE8', 'BE13', 'BE10', 'Co3', 'VB1', 'VB2', 'VB3',\n",
       "       'VA1', 'VA2', 'VA3', 'VT1', 'VT2', 'VT3', 'VE1', 'VE2', 'VE4', 'VO1',\n",
       "       'VO2', 'VO3', 'CIJM1', 'CIJM2', 'CIJM3', 'CNS1', 'CNS2', 'CNS4',\n",
       "       'SQFT_BINNED', 'STANCE', 'PEOPLE_TOT_3PLUS', 'HAVE_KIDS', 'GENDER',\n",
       "       'AGE_BINNED', 'EDUC_BINNED', 'FINANCIAL', 'INCOME_BINNED', 'RETIRED'],\n",
       "      dtype='object')"
      ]
     },
     "execution_count": 12,
     "metadata": {},
     "output_type": "execute_result"
    }
   ],
   "source": [
    "#columns in common in all three datasets\n",
    "a_c_g_cols"
   ]
  },
  {
   "cell_type": "code",
   "execution_count": 13,
   "metadata": {},
   "outputs": [
    {
     "data": {
      "text/plain": [
       "49"
      ]
     },
     "execution_count": 13,
     "metadata": {},
     "output_type": "execute_result"
    }
   ],
   "source": [
    "#how many features are in all three datasets\n",
    "a_c_g_cols.value_counts().sum() "
   ]
  },
  {
   "cell_type": "code",
   "execution_count": 14,
   "metadata": {},
   "outputs": [
    {
     "data": {
      "text/plain": [
       "array(['CASE_ID', 'GPS_NAC_ADOPTER', 'SURVEY_SOURCE', 'STATE', 'HOME',\n",
       "       'WINTER_NOPV_BINNED', 'SUMMER_NOPV_BINNED', 'PN1', 'PN2', 'PN3',\n",
       "       'E2', 'BB1', 'BB2', 'BB3', 'BTE8', 'BE13', 'BE10', 'Co3', 'VB1',\n",
       "       'VB2', 'VB3', 'VA1', 'VA2', 'VA3', 'VT1', 'VT2', 'VT3', 'VE1',\n",
       "       'VE2', 'VE4', 'VO1', 'VO2', 'VO3', 'CIJM1', 'CIJM2', 'CIJM3',\n",
       "       'CNS1', 'CNS2', 'CNS4', 'SQFT_BINNED', 'STANCE',\n",
       "       'PEOPLE_TOT_3PLUS', 'HAVE_KIDS', 'GENDER', 'AGE_BINNED',\n",
       "       'EDUC_BINNED', 'FINANCIAL', 'INCOME_BINNED', 'RETIRED'],\n",
       "      dtype=object)"
      ]
     },
     "execution_count": 14,
     "metadata": {},
     "output_type": "execute_result"
    }
   ],
   "source": [
    "#create new datasets with dropped columns, so only comparable columns exist\n",
    "a_comparable = adopter[a_c_g_cols] #should now contain only relatable columns, repeat for c and c datasets\n",
    "c_comparable = considerer[a_c_g_cols]\n",
    "g_comparable = gps[a_c_g_cols]\n",
    "\n",
    "a_c_g_cols_ar = np.array(a_c_g_cols)\n",
    "a_c_g_cols_ar #may not need this, but found it difficult to work with an index object..."
   ]
  },
  {
   "cell_type": "code",
   "execution_count": 15,
   "metadata": {},
   "outputs": [
    {
     "data": {
      "text/html": [
       "<div>\n",
       "<style scoped>\n",
       "    .dataframe tbody tr th:only-of-type {\n",
       "        vertical-align: middle;\n",
       "    }\n",
       "\n",
       "    .dataframe tbody tr th {\n",
       "        vertical-align: top;\n",
       "    }\n",
       "\n",
       "    .dataframe thead th {\n",
       "        text-align: right;\n",
       "    }\n",
       "</style>\n",
       "<table border=\"1\" class=\"dataframe\">\n",
       "  <thead>\n",
       "    <tr style=\"text-align: right;\">\n",
       "      <th></th>\n",
       "      <th>CASE_ID</th>\n",
       "      <th>GPS_NAC_ADOPTER</th>\n",
       "      <th>SURVEY_SOURCE</th>\n",
       "      <th>STATE</th>\n",
       "      <th>HOME</th>\n",
       "      <th>WINTER_NOPV_BINNED</th>\n",
       "      <th>SUMMER_NOPV_BINNED</th>\n",
       "      <th>PN1</th>\n",
       "      <th>PN2</th>\n",
       "      <th>PN3</th>\n",
       "      <th>...</th>\n",
       "      <th>SQFT_BINNED</th>\n",
       "      <th>STANCE</th>\n",
       "      <th>PEOPLE_TOT_3PLUS</th>\n",
       "      <th>HAVE_KIDS</th>\n",
       "      <th>GENDER</th>\n",
       "      <th>AGE_BINNED</th>\n",
       "      <th>EDUC_BINNED</th>\n",
       "      <th>FINANCIAL</th>\n",
       "      <th>INCOME_BINNED</th>\n",
       "      <th>RETIRED</th>\n",
       "    </tr>\n",
       "  </thead>\n",
       "  <tbody>\n",
       "    <tr>\n",
       "      <th>0</th>\n",
       "      <td>1342</td>\n",
       "      <td>3</td>\n",
       "      <td>2</td>\n",
       "      <td>4</td>\n",
       "      <td>NaN</td>\n",
       "      <td>4.0</td>\n",
       "      <td>9.0</td>\n",
       "      <td>4</td>\n",
       "      <td>4</td>\n",
       "      <td>4</td>\n",
       "      <td>...</td>\n",
       "      <td>1.0</td>\n",
       "      <td>2</td>\n",
       "      <td>1.0</td>\n",
       "      <td>0.0</td>\n",
       "      <td>0.0</td>\n",
       "      <td>4.0</td>\n",
       "      <td>4.0</td>\n",
       "      <td>2</td>\n",
       "      <td>5.0</td>\n",
       "      <td>1</td>\n",
       "    </tr>\n",
       "    <tr>\n",
       "      <th>1</th>\n",
       "      <td>1343</td>\n",
       "      <td>3</td>\n",
       "      <td>2</td>\n",
       "      <td>4</td>\n",
       "      <td>NaN</td>\n",
       "      <td>7.0</td>\n",
       "      <td>11.0</td>\n",
       "      <td>4</td>\n",
       "      <td>4</td>\n",
       "      <td>5</td>\n",
       "      <td>...</td>\n",
       "      <td>2.0</td>\n",
       "      <td>5</td>\n",
       "      <td>0.0</td>\n",
       "      <td>0.0</td>\n",
       "      <td>0.0</td>\n",
       "      <td>4.0</td>\n",
       "      <td>2.0</td>\n",
       "      <td>1</td>\n",
       "      <td>4.0</td>\n",
       "      <td>0</td>\n",
       "    </tr>\n",
       "    <tr>\n",
       "      <th>2</th>\n",
       "      <td>1344</td>\n",
       "      <td>3</td>\n",
       "      <td>2</td>\n",
       "      <td>4</td>\n",
       "      <td>NaN</td>\n",
       "      <td>NaN</td>\n",
       "      <td>NaN</td>\n",
       "      <td>4</td>\n",
       "      <td>4</td>\n",
       "      <td>3</td>\n",
       "      <td>...</td>\n",
       "      <td>4.0</td>\n",
       "      <td>90</td>\n",
       "      <td>NaN</td>\n",
       "      <td>99.0</td>\n",
       "      <td>99.0</td>\n",
       "      <td>NaN</td>\n",
       "      <td>99.0</td>\n",
       "      <td>99</td>\n",
       "      <td>99.0</td>\n",
       "      <td>99</td>\n",
       "    </tr>\n",
       "    <tr>\n",
       "      <th>3</th>\n",
       "      <td>1345</td>\n",
       "      <td>3</td>\n",
       "      <td>2</td>\n",
       "      <td>4</td>\n",
       "      <td>NaN</td>\n",
       "      <td>11.0</td>\n",
       "      <td>11.0</td>\n",
       "      <td>1</td>\n",
       "      <td>1</td>\n",
       "      <td>1</td>\n",
       "      <td>...</td>\n",
       "      <td>NaN</td>\n",
       "      <td>5</td>\n",
       "      <td>1.0</td>\n",
       "      <td>1.0</td>\n",
       "      <td>0.0</td>\n",
       "      <td>2.0</td>\n",
       "      <td>2.0</td>\n",
       "      <td>2</td>\n",
       "      <td>3.0</td>\n",
       "      <td>0</td>\n",
       "    </tr>\n",
       "    <tr>\n",
       "      <th>4</th>\n",
       "      <td>1346</td>\n",
       "      <td>3</td>\n",
       "      <td>2</td>\n",
       "      <td>4</td>\n",
       "      <td>NaN</td>\n",
       "      <td>5.0</td>\n",
       "      <td>7.0</td>\n",
       "      <td>5</td>\n",
       "      <td>3</td>\n",
       "      <td>4</td>\n",
       "      <td>...</td>\n",
       "      <td>4.0</td>\n",
       "      <td>3</td>\n",
       "      <td>1.0</td>\n",
       "      <td>0.0</td>\n",
       "      <td>1.0</td>\n",
       "      <td>2.0</td>\n",
       "      <td>2.0</td>\n",
       "      <td>2</td>\n",
       "      <td>1.0</td>\n",
       "      <td>0</td>\n",
       "    </tr>\n",
       "  </tbody>\n",
       "</table>\n",
       "<p>5 rows × 49 columns</p>\n",
       "</div>"
      ],
      "text/plain": [
       "   CASE_ID  GPS_NAC_ADOPTER  SURVEY_SOURCE  STATE  HOME  WINTER_NOPV_BINNED  \\\n",
       "0     1342                3              2      4   NaN                 4.0   \n",
       "1     1343                3              2      4   NaN                 7.0   \n",
       "2     1344                3              2      4   NaN                 NaN   \n",
       "3     1345                3              2      4   NaN                11.0   \n",
       "4     1346                3              2      4   NaN                 5.0   \n",
       "\n",
       "   SUMMER_NOPV_BINNED  PN1  PN2  PN3   ...     SQFT_BINNED  STANCE  \\\n",
       "0                 9.0    4    4    4   ...             1.0       2   \n",
       "1                11.0    4    4    5   ...             2.0       5   \n",
       "2                 NaN    4    4    3   ...             4.0      90   \n",
       "3                11.0    1    1    1   ...             NaN       5   \n",
       "4                 7.0    5    3    4   ...             4.0       3   \n",
       "\n",
       "   PEOPLE_TOT_3PLUS  HAVE_KIDS  GENDER  AGE_BINNED  EDUC_BINNED  FINANCIAL  \\\n",
       "0               1.0        0.0     0.0         4.0          4.0          2   \n",
       "1               0.0        0.0     0.0         4.0          2.0          1   \n",
       "2               NaN       99.0    99.0         NaN         99.0         99   \n",
       "3               1.0        1.0     0.0         2.0          2.0          2   \n",
       "4               1.0        0.0     1.0         2.0          2.0          2   \n",
       "\n",
       "   INCOME_BINNED  RETIRED  \n",
       "0            5.0        1  \n",
       "1            4.0        0  \n",
       "2           99.0       99  \n",
       "3            3.0        0  \n",
       "4            1.0        0  \n",
       "\n",
       "[5 rows x 49 columns]"
      ]
     },
     "execution_count": 15,
     "metadata": {},
     "output_type": "execute_result"
    }
   ],
   "source": [
    "a_comparable.head()"
   ]
  },
  {
   "cell_type": "markdown",
   "metadata": {},
   "source": [
    "#### Investigation into the amount of data missing within the comparable features:"
   ]
  },
  {
   "cell_type": "code",
   "execution_count": 16,
   "metadata": {},
   "outputs": [
    {
     "name": "stdout",
     "output_type": "stream",
     "text": [
      "Percent missing data:\n",
      "HOME                  95.324190\n",
      "WINTER_NOPV_BINNED     8.291771\n",
      "SUMMER_NOPV_BINNED     9.102244\n",
      "SQFT_BINNED           11.221945\n",
      "PEOPLE_TOT_3PLUS       8.728180\n",
      "HAVE_KIDS              0.187032\n",
      "GENDER                 0.561097\n",
      "AGE_BINNED             7.356608\n",
      "EDUC_BINNED            9.289277\n",
      "INCOME_BINNED          3.366584\n",
      "dtype: float64\n"
     ]
    }
   ],
   "source": [
    "#calculate the percent of missing data:\n",
    "#set option to consider inf as missing data:\n",
    "pd.options.mode.use_inf_as_na = True\n",
    "a_comp_nulls = a_comparable.isnull().sum()/len(a_comparable)*100\n",
    "a_comp_nulls = a_comp_nulls[a_comp_nulls !=0] #remove the features that are not missing data\n",
    "print(\"Percent missing data:\")\n",
    "print(a_comp_nulls)"
   ]
  },
  {
   "cell_type": "code",
   "execution_count": 17,
   "metadata": {},
   "outputs": [],
   "source": [
    "#HOME feature missing 95% of data-drop the HOME column\n",
    "a_comparable = a_comparable.drop('HOME', axis=1)"
   ]
  },
  {
   "cell_type": "code",
   "execution_count": 18,
   "metadata": {},
   "outputs": [
    {
     "name": "stdout",
     "output_type": "stream",
     "text": [
      "Count of missing data:\n",
      "WINTER_NOPV_BINNED    133\n",
      "SUMMER_NOPV_BINNED    146\n",
      "SQFT_BINNED           180\n",
      "PEOPLE_TOT_3PLUS      140\n",
      "HAVE_KIDS               3\n",
      "GENDER                  9\n",
      "AGE_BINNED            118\n",
      "EDUC_BINNED           149\n",
      "INCOME_BINNED          54\n",
      "dtype: int64\n"
     ]
    }
   ],
   "source": [
    "#calculate the number of missing data:\n",
    "a_comp_nulls_count = a_comparable.isnull().sum()\n",
    "a_comp_nulls_count = a_comp_nulls_count[a_comp_nulls_count !=0] #remove the features that are not missing data\n",
    "print(\"Count of missing data:\")\n",
    "print(a_comp_nulls_count)"
   ]
  },
  {
   "cell_type": "markdown",
   "metadata": {},
   "source": [
    "#### Some features may be filled in with their mean values"
   ]
  },
  {
   "cell_type": "code",
   "execution_count": 19,
   "metadata": {},
   "outputs": [
    {
     "data": {
      "text/plain": [
       "0"
      ]
     },
     "execution_count": 19,
     "metadata": {},
     "output_type": "execute_result"
    }
   ],
   "source": [
    "#find winter mean\n",
    "a_winter_mean = a_comparable.WINTER_NOPV_BINNED.mean()\n",
    "#fill in missing data with mean\n",
    "a_comparable.WINTER_NOPV_BINNED.fillna(a_winter_mean, inplace=True)\n",
    "#get a count (to see if fill worked)\n",
    "a_comparable['WINTER_NOPV_BINNED'].isnull().sum()"
   ]
  },
  {
   "cell_type": "code",
   "execution_count": 20,
   "metadata": {},
   "outputs": [
    {
     "data": {
      "text/plain": [
       "0"
      ]
     },
     "execution_count": 20,
     "metadata": {},
     "output_type": "execute_result"
    }
   ],
   "source": [
    "#do this for summer feature as well\n",
    "#find summer mean\n",
    "a_summer_mean = a_comparable.SUMMER_NOPV_BINNED.mean()\n",
    "#fill in missing data with mean\n",
    "a_comparable.SUMMER_NOPV_BINNED.fillna(a_summer_mean, inplace=True)\n",
    "#get a count (to see if fill worked)\n",
    "a_comparable['SUMMER_NOPV_BINNED'].isnull().sum()"
   ]
  },
  {
   "cell_type": "code",
   "execution_count": 21,
   "metadata": {},
   "outputs": [
    {
     "data": {
      "text/plain": [
       "0"
      ]
     },
     "execution_count": 21,
     "metadata": {},
     "output_type": "execute_result"
    }
   ],
   "source": [
    "#and for SQFT\n",
    "#find SQFT mean\n",
    "a_SQFT_mean = a_comparable.SQFT_BINNED.mean()\n",
    "#fill in missing data with mean\n",
    "a_comparable.SQFT_BINNED.fillna(a_SQFT_mean, inplace=True)\n",
    "#get a count (to see if fill worked)\n",
    "a_comparable['SQFT_BINNED'].isnull().sum()"
   ]
  },
  {
   "cell_type": "markdown",
   "metadata": {},
   "source": [
    "#### Others have a skew already in the data, and have a low number of missing values, so populating the missing data with the higher group should not alter the results too much."
   ]
  },
  {
   "cell_type": "code",
   "execution_count": 22,
   "metadata": {},
   "outputs": [
    {
     "data": {
      "text/html": [
       "<div>\n",
       "<style scoped>\n",
       "    .dataframe tbody tr th:only-of-type {\n",
       "        vertical-align: middle;\n",
       "    }\n",
       "\n",
       "    .dataframe tbody tr th {\n",
       "        vertical-align: top;\n",
       "    }\n",
       "\n",
       "    .dataframe thead th {\n",
       "        text-align: right;\n",
       "    }\n",
       "</style>\n",
       "<table border=\"1\" class=\"dataframe\">\n",
       "  <thead>\n",
       "    <tr style=\"text-align: right;\">\n",
       "      <th></th>\n",
       "      <th>CASE_ID</th>\n",
       "      <th>GPS_NAC_ADOPTER</th>\n",
       "      <th>SURVEY_SOURCE</th>\n",
       "      <th>STATE</th>\n",
       "      <th>WINTER_NOPV_BINNED</th>\n",
       "      <th>SUMMER_NOPV_BINNED</th>\n",
       "      <th>PN1</th>\n",
       "      <th>PN2</th>\n",
       "      <th>PN3</th>\n",
       "      <th>E2</th>\n",
       "      <th>...</th>\n",
       "      <th>SQFT_BINNED</th>\n",
       "      <th>STANCE</th>\n",
       "      <th>PEOPLE_TOT_3PLUS</th>\n",
       "      <th>HAVE_KIDS</th>\n",
       "      <th>GENDER</th>\n",
       "      <th>AGE_BINNED</th>\n",
       "      <th>EDUC_BINNED</th>\n",
       "      <th>FINANCIAL</th>\n",
       "      <th>INCOME_BINNED</th>\n",
       "      <th>RETIRED</th>\n",
       "    </tr>\n",
       "    <tr>\n",
       "      <th>GENDER</th>\n",
       "      <th></th>\n",
       "      <th></th>\n",
       "      <th></th>\n",
       "      <th></th>\n",
       "      <th></th>\n",
       "      <th></th>\n",
       "      <th></th>\n",
       "      <th></th>\n",
       "      <th></th>\n",
       "      <th></th>\n",
       "      <th></th>\n",
       "      <th></th>\n",
       "      <th></th>\n",
       "      <th></th>\n",
       "      <th></th>\n",
       "      <th></th>\n",
       "      <th></th>\n",
       "      <th></th>\n",
       "      <th></th>\n",
       "      <th></th>\n",
       "      <th></th>\n",
       "    </tr>\n",
       "  </thead>\n",
       "  <tbody>\n",
       "    <tr>\n",
       "      <th>0.0</th>\n",
       "      <td>1009</td>\n",
       "      <td>1</td>\n",
       "      <td>2</td>\n",
       "      <td>4</td>\n",
       "      <td>12</td>\n",
       "      <td>12</td>\n",
       "      <td>7</td>\n",
       "      <td>7</td>\n",
       "      <td>7</td>\n",
       "      <td>7</td>\n",
       "      <td>...</td>\n",
       "      <td>5</td>\n",
       "      <td>8</td>\n",
       "      <td>2</td>\n",
       "      <td>3</td>\n",
       "      <td>1</td>\n",
       "      <td>4</td>\n",
       "      <td>5</td>\n",
       "      <td>5</td>\n",
       "      <td>7</td>\n",
       "      <td>3</td>\n",
       "    </tr>\n",
       "    <tr>\n",
       "      <th>1.0</th>\n",
       "      <td>553</td>\n",
       "      <td>1</td>\n",
       "      <td>2</td>\n",
       "      <td>4</td>\n",
       "      <td>12</td>\n",
       "      <td>12</td>\n",
       "      <td>7</td>\n",
       "      <td>7</td>\n",
       "      <td>7</td>\n",
       "      <td>7</td>\n",
       "      <td>...</td>\n",
       "      <td>5</td>\n",
       "      <td>8</td>\n",
       "      <td>2</td>\n",
       "      <td>3</td>\n",
       "      <td>1</td>\n",
       "      <td>4</td>\n",
       "      <td>5</td>\n",
       "      <td>5</td>\n",
       "      <td>7</td>\n",
       "      <td>3</td>\n",
       "    </tr>\n",
       "    <tr>\n",
       "      <th>99.0</th>\n",
       "      <td>33</td>\n",
       "      <td>1</td>\n",
       "      <td>2</td>\n",
       "      <td>4</td>\n",
       "      <td>9</td>\n",
       "      <td>9</td>\n",
       "      <td>6</td>\n",
       "      <td>7</td>\n",
       "      <td>6</td>\n",
       "      <td>6</td>\n",
       "      <td>...</td>\n",
       "      <td>5</td>\n",
       "      <td>5</td>\n",
       "      <td>2</td>\n",
       "      <td>3</td>\n",
       "      <td>1</td>\n",
       "      <td>4</td>\n",
       "      <td>4</td>\n",
       "      <td>3</td>\n",
       "      <td>7</td>\n",
       "      <td>3</td>\n",
       "    </tr>\n",
       "  </tbody>\n",
       "</table>\n",
       "<p>3 rows × 48 columns</p>\n",
       "</div>"
      ],
      "text/plain": [
       "        CASE_ID  GPS_NAC_ADOPTER  SURVEY_SOURCE  STATE  WINTER_NOPV_BINNED  \\\n",
       "GENDER                                                                       \n",
       "0.0        1009                1              2      4                  12   \n",
       "1.0         553                1              2      4                  12   \n",
       "99.0         33                1              2      4                   9   \n",
       "\n",
       "        SUMMER_NOPV_BINNED  PN1  PN2  PN3  E2   ...     SQFT_BINNED  STANCE  \\\n",
       "GENDER                                          ...                           \n",
       "0.0                     12    7    7    7   7   ...               5       8   \n",
       "1.0                     12    7    7    7   7   ...               5       8   \n",
       "99.0                     9    6    7    6   6   ...               5       5   \n",
       "\n",
       "        PEOPLE_TOT_3PLUS  HAVE_KIDS  GENDER  AGE_BINNED  EDUC_BINNED  \\\n",
       "GENDER                                                                 \n",
       "0.0                    2          3       1           4            5   \n",
       "1.0                    2          3       1           4            5   \n",
       "99.0                   2          3       1           4            4   \n",
       "\n",
       "        FINANCIAL  INCOME_BINNED  RETIRED  \n",
       "GENDER                                     \n",
       "0.0             5              7        3  \n",
       "1.0             5              7        3  \n",
       "99.0            3              7        3  \n",
       "\n",
       "[3 rows x 48 columns]"
      ]
     },
     "execution_count": 22,
     "metadata": {},
     "output_type": "execute_result"
    }
   ],
   "source": [
    "#how does gender counts look\n",
    "a_comparable.groupby('GENDER').nunique()"
   ]
  },
  {
   "cell_type": "code",
   "execution_count": 23,
   "metadata": {},
   "outputs": [
    {
     "data": {
      "text/plain": [
       "0"
      ]
     },
     "execution_count": 23,
     "metadata": {},
     "output_type": "execute_result"
    }
   ],
   "source": [
    "#can just set the 9 nulls to 0.0\n",
    "a_comparable['GENDER'].fillna(0.0, inplace=True)\n",
    "a_comparable['GENDER'].isnull().sum()"
   ]
  },
  {
   "cell_type": "code",
   "execution_count": 24,
   "metadata": {},
   "outputs": [
    {
     "data": {
      "text/html": [
       "<div>\n",
       "<style scoped>\n",
       "    .dataframe tbody tr th:only-of-type {\n",
       "        vertical-align: middle;\n",
       "    }\n",
       "\n",
       "    .dataframe tbody tr th {\n",
       "        vertical-align: top;\n",
       "    }\n",
       "\n",
       "    .dataframe thead th {\n",
       "        text-align: right;\n",
       "    }\n",
       "</style>\n",
       "<table border=\"1\" class=\"dataframe\">\n",
       "  <thead>\n",
       "    <tr style=\"text-align: right;\">\n",
       "      <th></th>\n",
       "      <th>CASE_ID</th>\n",
       "      <th>GPS_NAC_ADOPTER</th>\n",
       "      <th>SURVEY_SOURCE</th>\n",
       "      <th>STATE</th>\n",
       "      <th>WINTER_NOPV_BINNED</th>\n",
       "      <th>SUMMER_NOPV_BINNED</th>\n",
       "      <th>PN1</th>\n",
       "      <th>PN2</th>\n",
       "      <th>PN3</th>\n",
       "      <th>E2</th>\n",
       "      <th>...</th>\n",
       "      <th>SQFT_BINNED</th>\n",
       "      <th>STANCE</th>\n",
       "      <th>PEOPLE_TOT_3PLUS</th>\n",
       "      <th>HAVE_KIDS</th>\n",
       "      <th>GENDER</th>\n",
       "      <th>AGE_BINNED</th>\n",
       "      <th>EDUC_BINNED</th>\n",
       "      <th>FINANCIAL</th>\n",
       "      <th>INCOME_BINNED</th>\n",
       "      <th>RETIRED</th>\n",
       "    </tr>\n",
       "    <tr>\n",
       "      <th>HAVE_KIDS</th>\n",
       "      <th></th>\n",
       "      <th></th>\n",
       "      <th></th>\n",
       "      <th></th>\n",
       "      <th></th>\n",
       "      <th></th>\n",
       "      <th></th>\n",
       "      <th></th>\n",
       "      <th></th>\n",
       "      <th></th>\n",
       "      <th></th>\n",
       "      <th></th>\n",
       "      <th></th>\n",
       "      <th></th>\n",
       "      <th></th>\n",
       "      <th></th>\n",
       "      <th></th>\n",
       "      <th></th>\n",
       "      <th></th>\n",
       "      <th></th>\n",
       "      <th></th>\n",
       "    </tr>\n",
       "  </thead>\n",
       "  <tbody>\n",
       "    <tr>\n",
       "      <th>0.0</th>\n",
       "      <td>1027</td>\n",
       "      <td>1</td>\n",
       "      <td>2</td>\n",
       "      <td>4</td>\n",
       "      <td>12</td>\n",
       "      <td>12</td>\n",
       "      <td>7</td>\n",
       "      <td>7</td>\n",
       "      <td>7</td>\n",
       "      <td>7</td>\n",
       "      <td>...</td>\n",
       "      <td>5</td>\n",
       "      <td>8</td>\n",
       "      <td>2</td>\n",
       "      <td>1</td>\n",
       "      <td>3</td>\n",
       "      <td>4</td>\n",
       "      <td>5</td>\n",
       "      <td>5</td>\n",
       "      <td>7</td>\n",
       "      <td>3</td>\n",
       "    </tr>\n",
       "    <tr>\n",
       "      <th>1.0</th>\n",
       "      <td>447</td>\n",
       "      <td>1</td>\n",
       "      <td>2</td>\n",
       "      <td>4</td>\n",
       "      <td>12</td>\n",
       "      <td>12</td>\n",
       "      <td>6</td>\n",
       "      <td>7</td>\n",
       "      <td>6</td>\n",
       "      <td>6</td>\n",
       "      <td>...</td>\n",
       "      <td>5</td>\n",
       "      <td>8</td>\n",
       "      <td>2</td>\n",
       "      <td>1</td>\n",
       "      <td>3</td>\n",
       "      <td>4</td>\n",
       "      <td>5</td>\n",
       "      <td>5</td>\n",
       "      <td>7</td>\n",
       "      <td>3</td>\n",
       "    </tr>\n",
       "    <tr>\n",
       "      <th>99.0</th>\n",
       "      <td>127</td>\n",
       "      <td>1</td>\n",
       "      <td>2</td>\n",
       "      <td>4</td>\n",
       "      <td>12</td>\n",
       "      <td>12</td>\n",
       "      <td>7</td>\n",
       "      <td>7</td>\n",
       "      <td>7</td>\n",
       "      <td>7</td>\n",
       "      <td>...</td>\n",
       "      <td>5</td>\n",
       "      <td>8</td>\n",
       "      <td>0</td>\n",
       "      <td>1</td>\n",
       "      <td>3</td>\n",
       "      <td>4</td>\n",
       "      <td>5</td>\n",
       "      <td>5</td>\n",
       "      <td>7</td>\n",
       "      <td>3</td>\n",
       "    </tr>\n",
       "  </tbody>\n",
       "</table>\n",
       "<p>3 rows × 48 columns</p>\n",
       "</div>"
      ],
      "text/plain": [
       "           CASE_ID  GPS_NAC_ADOPTER  SURVEY_SOURCE  STATE  WINTER_NOPV_BINNED  \\\n",
       "HAVE_KIDS                                                                       \n",
       "0.0           1027                1              2      4                  12   \n",
       "1.0            447                1              2      4                  12   \n",
       "99.0           127                1              2      4                  12   \n",
       "\n",
       "           SUMMER_NOPV_BINNED  PN1  PN2  PN3  E2   ...     SQFT_BINNED  \\\n",
       "HAVE_KIDS                                          ...                   \n",
       "0.0                        12    7    7    7   7   ...               5   \n",
       "1.0                        12    6    7    6   6   ...               5   \n",
       "99.0                       12    7    7    7   7   ...               5   \n",
       "\n",
       "           STANCE  PEOPLE_TOT_3PLUS  HAVE_KIDS  GENDER  AGE_BINNED  \\\n",
       "HAVE_KIDS                                                            \n",
       "0.0             8                 2          1       3           4   \n",
       "1.0             8                 2          1       3           4   \n",
       "99.0            8                 0          1       3           4   \n",
       "\n",
       "           EDUC_BINNED  FINANCIAL  INCOME_BINNED  RETIRED  \n",
       "HAVE_KIDS                                                  \n",
       "0.0                  5          5              7        3  \n",
       "1.0                  5          5              7        3  \n",
       "99.0                 5          5              7        3  \n",
       "\n",
       "[3 rows x 48 columns]"
      ]
     },
     "execution_count": 24,
     "metadata": {},
     "output_type": "execute_result"
    }
   ],
   "source": [
    "#how does 'HAVE_KIDS' counts look\n",
    "a_comparable.groupby('HAVE_KIDS').nunique()"
   ]
  },
  {
   "cell_type": "code",
   "execution_count": 25,
   "metadata": {},
   "outputs": [
    {
     "data": {
      "text/plain": [
       "0"
      ]
     },
     "execution_count": 25,
     "metadata": {},
     "output_type": "execute_result"
    }
   ],
   "source": [
    "#can just set the 3 nulls to 0.0\n",
    "a_comparable['HAVE_KIDS'].fillna(0.0, inplace=True)\n",
    "a_comparable['HAVE_KIDS'].isnull().sum()"
   ]
  },
  {
   "cell_type": "markdown",
   "metadata": {},
   "source": [
    "#### The remaining missing data seem to be evenly dispersed in their values, so maybe filling using ffill will keep this even distribution, without skewing the data  too much."
   ]
  },
  {
   "cell_type": "code",
   "execution_count": 26,
   "metadata": {},
   "outputs": [
    {
     "data": {
      "text/html": [
       "<div>\n",
       "<style scoped>\n",
       "    .dataframe tbody tr th:only-of-type {\n",
       "        vertical-align: middle;\n",
       "    }\n",
       "\n",
       "    .dataframe tbody tr th {\n",
       "        vertical-align: top;\n",
       "    }\n",
       "\n",
       "    .dataframe thead th {\n",
       "        text-align: right;\n",
       "    }\n",
       "</style>\n",
       "<table border=\"1\" class=\"dataframe\">\n",
       "  <thead>\n",
       "    <tr style=\"text-align: right;\">\n",
       "      <th></th>\n",
       "      <th>CASE_ID</th>\n",
       "      <th>GPS_NAC_ADOPTER</th>\n",
       "      <th>SURVEY_SOURCE</th>\n",
       "      <th>STATE</th>\n",
       "      <th>WINTER_NOPV_BINNED</th>\n",
       "      <th>SUMMER_NOPV_BINNED</th>\n",
       "      <th>PN1</th>\n",
       "      <th>PN2</th>\n",
       "      <th>PN3</th>\n",
       "      <th>E2</th>\n",
       "      <th>...</th>\n",
       "      <th>CNS4</th>\n",
       "      <th>SQFT_BINNED</th>\n",
       "      <th>STANCE</th>\n",
       "      <th>HAVE_KIDS</th>\n",
       "      <th>GENDER</th>\n",
       "      <th>AGE_BINNED</th>\n",
       "      <th>EDUC_BINNED</th>\n",
       "      <th>FINANCIAL</th>\n",
       "      <th>INCOME_BINNED</th>\n",
       "      <th>RETIRED</th>\n",
       "    </tr>\n",
       "    <tr>\n",
       "      <th>PEOPLE_TOT_3PLUS</th>\n",
       "      <th></th>\n",
       "      <th></th>\n",
       "      <th></th>\n",
       "      <th></th>\n",
       "      <th></th>\n",
       "      <th></th>\n",
       "      <th></th>\n",
       "      <th></th>\n",
       "      <th></th>\n",
       "      <th></th>\n",
       "      <th></th>\n",
       "      <th></th>\n",
       "      <th></th>\n",
       "      <th></th>\n",
       "      <th></th>\n",
       "      <th></th>\n",
       "      <th></th>\n",
       "      <th></th>\n",
       "      <th></th>\n",
       "      <th></th>\n",
       "      <th></th>\n",
       "    </tr>\n",
       "  </thead>\n",
       "  <tbody>\n",
       "    <tr>\n",
       "      <th>0.0</th>\n",
       "      <td>746</td>\n",
       "      <td>746</td>\n",
       "      <td>746</td>\n",
       "      <td>746</td>\n",
       "      <td>746</td>\n",
       "      <td>746</td>\n",
       "      <td>746</td>\n",
       "      <td>746</td>\n",
       "      <td>746</td>\n",
       "      <td>746</td>\n",
       "      <td>...</td>\n",
       "      <td>746</td>\n",
       "      <td>746</td>\n",
       "      <td>746</td>\n",
       "      <td>746</td>\n",
       "      <td>746</td>\n",
       "      <td>703</td>\n",
       "      <td>667</td>\n",
       "      <td>746</td>\n",
       "      <td>725</td>\n",
       "      <td>746</td>\n",
       "    </tr>\n",
       "    <tr>\n",
       "      <th>1.0</th>\n",
       "      <td>718</td>\n",
       "      <td>718</td>\n",
       "      <td>718</td>\n",
       "      <td>718</td>\n",
       "      <td>718</td>\n",
       "      <td>718</td>\n",
       "      <td>718</td>\n",
       "      <td>718</td>\n",
       "      <td>718</td>\n",
       "      <td>718</td>\n",
       "      <td>...</td>\n",
       "      <td>718</td>\n",
       "      <td>718</td>\n",
       "      <td>718</td>\n",
       "      <td>718</td>\n",
       "      <td>718</td>\n",
       "      <td>673</td>\n",
       "      <td>656</td>\n",
       "      <td>718</td>\n",
       "      <td>692</td>\n",
       "      <td>718</td>\n",
       "    </tr>\n",
       "  </tbody>\n",
       "</table>\n",
       "<p>2 rows × 47 columns</p>\n",
       "</div>"
      ],
      "text/plain": [
       "                  CASE_ID  GPS_NAC_ADOPTER  SURVEY_SOURCE  STATE  \\\n",
       "PEOPLE_TOT_3PLUS                                                   \n",
       "0.0                   746              746            746    746   \n",
       "1.0                   718              718            718    718   \n",
       "\n",
       "                  WINTER_NOPV_BINNED  SUMMER_NOPV_BINNED  PN1  PN2  PN3   E2  \\\n",
       "PEOPLE_TOT_3PLUS                                                               \n",
       "0.0                              746                 746  746  746  746  746   \n",
       "1.0                              718                 718  718  718  718  718   \n",
       "\n",
       "                   ...     CNS4  SQFT_BINNED  STANCE  HAVE_KIDS  GENDER  \\\n",
       "PEOPLE_TOT_3PLUS   ...                                                    \n",
       "0.0                ...      746          746     746        746     746   \n",
       "1.0                ...      718          718     718        718     718   \n",
       "\n",
       "                  AGE_BINNED  EDUC_BINNED  FINANCIAL  INCOME_BINNED  RETIRED  \n",
       "PEOPLE_TOT_3PLUS                                                              \n",
       "0.0                      703          667        746            725      746  \n",
       "1.0                      673          656        718            692      718  \n",
       "\n",
       "[2 rows x 47 columns]"
      ]
     },
     "execution_count": 26,
     "metadata": {},
     "output_type": "execute_result"
    }
   ],
   "source": [
    "#Look at PEOPLE_TOT_3PLUS feature\n",
    "#how does 'HAVE_KIDS' counts look\n",
    "a_comparable.groupby('PEOPLE_TOT_3PLUS').count()"
   ]
  },
  {
   "cell_type": "code",
   "execution_count": 27,
   "metadata": {},
   "outputs": [
    {
     "data": {
      "text/plain": [
       "0"
      ]
     },
     "execution_count": 27,
     "metadata": {},
     "output_type": "execute_result"
    }
   ],
   "source": [
    "#can just set the 140 nulls to either value, randomly, but using forward fill\n",
    "a_comparable['PEOPLE_TOT_3PLUS'].fillna(method='ffill', inplace=True)\n",
    "a_comparable['PEOPLE_TOT_3PLUS'].isnull().sum()"
   ]
  },
  {
   "cell_type": "code",
   "execution_count": 28,
   "metadata": {},
   "outputs": [
    {
     "data": {
      "text/html": [
       "<div>\n",
       "<style scoped>\n",
       "    .dataframe tbody tr th:only-of-type {\n",
       "        vertical-align: middle;\n",
       "    }\n",
       "\n",
       "    .dataframe tbody tr th {\n",
       "        vertical-align: top;\n",
       "    }\n",
       "\n",
       "    .dataframe thead th {\n",
       "        text-align: right;\n",
       "    }\n",
       "</style>\n",
       "<table border=\"1\" class=\"dataframe\">\n",
       "  <thead>\n",
       "    <tr style=\"text-align: right;\">\n",
       "      <th></th>\n",
       "      <th>CASE_ID</th>\n",
       "      <th>GPS_NAC_ADOPTER</th>\n",
       "      <th>SURVEY_SOURCE</th>\n",
       "      <th>STATE</th>\n",
       "      <th>WINTER_NOPV_BINNED</th>\n",
       "      <th>SUMMER_NOPV_BINNED</th>\n",
       "      <th>PN1</th>\n",
       "      <th>PN2</th>\n",
       "      <th>PN3</th>\n",
       "      <th>E2</th>\n",
       "      <th>...</th>\n",
       "      <th>CNS4</th>\n",
       "      <th>SQFT_BINNED</th>\n",
       "      <th>STANCE</th>\n",
       "      <th>HAVE_KIDS</th>\n",
       "      <th>GENDER</th>\n",
       "      <th>AGE_BINNED</th>\n",
       "      <th>EDUC_BINNED</th>\n",
       "      <th>FINANCIAL</th>\n",
       "      <th>INCOME_BINNED</th>\n",
       "      <th>RETIRED</th>\n",
       "    </tr>\n",
       "    <tr>\n",
       "      <th>PEOPLE_TOT_3PLUS</th>\n",
       "      <th></th>\n",
       "      <th></th>\n",
       "      <th></th>\n",
       "      <th></th>\n",
       "      <th></th>\n",
       "      <th></th>\n",
       "      <th></th>\n",
       "      <th></th>\n",
       "      <th></th>\n",
       "      <th></th>\n",
       "      <th></th>\n",
       "      <th></th>\n",
       "      <th></th>\n",
       "      <th></th>\n",
       "      <th></th>\n",
       "      <th></th>\n",
       "      <th></th>\n",
       "      <th></th>\n",
       "      <th></th>\n",
       "      <th></th>\n",
       "      <th></th>\n",
       "    </tr>\n",
       "  </thead>\n",
       "  <tbody>\n",
       "    <tr>\n",
       "      <th>0.0</th>\n",
       "      <td>811</td>\n",
       "      <td>811</td>\n",
       "      <td>811</td>\n",
       "      <td>811</td>\n",
       "      <td>811</td>\n",
       "      <td>811</td>\n",
       "      <td>811</td>\n",
       "      <td>811</td>\n",
       "      <td>811</td>\n",
       "      <td>811</td>\n",
       "      <td>...</td>\n",
       "      <td>811</td>\n",
       "      <td>811</td>\n",
       "      <td>811</td>\n",
       "      <td>811</td>\n",
       "      <td>811</td>\n",
       "      <td>757</td>\n",
       "      <td>728</td>\n",
       "      <td>811</td>\n",
       "      <td>785</td>\n",
       "      <td>811</td>\n",
       "    </tr>\n",
       "    <tr>\n",
       "      <th>1.0</th>\n",
       "      <td>793</td>\n",
       "      <td>793</td>\n",
       "      <td>793</td>\n",
       "      <td>793</td>\n",
       "      <td>793</td>\n",
       "      <td>793</td>\n",
       "      <td>793</td>\n",
       "      <td>793</td>\n",
       "      <td>793</td>\n",
       "      <td>793</td>\n",
       "      <td>...</td>\n",
       "      <td>793</td>\n",
       "      <td>793</td>\n",
       "      <td>793</td>\n",
       "      <td>793</td>\n",
       "      <td>793</td>\n",
       "      <td>729</td>\n",
       "      <td>727</td>\n",
       "      <td>793</td>\n",
       "      <td>765</td>\n",
       "      <td>793</td>\n",
       "    </tr>\n",
       "  </tbody>\n",
       "</table>\n",
       "<p>2 rows × 47 columns</p>\n",
       "</div>"
      ],
      "text/plain": [
       "                  CASE_ID  GPS_NAC_ADOPTER  SURVEY_SOURCE  STATE  \\\n",
       "PEOPLE_TOT_3PLUS                                                   \n",
       "0.0                   811              811            811    811   \n",
       "1.0                   793              793            793    793   \n",
       "\n",
       "                  WINTER_NOPV_BINNED  SUMMER_NOPV_BINNED  PN1  PN2  PN3   E2  \\\n",
       "PEOPLE_TOT_3PLUS                                                               \n",
       "0.0                              811                 811  811  811  811  811   \n",
       "1.0                              793                 793  793  793  793  793   \n",
       "\n",
       "                   ...     CNS4  SQFT_BINNED  STANCE  HAVE_KIDS  GENDER  \\\n",
       "PEOPLE_TOT_3PLUS   ...                                                    \n",
       "0.0                ...      811          811     811        811     811   \n",
       "1.0                ...      793          793     793        793     793   \n",
       "\n",
       "                  AGE_BINNED  EDUC_BINNED  FINANCIAL  INCOME_BINNED  RETIRED  \n",
       "PEOPLE_TOT_3PLUS                                                              \n",
       "0.0                      757          728        811            785      811  \n",
       "1.0                      729          727        793            765      793  \n",
       "\n",
       "[2 rows x 47 columns]"
      ]
     },
     "execution_count": 28,
     "metadata": {},
     "output_type": "execute_result"
    }
   ],
   "source": [
    "#Now look at PEOPLE_TOT_3PLUS feature to see if ffill filled nulls aprox. equally(orig count: 0.0-746, 1.0-718)\n",
    "#how does 'HAVE_KIDS' counts look\n",
    "a_comparable.groupby('PEOPLE_TOT_3PLUS').count()"
   ]
  },
  {
   "cell_type": "code",
   "execution_count": 29,
   "metadata": {},
   "outputs": [
    {
     "data": {
      "text/html": [
       "<div>\n",
       "<style scoped>\n",
       "    .dataframe tbody tr th:only-of-type {\n",
       "        vertical-align: middle;\n",
       "    }\n",
       "\n",
       "    .dataframe tbody tr th {\n",
       "        vertical-align: top;\n",
       "    }\n",
       "\n",
       "    .dataframe thead th {\n",
       "        text-align: right;\n",
       "    }\n",
       "</style>\n",
       "<table border=\"1\" class=\"dataframe\">\n",
       "  <thead>\n",
       "    <tr style=\"text-align: right;\">\n",
       "      <th></th>\n",
       "      <th>CASE_ID</th>\n",
       "      <th>GPS_NAC_ADOPTER</th>\n",
       "      <th>SURVEY_SOURCE</th>\n",
       "      <th>STATE</th>\n",
       "      <th>WINTER_NOPV_BINNED</th>\n",
       "      <th>SUMMER_NOPV_BINNED</th>\n",
       "      <th>PN1</th>\n",
       "      <th>PN2</th>\n",
       "      <th>PN3</th>\n",
       "      <th>E2</th>\n",
       "      <th>...</th>\n",
       "      <th>CNS4</th>\n",
       "      <th>SQFT_BINNED</th>\n",
       "      <th>STANCE</th>\n",
       "      <th>PEOPLE_TOT_3PLUS</th>\n",
       "      <th>HAVE_KIDS</th>\n",
       "      <th>GENDER</th>\n",
       "      <th>EDUC_BINNED</th>\n",
       "      <th>FINANCIAL</th>\n",
       "      <th>INCOME_BINNED</th>\n",
       "      <th>RETIRED</th>\n",
       "    </tr>\n",
       "    <tr>\n",
       "      <th>AGE_BINNED</th>\n",
       "      <th></th>\n",
       "      <th></th>\n",
       "      <th></th>\n",
       "      <th></th>\n",
       "      <th></th>\n",
       "      <th></th>\n",
       "      <th></th>\n",
       "      <th></th>\n",
       "      <th></th>\n",
       "      <th></th>\n",
       "      <th></th>\n",
       "      <th></th>\n",
       "      <th></th>\n",
       "      <th></th>\n",
       "      <th></th>\n",
       "      <th></th>\n",
       "      <th></th>\n",
       "      <th></th>\n",
       "      <th></th>\n",
       "      <th></th>\n",
       "      <th></th>\n",
       "    </tr>\n",
       "  </thead>\n",
       "  <tbody>\n",
       "    <tr>\n",
       "      <th>1.0</th>\n",
       "      <td>244</td>\n",
       "      <td>244</td>\n",
       "      <td>244</td>\n",
       "      <td>244</td>\n",
       "      <td>244</td>\n",
       "      <td>244</td>\n",
       "      <td>244</td>\n",
       "      <td>244</td>\n",
       "      <td>244</td>\n",
       "      <td>244</td>\n",
       "      <td>...</td>\n",
       "      <td>244</td>\n",
       "      <td>244</td>\n",
       "      <td>244</td>\n",
       "      <td>244</td>\n",
       "      <td>244</td>\n",
       "      <td>244</td>\n",
       "      <td>213</td>\n",
       "      <td>244</td>\n",
       "      <td>241</td>\n",
       "      <td>244</td>\n",
       "    </tr>\n",
       "    <tr>\n",
       "      <th>2.0</th>\n",
       "      <td>323</td>\n",
       "      <td>323</td>\n",
       "      <td>323</td>\n",
       "      <td>323</td>\n",
       "      <td>323</td>\n",
       "      <td>323</td>\n",
       "      <td>323</td>\n",
       "      <td>323</td>\n",
       "      <td>323</td>\n",
       "      <td>323</td>\n",
       "      <td>...</td>\n",
       "      <td>323</td>\n",
       "      <td>323</td>\n",
       "      <td>323</td>\n",
       "      <td>323</td>\n",
       "      <td>323</td>\n",
       "      <td>323</td>\n",
       "      <td>296</td>\n",
       "      <td>323</td>\n",
       "      <td>306</td>\n",
       "      <td>323</td>\n",
       "    </tr>\n",
       "    <tr>\n",
       "      <th>3.0</th>\n",
       "      <td>455</td>\n",
       "      <td>455</td>\n",
       "      <td>455</td>\n",
       "      <td>455</td>\n",
       "      <td>455</td>\n",
       "      <td>455</td>\n",
       "      <td>455</td>\n",
       "      <td>455</td>\n",
       "      <td>455</td>\n",
       "      <td>455</td>\n",
       "      <td>...</td>\n",
       "      <td>455</td>\n",
       "      <td>455</td>\n",
       "      <td>455</td>\n",
       "      <td>455</td>\n",
       "      <td>455</td>\n",
       "      <td>455</td>\n",
       "      <td>409</td>\n",
       "      <td>455</td>\n",
       "      <td>439</td>\n",
       "      <td>455</td>\n",
       "    </tr>\n",
       "    <tr>\n",
       "      <th>4.0</th>\n",
       "      <td>464</td>\n",
       "      <td>464</td>\n",
       "      <td>464</td>\n",
       "      <td>464</td>\n",
       "      <td>464</td>\n",
       "      <td>464</td>\n",
       "      <td>464</td>\n",
       "      <td>464</td>\n",
       "      <td>464</td>\n",
       "      <td>464</td>\n",
       "      <td>...</td>\n",
       "      <td>464</td>\n",
       "      <td>464</td>\n",
       "      <td>464</td>\n",
       "      <td>464</td>\n",
       "      <td>464</td>\n",
       "      <td>464</td>\n",
       "      <td>422</td>\n",
       "      <td>464</td>\n",
       "      <td>446</td>\n",
       "      <td>464</td>\n",
       "    </tr>\n",
       "  </tbody>\n",
       "</table>\n",
       "<p>4 rows × 47 columns</p>\n",
       "</div>"
      ],
      "text/plain": [
       "            CASE_ID  GPS_NAC_ADOPTER  SURVEY_SOURCE  STATE  \\\n",
       "AGE_BINNED                                                   \n",
       "1.0             244              244            244    244   \n",
       "2.0             323              323            323    323   \n",
       "3.0             455              455            455    455   \n",
       "4.0             464              464            464    464   \n",
       "\n",
       "            WINTER_NOPV_BINNED  SUMMER_NOPV_BINNED  PN1  PN2  PN3   E2  \\\n",
       "AGE_BINNED                                                               \n",
       "1.0                        244                 244  244  244  244  244   \n",
       "2.0                        323                 323  323  323  323  323   \n",
       "3.0                        455                 455  455  455  455  455   \n",
       "4.0                        464                 464  464  464  464  464   \n",
       "\n",
       "             ...     CNS4  SQFT_BINNED  STANCE  PEOPLE_TOT_3PLUS  HAVE_KIDS  \\\n",
       "AGE_BINNED   ...                                                              \n",
       "1.0          ...      244          244     244               244        244   \n",
       "2.0          ...      323          323     323               323        323   \n",
       "3.0          ...      455          455     455               455        455   \n",
       "4.0          ...      464          464     464               464        464   \n",
       "\n",
       "            GENDER  EDUC_BINNED  FINANCIAL  INCOME_BINNED  RETIRED  \n",
       "AGE_BINNED                                                          \n",
       "1.0            244          213        244            241      244  \n",
       "2.0            323          296        323            306      323  \n",
       "3.0            455          409        455            439      455  \n",
       "4.0            464          422        464            446      464  \n",
       "\n",
       "[4 rows x 47 columns]"
      ]
     },
     "execution_count": 29,
     "metadata": {},
     "output_type": "execute_result"
    }
   ],
   "source": [
    "#counts now 0.0-811(65 more), 1.0-793(75 more), still fairly even\n",
    "\n",
    "#Look at AGE_BINNED feature\n",
    "#how does 'AGE_BINNED' counts look\n",
    "a_comparable.groupby('AGE_BINNED').count()"
   ]
  },
  {
   "cell_type": "code",
   "execution_count": 30,
   "metadata": {},
   "outputs": [
    {
     "data": {
      "text/plain": [
       "0"
      ]
     },
     "execution_count": 30,
     "metadata": {},
     "output_type": "execute_result"
    }
   ],
   "source": [
    "#largest group is 4.0, and there are 118 nulls...\n",
    "#could fill nulls as before, randomly like with PEOPLE_TOT_3PLUS\n",
    "a_comparable['AGE_BINNED'].fillna(method='ffill', inplace=True)\n",
    "a_comparable['AGE_BINNED'].isnull().sum()"
   ]
  },
  {
   "cell_type": "code",
   "execution_count": 31,
   "metadata": {},
   "outputs": [
    {
     "data": {
      "text/html": [
       "<div>\n",
       "<style scoped>\n",
       "    .dataframe tbody tr th:only-of-type {\n",
       "        vertical-align: middle;\n",
       "    }\n",
       "\n",
       "    .dataframe tbody tr th {\n",
       "        vertical-align: top;\n",
       "    }\n",
       "\n",
       "    .dataframe thead th {\n",
       "        text-align: right;\n",
       "    }\n",
       "</style>\n",
       "<table border=\"1\" class=\"dataframe\">\n",
       "  <thead>\n",
       "    <tr style=\"text-align: right;\">\n",
       "      <th></th>\n",
       "      <th>CASE_ID</th>\n",
       "      <th>GPS_NAC_ADOPTER</th>\n",
       "      <th>SURVEY_SOURCE</th>\n",
       "      <th>STATE</th>\n",
       "      <th>WINTER_NOPV_BINNED</th>\n",
       "      <th>SUMMER_NOPV_BINNED</th>\n",
       "      <th>PN1</th>\n",
       "      <th>PN2</th>\n",
       "      <th>PN3</th>\n",
       "      <th>E2</th>\n",
       "      <th>...</th>\n",
       "      <th>CNS4</th>\n",
       "      <th>SQFT_BINNED</th>\n",
       "      <th>STANCE</th>\n",
       "      <th>PEOPLE_TOT_3PLUS</th>\n",
       "      <th>HAVE_KIDS</th>\n",
       "      <th>GENDER</th>\n",
       "      <th>AGE_BINNED</th>\n",
       "      <th>FINANCIAL</th>\n",
       "      <th>INCOME_BINNED</th>\n",
       "      <th>RETIRED</th>\n",
       "    </tr>\n",
       "    <tr>\n",
       "      <th>EDUC_BINNED</th>\n",
       "      <th></th>\n",
       "      <th></th>\n",
       "      <th></th>\n",
       "      <th></th>\n",
       "      <th></th>\n",
       "      <th></th>\n",
       "      <th></th>\n",
       "      <th></th>\n",
       "      <th></th>\n",
       "      <th></th>\n",
       "      <th></th>\n",
       "      <th></th>\n",
       "      <th></th>\n",
       "      <th></th>\n",
       "      <th></th>\n",
       "      <th></th>\n",
       "      <th></th>\n",
       "      <th></th>\n",
       "      <th></th>\n",
       "      <th></th>\n",
       "      <th></th>\n",
       "    </tr>\n",
       "  </thead>\n",
       "  <tbody>\n",
       "    <tr>\n",
       "      <th>1.0</th>\n",
       "      <td>104</td>\n",
       "      <td>104</td>\n",
       "      <td>104</td>\n",
       "      <td>104</td>\n",
       "      <td>104</td>\n",
       "      <td>104</td>\n",
       "      <td>104</td>\n",
       "      <td>104</td>\n",
       "      <td>104</td>\n",
       "      <td>104</td>\n",
       "      <td>...</td>\n",
       "      <td>104</td>\n",
       "      <td>104</td>\n",
       "      <td>104</td>\n",
       "      <td>104</td>\n",
       "      <td>104</td>\n",
       "      <td>104</td>\n",
       "      <td>104</td>\n",
       "      <td>104</td>\n",
       "      <td>100</td>\n",
       "      <td>104</td>\n",
       "    </tr>\n",
       "    <tr>\n",
       "      <th>2.0</th>\n",
       "      <td>502</td>\n",
       "      <td>502</td>\n",
       "      <td>502</td>\n",
       "      <td>502</td>\n",
       "      <td>502</td>\n",
       "      <td>502</td>\n",
       "      <td>502</td>\n",
       "      <td>502</td>\n",
       "      <td>502</td>\n",
       "      <td>502</td>\n",
       "      <td>...</td>\n",
       "      <td>502</td>\n",
       "      <td>502</td>\n",
       "      <td>502</td>\n",
       "      <td>502</td>\n",
       "      <td>502</td>\n",
       "      <td>502</td>\n",
       "      <td>502</td>\n",
       "      <td>502</td>\n",
       "      <td>479</td>\n",
       "      <td>502</td>\n",
       "    </tr>\n",
       "    <tr>\n",
       "      <th>3.0</th>\n",
       "      <td>444</td>\n",
       "      <td>444</td>\n",
       "      <td>444</td>\n",
       "      <td>444</td>\n",
       "      <td>444</td>\n",
       "      <td>444</td>\n",
       "      <td>444</td>\n",
       "      <td>444</td>\n",
       "      <td>444</td>\n",
       "      <td>444</td>\n",
       "      <td>...</td>\n",
       "      <td>444</td>\n",
       "      <td>444</td>\n",
       "      <td>444</td>\n",
       "      <td>444</td>\n",
       "      <td>444</td>\n",
       "      <td>444</td>\n",
       "      <td>444</td>\n",
       "      <td>444</td>\n",
       "      <td>429</td>\n",
       "      <td>444</td>\n",
       "    </tr>\n",
       "    <tr>\n",
       "      <th>4.0</th>\n",
       "      <td>377</td>\n",
       "      <td>377</td>\n",
       "      <td>377</td>\n",
       "      <td>377</td>\n",
       "      <td>377</td>\n",
       "      <td>377</td>\n",
       "      <td>377</td>\n",
       "      <td>377</td>\n",
       "      <td>377</td>\n",
       "      <td>377</td>\n",
       "      <td>...</td>\n",
       "      <td>377</td>\n",
       "      <td>377</td>\n",
       "      <td>377</td>\n",
       "      <td>377</td>\n",
       "      <td>377</td>\n",
       "      <td>377</td>\n",
       "      <td>377</td>\n",
       "      <td>377</td>\n",
       "      <td>366</td>\n",
       "      <td>377</td>\n",
       "    </tr>\n",
       "    <tr>\n",
       "      <th>99.0</th>\n",
       "      <td>28</td>\n",
       "      <td>28</td>\n",
       "      <td>28</td>\n",
       "      <td>28</td>\n",
       "      <td>28</td>\n",
       "      <td>28</td>\n",
       "      <td>28</td>\n",
       "      <td>28</td>\n",
       "      <td>28</td>\n",
       "      <td>28</td>\n",
       "      <td>...</td>\n",
       "      <td>28</td>\n",
       "      <td>28</td>\n",
       "      <td>28</td>\n",
       "      <td>28</td>\n",
       "      <td>28</td>\n",
       "      <td>28</td>\n",
       "      <td>28</td>\n",
       "      <td>28</td>\n",
       "      <td>27</td>\n",
       "      <td>28</td>\n",
       "    </tr>\n",
       "  </tbody>\n",
       "</table>\n",
       "<p>5 rows × 47 columns</p>\n",
       "</div>"
      ],
      "text/plain": [
       "             CASE_ID  GPS_NAC_ADOPTER  SURVEY_SOURCE  STATE  \\\n",
       "EDUC_BINNED                                                   \n",
       "1.0              104              104            104    104   \n",
       "2.0              502              502            502    502   \n",
       "3.0              444              444            444    444   \n",
       "4.0              377              377            377    377   \n",
       "99.0              28               28             28     28   \n",
       "\n",
       "             WINTER_NOPV_BINNED  SUMMER_NOPV_BINNED  PN1  PN2  PN3   E2  \\\n",
       "EDUC_BINNED                                                               \n",
       "1.0                         104                 104  104  104  104  104   \n",
       "2.0                         502                 502  502  502  502  502   \n",
       "3.0                         444                 444  444  444  444  444   \n",
       "4.0                         377                 377  377  377  377  377   \n",
       "99.0                         28                  28   28   28   28   28   \n",
       "\n",
       "              ...     CNS4  SQFT_BINNED  STANCE  PEOPLE_TOT_3PLUS  HAVE_KIDS  \\\n",
       "EDUC_BINNED   ...                                                              \n",
       "1.0           ...      104          104     104               104        104   \n",
       "2.0           ...      502          502     502               502        502   \n",
       "3.0           ...      444          444     444               444        444   \n",
       "4.0           ...      377          377     377               377        377   \n",
       "99.0          ...       28           28      28                28         28   \n",
       "\n",
       "             GENDER  AGE_BINNED  FINANCIAL  INCOME_BINNED  RETIRED  \n",
       "EDUC_BINNED                                                         \n",
       "1.0             104         104        104            100      104  \n",
       "2.0             502         502        502            479      502  \n",
       "3.0             444         444        444            429      444  \n",
       "4.0             377         377        377            366      377  \n",
       "99.0             28          28         28             27       28  \n",
       "\n",
       "[5 rows x 47 columns]"
      ]
     },
     "execution_count": 31,
     "metadata": {},
     "output_type": "execute_result"
    }
   ],
   "source": [
    "#how to handle the last two features: Education and income?\n",
    "#let's look at the distribution\n",
    "a_comparable.groupby('EDUC_BINNED').count()"
   ]
  },
  {
   "cell_type": "code",
   "execution_count": 32,
   "metadata": {},
   "outputs": [
    {
     "data": {
      "text/html": [
       "<div>\n",
       "<style scoped>\n",
       "    .dataframe tbody tr th:only-of-type {\n",
       "        vertical-align: middle;\n",
       "    }\n",
       "\n",
       "    .dataframe tbody tr th {\n",
       "        vertical-align: top;\n",
       "    }\n",
       "\n",
       "    .dataframe thead th {\n",
       "        text-align: right;\n",
       "    }\n",
       "</style>\n",
       "<table border=\"1\" class=\"dataframe\">\n",
       "  <thead>\n",
       "    <tr style=\"text-align: right;\">\n",
       "      <th></th>\n",
       "      <th>CASE_ID</th>\n",
       "      <th>GPS_NAC_ADOPTER</th>\n",
       "      <th>SURVEY_SOURCE</th>\n",
       "      <th>STATE</th>\n",
       "      <th>WINTER_NOPV_BINNED</th>\n",
       "      <th>SUMMER_NOPV_BINNED</th>\n",
       "      <th>PN1</th>\n",
       "      <th>PN2</th>\n",
       "      <th>PN3</th>\n",
       "      <th>E2</th>\n",
       "      <th>...</th>\n",
       "      <th>CNS4</th>\n",
       "      <th>SQFT_BINNED</th>\n",
       "      <th>STANCE</th>\n",
       "      <th>PEOPLE_TOT_3PLUS</th>\n",
       "      <th>HAVE_KIDS</th>\n",
       "      <th>GENDER</th>\n",
       "      <th>AGE_BINNED</th>\n",
       "      <th>EDUC_BINNED</th>\n",
       "      <th>FINANCIAL</th>\n",
       "      <th>RETIRED</th>\n",
       "    </tr>\n",
       "    <tr>\n",
       "      <th>INCOME_BINNED</th>\n",
       "      <th></th>\n",
       "      <th></th>\n",
       "      <th></th>\n",
       "      <th></th>\n",
       "      <th></th>\n",
       "      <th></th>\n",
       "      <th></th>\n",
       "      <th></th>\n",
       "      <th></th>\n",
       "      <th></th>\n",
       "      <th></th>\n",
       "      <th></th>\n",
       "      <th></th>\n",
       "      <th></th>\n",
       "      <th></th>\n",
       "      <th></th>\n",
       "      <th></th>\n",
       "      <th></th>\n",
       "      <th></th>\n",
       "      <th></th>\n",
       "      <th></th>\n",
       "    </tr>\n",
       "  </thead>\n",
       "  <tbody>\n",
       "    <tr>\n",
       "      <th>1.0</th>\n",
       "      <td>132</td>\n",
       "      <td>132</td>\n",
       "      <td>132</td>\n",
       "      <td>132</td>\n",
       "      <td>132</td>\n",
       "      <td>132</td>\n",
       "      <td>132</td>\n",
       "      <td>132</td>\n",
       "      <td>132</td>\n",
       "      <td>132</td>\n",
       "      <td>...</td>\n",
       "      <td>132</td>\n",
       "      <td>132</td>\n",
       "      <td>132</td>\n",
       "      <td>132</td>\n",
       "      <td>132</td>\n",
       "      <td>132</td>\n",
       "      <td>132</td>\n",
       "      <td>121</td>\n",
       "      <td>132</td>\n",
       "      <td>132</td>\n",
       "    </tr>\n",
       "    <tr>\n",
       "      <th>2.0</th>\n",
       "      <td>224</td>\n",
       "      <td>224</td>\n",
       "      <td>224</td>\n",
       "      <td>224</td>\n",
       "      <td>224</td>\n",
       "      <td>224</td>\n",
       "      <td>224</td>\n",
       "      <td>224</td>\n",
       "      <td>224</td>\n",
       "      <td>224</td>\n",
       "      <td>...</td>\n",
       "      <td>224</td>\n",
       "      <td>224</td>\n",
       "      <td>224</td>\n",
       "      <td>224</td>\n",
       "      <td>224</td>\n",
       "      <td>224</td>\n",
       "      <td>224</td>\n",
       "      <td>211</td>\n",
       "      <td>224</td>\n",
       "      <td>224</td>\n",
       "    </tr>\n",
       "    <tr>\n",
       "      <th>3.0</th>\n",
       "      <td>208</td>\n",
       "      <td>208</td>\n",
       "      <td>208</td>\n",
       "      <td>208</td>\n",
       "      <td>208</td>\n",
       "      <td>208</td>\n",
       "      <td>208</td>\n",
       "      <td>208</td>\n",
       "      <td>208</td>\n",
       "      <td>208</td>\n",
       "      <td>...</td>\n",
       "      <td>208</td>\n",
       "      <td>208</td>\n",
       "      <td>208</td>\n",
       "      <td>208</td>\n",
       "      <td>208</td>\n",
       "      <td>208</td>\n",
       "      <td>208</td>\n",
       "      <td>187</td>\n",
       "      <td>208</td>\n",
       "      <td>208</td>\n",
       "    </tr>\n",
       "    <tr>\n",
       "      <th>4.0</th>\n",
       "      <td>359</td>\n",
       "      <td>359</td>\n",
       "      <td>359</td>\n",
       "      <td>359</td>\n",
       "      <td>359</td>\n",
       "      <td>359</td>\n",
       "      <td>359</td>\n",
       "      <td>359</td>\n",
       "      <td>359</td>\n",
       "      <td>359</td>\n",
       "      <td>...</td>\n",
       "      <td>359</td>\n",
       "      <td>359</td>\n",
       "      <td>359</td>\n",
       "      <td>359</td>\n",
       "      <td>359</td>\n",
       "      <td>359</td>\n",
       "      <td>359</td>\n",
       "      <td>320</td>\n",
       "      <td>359</td>\n",
       "      <td>359</td>\n",
       "    </tr>\n",
       "    <tr>\n",
       "      <th>5.0</th>\n",
       "      <td>289</td>\n",
       "      <td>289</td>\n",
       "      <td>289</td>\n",
       "      <td>289</td>\n",
       "      <td>289</td>\n",
       "      <td>289</td>\n",
       "      <td>289</td>\n",
       "      <td>289</td>\n",
       "      <td>289</td>\n",
       "      <td>289</td>\n",
       "      <td>...</td>\n",
       "      <td>289</td>\n",
       "      <td>289</td>\n",
       "      <td>289</td>\n",
       "      <td>289</td>\n",
       "      <td>289</td>\n",
       "      <td>289</td>\n",
       "      <td>289</td>\n",
       "      <td>257</td>\n",
       "      <td>289</td>\n",
       "      <td>289</td>\n",
       "    </tr>\n",
       "    <tr>\n",
       "      <th>95.0</th>\n",
       "      <td>266</td>\n",
       "      <td>266</td>\n",
       "      <td>266</td>\n",
       "      <td>266</td>\n",
       "      <td>266</td>\n",
       "      <td>266</td>\n",
       "      <td>266</td>\n",
       "      <td>266</td>\n",
       "      <td>266</td>\n",
       "      <td>266</td>\n",
       "      <td>...</td>\n",
       "      <td>266</td>\n",
       "      <td>266</td>\n",
       "      <td>266</td>\n",
       "      <td>266</td>\n",
       "      <td>266</td>\n",
       "      <td>266</td>\n",
       "      <td>266</td>\n",
       "      <td>236</td>\n",
       "      <td>266</td>\n",
       "      <td>266</td>\n",
       "    </tr>\n",
       "    <tr>\n",
       "      <th>99.0</th>\n",
       "      <td>72</td>\n",
       "      <td>72</td>\n",
       "      <td>72</td>\n",
       "      <td>72</td>\n",
       "      <td>72</td>\n",
       "      <td>72</td>\n",
       "      <td>72</td>\n",
       "      <td>72</td>\n",
       "      <td>72</td>\n",
       "      <td>72</td>\n",
       "      <td>...</td>\n",
       "      <td>72</td>\n",
       "      <td>72</td>\n",
       "      <td>72</td>\n",
       "      <td>72</td>\n",
       "      <td>72</td>\n",
       "      <td>72</td>\n",
       "      <td>72</td>\n",
       "      <td>69</td>\n",
       "      <td>72</td>\n",
       "      <td>72</td>\n",
       "    </tr>\n",
       "  </tbody>\n",
       "</table>\n",
       "<p>7 rows × 47 columns</p>\n",
       "</div>"
      ],
      "text/plain": [
       "               CASE_ID  GPS_NAC_ADOPTER  SURVEY_SOURCE  STATE  \\\n",
       "INCOME_BINNED                                                   \n",
       "1.0                132              132            132    132   \n",
       "2.0                224              224            224    224   \n",
       "3.0                208              208            208    208   \n",
       "4.0                359              359            359    359   \n",
       "5.0                289              289            289    289   \n",
       "95.0               266              266            266    266   \n",
       "99.0                72               72             72     72   \n",
       "\n",
       "               WINTER_NOPV_BINNED  SUMMER_NOPV_BINNED  PN1  PN2  PN3   E2  \\\n",
       "INCOME_BINNED                                                               \n",
       "1.0                           132                 132  132  132  132  132   \n",
       "2.0                           224                 224  224  224  224  224   \n",
       "3.0                           208                 208  208  208  208  208   \n",
       "4.0                           359                 359  359  359  359  359   \n",
       "5.0                           289                 289  289  289  289  289   \n",
       "95.0                          266                 266  266  266  266  266   \n",
       "99.0                           72                  72   72   72   72   72   \n",
       "\n",
       "                ...     CNS4  SQFT_BINNED  STANCE  PEOPLE_TOT_3PLUS  \\\n",
       "INCOME_BINNED   ...                                                   \n",
       "1.0             ...      132          132     132               132   \n",
       "2.0             ...      224          224     224               224   \n",
       "3.0             ...      208          208     208               208   \n",
       "4.0             ...      359          359     359               359   \n",
       "5.0             ...      289          289     289               289   \n",
       "95.0            ...      266          266     266               266   \n",
       "99.0            ...       72           72      72                72   \n",
       "\n",
       "               HAVE_KIDS  GENDER  AGE_BINNED  EDUC_BINNED  FINANCIAL  RETIRED  \n",
       "INCOME_BINNED                                                                  \n",
       "1.0                  132     132         132          121        132      132  \n",
       "2.0                  224     224         224          211        224      224  \n",
       "3.0                  208     208         208          187        208      208  \n",
       "4.0                  359     359         359          320        359      359  \n",
       "5.0                  289     289         289          257        289      289  \n",
       "95.0                 266     266         266          236        266      266  \n",
       "99.0                  72      72          72           69         72       72  \n",
       "\n",
       "[7 rows x 47 columns]"
      ]
     },
     "execution_count": 32,
     "metadata": {},
     "output_type": "execute_result"
    }
   ],
   "source": [
    "#and income:\n",
    "a_comparable.groupby('INCOME_BINNED').count()"
   ]
  },
  {
   "cell_type": "code",
   "execution_count": 33,
   "metadata": {},
   "outputs": [
    {
     "data": {
      "text/plain": [
       "0"
      ]
     },
     "execution_count": 33,
     "metadata": {},
     "output_type": "execute_result"
    }
   ],
   "source": [
    "#for now, let's ffill them both, just to clear missing  data, and run some inferential stats\n",
    "#we may need to revert all this if this is not the best way, or just to see if there are differences\n",
    "\n",
    "#Education\n",
    "a_comparable['EDUC_BINNED'].fillna(method='ffill', inplace=True)\n",
    "a_comparable['EDUC_BINNED'].isnull().sum()\n",
    "\n",
    "#Income\n",
    "a_comparable['INCOME_BINNED'].fillna(method='ffill', inplace=True)\n",
    "a_comparable['INCOME_BINNED'].isnull().sum()"
   ]
  },
  {
   "cell_type": "code",
   "execution_count": 34,
   "metadata": {},
   "outputs": [
    {
     "name": "stdout",
     "output_type": "stream",
     "text": [
      "Count of missing data:\n",
      "Series([], dtype: int64)\n"
     ]
    }
   ],
   "source": [
    "#Finally, re-calculate the percent of missing data:\n",
    "a_comp_nulls_count = a_comparable.isnull().sum()\n",
    "a_comp_nulls_count = a_comp_nulls_count[a_comp_nulls_count !=0] #remove the features that are not missing data\n",
    "print(\"Count of missing data:\")\n",
    "print(a_comp_nulls_count)"
   ]
  },
  {
   "cell_type": "markdown",
   "metadata": {},
   "source": [
    "#### Summary of filling in the missing data for the Adopters dataset:\n",
    "-  'Home'-removed, since so much is missing\n",
    "-  'Winter/Summer bills w/o PV'-filled with mean\n",
    "-  'SQFT'-filled with mean\n",
    "-  'Have Kids/Gender'-filled with prevailing value\n",
    "-  'People-total >=3'-filled with ffill to maintain even distribution\n",
    "-  'age'-filled with ffill to maintain even distribution\n",
    "-  'education'-filled with ffill to maintain even distribution\n",
    "-  'income'-filled with ffill to maintain even distribution"
   ]
  },
  {
   "cell_type": "markdown",
   "metadata": {},
   "source": [
    "#### Let's clean up the missing data in both C and G groups in the same was as was done for the A group."
   ]
  },
  {
   "cell_type": "code",
   "execution_count": 35,
   "metadata": {},
   "outputs": [
    {
     "name": "stdout",
     "output_type": "stream",
     "text": [
      "Percent missing data:\n",
      "WINTER_NOPV_BINNED    2.551020\n",
      "SUMMER_NOPV_BINNED    2.210884\n",
      "PN2                   0.170068\n",
      "E2                    0.170068\n",
      "BB2                   0.170068\n",
      "BE10                  0.170068\n",
      "VT1                   0.170068\n",
      "SQFT_BINNED           8.843537\n",
      "PEOPLE_TOT_3PLUS      2.380952\n",
      "AGE_BINNED            1.700680\n",
      "dtype: float64\n"
     ]
    }
   ],
   "source": [
    "#drop the HOME column\n",
    "c_comparable = c_comparable.drop('HOME', axis=1)\n",
    "\n",
    "#calculate the percent of missing data:\n",
    "c_comp_nulls = c_comparable.isnull().sum()/len(c_comparable)*100\n",
    "c_comp_nulls = c_comp_nulls[c_comp_nulls !=0]\n",
    "print(\"Percent missing data:\")\n",
    "print(c_comp_nulls)"
   ]
  },
  {
   "cell_type": "code",
   "execution_count": 36,
   "metadata": {},
   "outputs": [
    {
     "name": "stdout",
     "output_type": "stream",
     "text": [
      "Percent missing data:\n",
      "WINTER_NOPV_BINNED    15\n",
      "SUMMER_NOPV_BINNED    13\n",
      "PN2                    1\n",
      "E2                     1\n",
      "BB2                    1\n",
      "BE10                   1\n",
      "VT1                    1\n",
      "SQFT_BINNED           52\n",
      "PEOPLE_TOT_3PLUS      14\n",
      "AGE_BINNED            10\n",
      "dtype: int64\n"
     ]
    }
   ],
   "source": [
    "#calculate the percent of missing data:\n",
    "c_comp_nulls_counts = c_comparable.isnull().sum()\n",
    "c_comp_nulls_counts = c_comp_nulls_counts[c_comp_nulls_counts !=0]\n",
    "print(\"Percent missing data:\")\n",
    "print(c_comp_nulls_counts)"
   ]
  },
  {
   "cell_type": "code",
   "execution_count": 37,
   "metadata": {},
   "outputs": [
    {
     "name": "stdout",
     "output_type": "stream",
     "text": [
      "Percent missing data:\n",
      "Series([], dtype: float64)\n"
     ]
    }
   ],
   "source": [
    "#Fill in all null values as was done to a_comparable\n",
    "#winter feature\n",
    "c_winter_mean = c_comparable.WINTER_NOPV_BINNED.mean()\n",
    "c_comparable.WINTER_NOPV_BINNED.fillna(c_winter_mean, inplace=True)\n",
    "\n",
    "#summer feature\n",
    "c_summer_mean = c_comparable.SUMMER_NOPV_BINNED.mean()\n",
    "c_comparable.SUMMER_NOPV_BINNED.fillna(c_summer_mean, inplace=True)\n",
    "\n",
    "#PN2, E2, BB2, BE10, VT1\n",
    "c_comparable.PN2.fillna(method='ffill', inplace=True)\n",
    "c_comparable.E2.fillna(method='ffill', inplace=True)\n",
    "c_comparable.BB2.fillna(method='ffill', inplace=True)\n",
    "c_comparable.BE10.fillna(method='ffill', inplace=True)\n",
    "c_comparable.VT1.fillna(method='ffill', inplace=True)\n",
    "\n",
    "#SQFT\n",
    "c_comparable.SQFT_BINNED.fillna(a_SQFT_mean, inplace=True)\n",
    "\n",
    "#people_tot feature\n",
    "c_comparable['PEOPLE_TOT_3PLUS'].fillna(method='ffill', inplace=True)\n",
    "\n",
    "#age feature\n",
    "c_comparable['AGE_BINNED'].fillna(method='ffill', inplace=True)\n",
    "\n",
    "#re-calculate the percent of missing data once all data is deleted/populated:\n",
    "c_comp_nulls = c_comparable.isnull().sum()/len(c_comparable)*100\n",
    "c_comp_nulls = c_comp_nulls[c_comp_nulls !=0]\n",
    "print(\"Percent missing data:\")\n",
    "print(c_comp_nulls)"
   ]
  },
  {
   "cell_type": "code",
   "execution_count": 38,
   "metadata": {},
   "outputs": [
    {
     "name": "stdout",
     "output_type": "stream",
     "text": [
      "Percent missing data:\n",
      "WINTER_NOPV_BINNED    8.277405\n",
      "SUMMER_NOPV_BINNED    8.426547\n",
      "PEOPLE_TOT_3PLUS      1.789709\n",
      "AGE_BINNED            0.149142\n",
      "dtype: float64\n"
     ]
    }
   ],
   "source": [
    "#drop the HOME column\n",
    "g_comparable = g_comparable.drop('HOME', axis=1)\n",
    "\n",
    "#calculate the percent of missing data:\n",
    "g_comp_nulls = g_comparable.isnull().sum()/len(g_comparable)*100\n",
    "g_comp_nulls = g_comp_nulls[g_comp_nulls !=0]\n",
    "print(\"Percent missing data:\")\n",
    "print(g_comp_nulls)"
   ]
  },
  {
   "cell_type": "code",
   "execution_count": 39,
   "metadata": {},
   "outputs": [
    {
     "name": "stdout",
     "output_type": "stream",
     "text": [
      "Percent missing data:\n",
      "Series([], dtype: float64)\n"
     ]
    }
   ],
   "source": [
    "#Fill in all null values as was done to a_comparable\n",
    "#winter feature\n",
    "g_winter_mean = g_comparable.WINTER_NOPV_BINNED.mean()\n",
    "g_comparable.WINTER_NOPV_BINNED.fillna(g_winter_mean, inplace=True)\n",
    "\n",
    "#summer feature\n",
    "g_summer_mean = g_comparable.SUMMER_NOPV_BINNED.mean()\n",
    "g_comparable.SUMMER_NOPV_BINNED.fillna(g_summer_mean, inplace=True)\n",
    "\n",
    "#people_tot feature\n",
    "g_comparable['PEOPLE_TOT_3PLUS'].fillna(method='ffill', inplace=True)\n",
    "\n",
    "#age feature\n",
    "g_comparable['AGE_BINNED'].fillna(method='ffill', inplace=True)\n",
    "\n",
    "#re-calculate the percent of missing data(should all be zero now)\n",
    "g_comp_nulls_filled = g_comparable.isnull().sum()/len(g_comparable)*100\n",
    "g_comp_nulls_filled = g_comp_nulls_filled[g_comp_nulls_filled !=0]\n",
    "print(\"Percent missing data:\")\n",
    "print(g_comp_nulls_filled)"
   ]
  },
  {
   "cell_type": "markdown",
   "metadata": {},
   "source": [
    "#### Now, all nulls are filled for A, C, and G groups."
   ]
  },
  {
   "cell_type": "markdown",
   "metadata": {},
   "source": [
    "#### Taking a look at some data that may be a predictor of someone purchasing-Income:"
   ]
  },
  {
   "cell_type": "code",
   "execution_count": 40,
   "metadata": {},
   "outputs": [
    {
     "data": {
      "text/plain": [
       "INCOME_BINNED\n",
       "1.0     137\n",
       "2.0     232\n",
       "3.0     215\n",
       "4.0     374\n",
       "5.0     296\n",
       "95.0    277\n",
       "99.0     73\n",
       "Name: INCOME_BINNED, dtype: int64"
      ]
     },
     "execution_count": 40,
     "metadata": {},
     "output_type": "execute_result"
    }
   ],
   "source": [
    "a_count = a_comparable.groupby('INCOME_BINNED')['INCOME_BINNED'].count()\n",
    "a_count"
   ]
  },
  {
   "cell_type": "code",
   "execution_count": 41,
   "metadata": {},
   "outputs": [
    {
     "data": {
      "text/plain": [
       "INCOME_BINNED\n",
       "1.0      8.541147\n",
       "2.0     14.463840\n",
       "3.0     13.403990\n",
       "4.0     23.316708\n",
       "5.0     18.453865\n",
       "95.0    17.269327\n",
       "99.0     4.551122\n",
       "Name: Adopter, dtype: float64"
      ]
     },
     "execution_count": 41,
     "metadata": {},
     "output_type": "execute_result"
    }
   ],
   "source": [
    "#Percent breakdown of income feature in A group\n",
    "a_counts = a_count.apply(lambda x: 100 * x/a_count.sum())\n",
    "a_counts.rename('Adopter', inplace=True)\n",
    "a_counts"
   ]
  },
  {
   "cell_type": "code",
   "execution_count": 42,
   "metadata": {},
   "outputs": [
    {
     "data": {
      "text/plain": [
       "INCOME_BINNED\n",
       "1     104\n",
       "2     104\n",
       "3     121\n",
       "4     120\n",
       "5      89\n",
       "95     40\n",
       "99     10\n",
       "Name: INCOME_BINNED, dtype: int64"
      ]
     },
     "execution_count": 42,
     "metadata": {},
     "output_type": "execute_result"
    }
   ],
   "source": [
    "c_count = c_comparable.groupby('INCOME_BINNED')['INCOME_BINNED'].count()\n",
    "c_count"
   ]
  },
  {
   "cell_type": "code",
   "execution_count": 43,
   "metadata": {},
   "outputs": [
    {
     "data": {
      "text/plain": [
       "INCOME_BINNED\n",
       "1     17.687075\n",
       "2     17.687075\n",
       "3     20.578231\n",
       "4     20.408163\n",
       "5     15.136054\n",
       "95     6.802721\n",
       "99     1.700680\n",
       "Name: Considerer, dtype: float64"
      ]
     },
     "execution_count": 43,
     "metadata": {},
     "output_type": "execute_result"
    }
   ],
   "source": [
    "#compare income A counts to C group\n",
    "c_counts = c_count.apply(lambda x: 100 * x/c_count.sum())\n",
    "c_counts.rename('Considerer', inplace=True)\n",
    "c_counts"
   ]
  },
  {
   "cell_type": "code",
   "execution_count": 44,
   "metadata": {},
   "outputs": [],
   "source": [
    "#seeing more upper income on adopters than in considerer group."
   ]
  },
  {
   "cell_type": "code",
   "execution_count": 45,
   "metadata": {},
   "outputs": [
    {
     "data": {
      "text/plain": [
       "INCOME_BINNED\n",
       "1     17.225951\n",
       "2     18.568233\n",
       "3     18.642804\n",
       "4     18.568233\n",
       "5     11.185682\n",
       "95    15.734526\n",
       "99     0.074571\n",
       "Name: GPS, dtype: float64"
      ]
     },
     "execution_count": 45,
     "metadata": {},
     "output_type": "execute_result"
    }
   ],
   "source": [
    "g_count = g_comparable.groupby('INCOME_BINNED')['INCOME_BINNED'].count()\n",
    "g_counts = g_count.apply(lambda x: 100 * x/g_count.sum())\n",
    "g_counts.rename('GPS', inplace=True)\n",
    "g_counts"
   ]
  },
  {
   "cell_type": "code",
   "execution_count": 46,
   "metadata": {},
   "outputs": [],
   "source": [
    "plt.rcParams['figure.figsize'] = (16,5)"
   ]
  },
  {
   "cell_type": "code",
   "execution_count": 47,
   "metadata": {},
   "outputs": [
    {
     "data": {
      "text/plain": [
       "Adopter       AxesSubplot(0.125,0.125;0.775x0.755)\n",
       "Considerer    AxesSubplot(0.125,0.125;0.775x0.755)\n",
       "GPS           AxesSubplot(0.125,0.125;0.775x0.755)\n",
       "dtype: object"
      ]
     },
     "execution_count": 47,
     "metadata": {},
     "output_type": "execute_result"
    },
    {
     "data": {
      "image/png": "[encoded data removed]",
      "text/plain": [
       "<Figure size 1152x360 with 1 Axes>"
      ]
     },
     "metadata": {
      "needs_background": "light"
     },
     "output_type": "display_data"
    },
    {
     "data": {
      "image/png": "[encoded data removed]",
      "text/plain": [
       "<Figure size 1152x360 with 1 Axes>"
      ]
     },
     "metadata": {
      "needs_background": "light"
     },
     "output_type": "display_data"
    },
    {
     "data": {
      "image/png": "[encoded data removed]",
      "text/plain": [
       "<Figure size 1152x360 with 1 Axes>"
      ]
     },
     "metadata": {
      "needs_background": "light"
     },
     "output_type": "display_data"
    }
   ],
   "source": [
    "#and even more so in the gps (not considering) group.\n",
    "all_income = pd.DataFrame()\n",
    "all_income.append([a_counts, c_counts, g_counts]).groupby(level=0).plot(kind='bar')"
   ]
  },
  {
   "cell_type": "code",
   "execution_count": 48,
   "metadata": {},
   "outputs": [],
   "source": [
    "#Add target class to all datasets-\n",
    "a_comparable['Purchased'] = '1'\n",
    "c_comparable['Purchased'] = '0'\n",
    "g_comparable['Purchased'] = '0'"
   ]
  },
  {
   "cell_type": "code",
   "execution_count": 49,
   "metadata": {},
   "outputs": [
    {
     "data": {
      "text/html": [
       "<div>\n",
       "<style scoped>\n",
       "    .dataframe tbody tr th:only-of-type {\n",
       "        vertical-align: middle;\n",
       "    }\n",
       "\n",
       "    .dataframe tbody tr th {\n",
       "        vertical-align: top;\n",
       "    }\n",
       "\n",
       "    .dataframe thead th {\n",
       "        text-align: right;\n",
       "    }\n",
       "</style>\n",
       "<table border=\"1\" class=\"dataframe\">\n",
       "  <thead>\n",
       "    <tr style=\"text-align: right;\">\n",
       "      <th></th>\n",
       "      <th>CASE_ID</th>\n",
       "      <th>GPS_NAC_ADOPTER</th>\n",
       "      <th>SURVEY_SOURCE</th>\n",
       "      <th>STATE</th>\n",
       "      <th>WINTER_NOPV_BINNED</th>\n",
       "      <th>SUMMER_NOPV_BINNED</th>\n",
       "      <th>PN1</th>\n",
       "      <th>PN2</th>\n",
       "      <th>PN3</th>\n",
       "      <th>E2</th>\n",
       "      <th>...</th>\n",
       "      <th>STANCE</th>\n",
       "      <th>PEOPLE_TOT_3PLUS</th>\n",
       "      <th>HAVE_KIDS</th>\n",
       "      <th>GENDER</th>\n",
       "      <th>AGE_BINNED</th>\n",
       "      <th>EDUC_BINNED</th>\n",
       "      <th>FINANCIAL</th>\n",
       "      <th>INCOME_BINNED</th>\n",
       "      <th>RETIRED</th>\n",
       "      <th>Purchased</th>\n",
       "    </tr>\n",
       "  </thead>\n",
       "  <tbody>\n",
       "    <tr>\n",
       "      <th>count</th>\n",
       "      <td>1341</td>\n",
       "      <td>1341</td>\n",
       "      <td>1341</td>\n",
       "      <td>1341</td>\n",
       "      <td>1341.0</td>\n",
       "      <td>1341.0</td>\n",
       "      <td>1341</td>\n",
       "      <td>1341</td>\n",
       "      <td>1341</td>\n",
       "      <td>1341</td>\n",
       "      <td>...</td>\n",
       "      <td>1341</td>\n",
       "      <td>1341.0</td>\n",
       "      <td>1341</td>\n",
       "      <td>1341</td>\n",
       "      <td>1341.0</td>\n",
       "      <td>1341</td>\n",
       "      <td>1341</td>\n",
       "      <td>1341</td>\n",
       "      <td>1341</td>\n",
       "      <td>1341</td>\n",
       "    </tr>\n",
       "    <tr>\n",
       "      <th>unique</th>\n",
       "      <td>1341</td>\n",
       "      <td>1</td>\n",
       "      <td>1</td>\n",
       "      <td>4</td>\n",
       "      <td>12.0</td>\n",
       "      <td>12.0</td>\n",
       "      <td>6</td>\n",
       "      <td>6</td>\n",
       "      <td>6</td>\n",
       "      <td>6</td>\n",
       "      <td>...</td>\n",
       "      <td>8</td>\n",
       "      <td>2.0</td>\n",
       "      <td>3</td>\n",
       "      <td>3</td>\n",
       "      <td>4.0</td>\n",
       "      <td>4</td>\n",
       "      <td>5</td>\n",
       "      <td>7</td>\n",
       "      <td>2</td>\n",
       "      <td>1</td>\n",
       "    </tr>\n",
       "    <tr>\n",
       "      <th>top</th>\n",
       "      <td>1341</td>\n",
       "      <td>1</td>\n",
       "      <td>1</td>\n",
       "      <td>3</td>\n",
       "      <td>5.0</td>\n",
       "      <td>5.0</td>\n",
       "      <td>4</td>\n",
       "      <td>4</td>\n",
       "      <td>4</td>\n",
       "      <td>4</td>\n",
       "      <td>...</td>\n",
       "      <td>3</td>\n",
       "      <td>0.0</td>\n",
       "      <td>0</td>\n",
       "      <td>1</td>\n",
       "      <td>4.0</td>\n",
       "      <td>2</td>\n",
       "      <td>1</td>\n",
       "      <td>3</td>\n",
       "      <td>0</td>\n",
       "      <td>0</td>\n",
       "    </tr>\n",
       "    <tr>\n",
       "      <th>freq</th>\n",
       "      <td>1</td>\n",
       "      <td>1341</td>\n",
       "      <td>1341</td>\n",
       "      <td>351</td>\n",
       "      <td>297.0</td>\n",
       "      <td>254.0</td>\n",
       "      <td>504</td>\n",
       "      <td>555</td>\n",
       "      <td>673</td>\n",
       "      <td>466</td>\n",
       "      <td>...</td>\n",
       "      <td>437</td>\n",
       "      <td>866.0</td>\n",
       "      <td>1034</td>\n",
       "      <td>795</td>\n",
       "      <td>377.0</td>\n",
       "      <td>456</td>\n",
       "      <td>614</td>\n",
       "      <td>250</td>\n",
       "      <td>857</td>\n",
       "      <td>1341</td>\n",
       "    </tr>\n",
       "  </tbody>\n",
       "</table>\n",
       "<p>4 rows × 49 columns</p>\n",
       "</div>"
      ],
      "text/plain": [
       "        CASE_ID  GPS_NAC_ADOPTER  SURVEY_SOURCE  STATE  WINTER_NOPV_BINNED  \\\n",
       "count      1341             1341           1341   1341              1341.0   \n",
       "unique     1341                1              1      4                12.0   \n",
       "top        1341                1              1      3                 5.0   \n",
       "freq          1             1341           1341    351               297.0   \n",
       "\n",
       "        SUMMER_NOPV_BINNED   PN1   PN2   PN3    E2    ...      STANCE  \\\n",
       "count               1341.0  1341  1341  1341  1341    ...        1341   \n",
       "unique                12.0     6     6     6     6    ...           8   \n",
       "top                    5.0     4     4     4     4    ...           3   \n",
       "freq                 254.0   504   555   673   466    ...         437   \n",
       "\n",
       "        PEOPLE_TOT_3PLUS  HAVE_KIDS  GENDER  AGE_BINNED  EDUC_BINNED  \\\n",
       "count             1341.0       1341    1341      1341.0         1341   \n",
       "unique               2.0          3       3         4.0            4   \n",
       "top                  0.0          0       1         4.0            2   \n",
       "freq               866.0       1034     795       377.0          456   \n",
       "\n",
       "        FINANCIAL  INCOME_BINNED  RETIRED  Purchased  \n",
       "count        1341           1341     1341       1341  \n",
       "unique          5              7        2          1  \n",
       "top             1              3        0          0  \n",
       "freq          614            250      857       1341  \n",
       "\n",
       "[4 rows x 49 columns]"
      ]
     },
     "execution_count": 49,
     "metadata": {},
     "output_type": "execute_result"
    }
   ],
   "source": [
    "#make all dataset's features categorical\n",
    "g_comparable_cat = g_comparable[g_comparable.columns].astype('category')\n",
    "g_comparable_cat.set_index('CASE_ID')\n",
    "g_comparable_cat.describe()"
   ]
  },
  {
   "cell_type": "code",
   "execution_count": 50,
   "metadata": {},
   "outputs": [
    {
     "data": {
      "text/html": [
       "<div>\n",
       "<style scoped>\n",
       "    .dataframe tbody tr th:only-of-type {\n",
       "        vertical-align: middle;\n",
       "    }\n",
       "\n",
       "    .dataframe tbody tr th {\n",
       "        vertical-align: top;\n",
       "    }\n",
       "\n",
       "    .dataframe thead th {\n",
       "        text-align: right;\n",
       "    }\n",
       "</style>\n",
       "<table border=\"1\" class=\"dataframe\">\n",
       "  <thead>\n",
       "    <tr style=\"text-align: right;\">\n",
       "      <th></th>\n",
       "      <th>CASE_ID</th>\n",
       "      <th>GPS_NAC_ADOPTER</th>\n",
       "      <th>SURVEY_SOURCE</th>\n",
       "      <th>STATE</th>\n",
       "      <th>WINTER_NOPV_BINNED</th>\n",
       "      <th>SUMMER_NOPV_BINNED</th>\n",
       "      <th>PN1</th>\n",
       "      <th>PN2</th>\n",
       "      <th>PN3</th>\n",
       "      <th>E2</th>\n",
       "      <th>...</th>\n",
       "      <th>STANCE</th>\n",
       "      <th>PEOPLE_TOT_3PLUS</th>\n",
       "      <th>HAVE_KIDS</th>\n",
       "      <th>GENDER</th>\n",
       "      <th>AGE_BINNED</th>\n",
       "      <th>EDUC_BINNED</th>\n",
       "      <th>FINANCIAL</th>\n",
       "      <th>INCOME_BINNED</th>\n",
       "      <th>RETIRED</th>\n",
       "      <th>Purchased</th>\n",
       "    </tr>\n",
       "  </thead>\n",
       "  <tbody>\n",
       "    <tr>\n",
       "      <th>0</th>\n",
       "      <td>1</td>\n",
       "      <td>1</td>\n",
       "      <td>1</td>\n",
       "      <td>1</td>\n",
       "      <td>6.0</td>\n",
       "      <td>4.0</td>\n",
       "      <td>3</td>\n",
       "      <td>3</td>\n",
       "      <td>3</td>\n",
       "      <td>4</td>\n",
       "      <td>...</td>\n",
       "      <td>2</td>\n",
       "      <td>0.0</td>\n",
       "      <td>0</td>\n",
       "      <td>0</td>\n",
       "      <td>4.0</td>\n",
       "      <td>4</td>\n",
       "      <td>2</td>\n",
       "      <td>3</td>\n",
       "      <td>1</td>\n",
       "      <td>0</td>\n",
       "    </tr>\n",
       "    <tr>\n",
       "      <th>1</th>\n",
       "      <td>2</td>\n",
       "      <td>1</td>\n",
       "      <td>1</td>\n",
       "      <td>4</td>\n",
       "      <td>7.0</td>\n",
       "      <td>8.0</td>\n",
       "      <td>5</td>\n",
       "      <td>5</td>\n",
       "      <td>3</td>\n",
       "      <td>5</td>\n",
       "      <td>...</td>\n",
       "      <td>2</td>\n",
       "      <td>0.0</td>\n",
       "      <td>0</td>\n",
       "      <td>1</td>\n",
       "      <td>3.0</td>\n",
       "      <td>4</td>\n",
       "      <td>2</td>\n",
       "      <td>4</td>\n",
       "      <td>0</td>\n",
       "      <td>0</td>\n",
       "    </tr>\n",
       "    <tr>\n",
       "      <th>2</th>\n",
       "      <td>3</td>\n",
       "      <td>1</td>\n",
       "      <td>1</td>\n",
       "      <td>2</td>\n",
       "      <td>5.0</td>\n",
       "      <td>5.0</td>\n",
       "      <td>3</td>\n",
       "      <td>3</td>\n",
       "      <td>4</td>\n",
       "      <td>4</td>\n",
       "      <td>...</td>\n",
       "      <td>4</td>\n",
       "      <td>0.0</td>\n",
       "      <td>0</td>\n",
       "      <td>0</td>\n",
       "      <td>4.0</td>\n",
       "      <td>1</td>\n",
       "      <td>1</td>\n",
       "      <td>95</td>\n",
       "      <td>1</td>\n",
       "      <td>0</td>\n",
       "    </tr>\n",
       "    <tr>\n",
       "      <th>3</th>\n",
       "      <td>4</td>\n",
       "      <td>1</td>\n",
       "      <td>1</td>\n",
       "      <td>4</td>\n",
       "      <td>3.0</td>\n",
       "      <td>2.0</td>\n",
       "      <td>3</td>\n",
       "      <td>3</td>\n",
       "      <td>3</td>\n",
       "      <td>4</td>\n",
       "      <td>...</td>\n",
       "      <td>4</td>\n",
       "      <td>0.0</td>\n",
       "      <td>0</td>\n",
       "      <td>0</td>\n",
       "      <td>4.0</td>\n",
       "      <td>2</td>\n",
       "      <td>1</td>\n",
       "      <td>4</td>\n",
       "      <td>1</td>\n",
       "      <td>0</td>\n",
       "    </tr>\n",
       "    <tr>\n",
       "      <th>4</th>\n",
       "      <td>5</td>\n",
       "      <td>1</td>\n",
       "      <td>1</td>\n",
       "      <td>4</td>\n",
       "      <td>4.0</td>\n",
       "      <td>3.0</td>\n",
       "      <td>4</td>\n",
       "      <td>4</td>\n",
       "      <td>4</td>\n",
       "      <td>4</td>\n",
       "      <td>...</td>\n",
       "      <td>97</td>\n",
       "      <td>0.0</td>\n",
       "      <td>0</td>\n",
       "      <td>0</td>\n",
       "      <td>4.0</td>\n",
       "      <td>1</td>\n",
       "      <td>2</td>\n",
       "      <td>3</td>\n",
       "      <td>1</td>\n",
       "      <td>0</td>\n",
       "    </tr>\n",
       "  </tbody>\n",
       "</table>\n",
       "<p>5 rows × 49 columns</p>\n",
       "</div>"
      ],
      "text/plain": [
       "  CASE_ID GPS_NAC_ADOPTER SURVEY_SOURCE STATE WINTER_NOPV_BINNED  \\\n",
       "0       1               1             1     1                6.0   \n",
       "1       2               1             1     4                7.0   \n",
       "2       3               1             1     2                5.0   \n",
       "3       4               1             1     4                3.0   \n",
       "4       5               1             1     4                4.0   \n",
       "\n",
       "  SUMMER_NOPV_BINNED PN1 PN2 PN3 E2    ...    STANCE PEOPLE_TOT_3PLUS  \\\n",
       "0                4.0   3   3   3  4    ...         2              0.0   \n",
       "1                8.0   5   5   3  5    ...         2              0.0   \n",
       "2                5.0   3   3   4  4    ...         4              0.0   \n",
       "3                2.0   3   3   3  4    ...         4              0.0   \n",
       "4                3.0   4   4   4  4    ...        97              0.0   \n",
       "\n",
       "  HAVE_KIDS GENDER AGE_BINNED EDUC_BINNED FINANCIAL INCOME_BINNED RETIRED  \\\n",
       "0         0      0        4.0           4         2             3       1   \n",
       "1         0      1        3.0           4         2             4       0   \n",
       "2         0      0        4.0           1         1            95       1   \n",
       "3         0      0        4.0           2         1             4       1   \n",
       "4         0      0        4.0           1         2             3       1   \n",
       "\n",
       "  Purchased  \n",
       "0         0  \n",
       "1         0  \n",
       "2         0  \n",
       "3         0  \n",
       "4         0  \n",
       "\n",
       "[5 rows x 49 columns]"
      ]
     },
     "execution_count": 50,
     "metadata": {},
     "output_type": "execute_result"
    }
   ],
   "source": [
    "#adding in a target column, and populating the G group with 0 (have not purchased)\n",
    "#g_comparable_cat['Purchased'] = '0'\n",
    "g_comparable_cat.head()"
   ]
  },
  {
   "cell_type": "code",
   "execution_count": 51,
   "metadata": {},
   "outputs": [
    {
     "data": {
      "text/html": [
       "<div>\n",
       "<style scoped>\n",
       "    .dataframe tbody tr th:only-of-type {\n",
       "        vertical-align: middle;\n",
       "    }\n",
       "\n",
       "    .dataframe tbody tr th {\n",
       "        vertical-align: top;\n",
       "    }\n",
       "\n",
       "    .dataframe thead th {\n",
       "        text-align: right;\n",
       "    }\n",
       "</style>\n",
       "<table border=\"1\" class=\"dataframe\">\n",
       "  <thead>\n",
       "    <tr style=\"text-align: right;\">\n",
       "      <th></th>\n",
       "      <th>CASE_ID</th>\n",
       "      <th>GPS_NAC_ADOPTER</th>\n",
       "      <th>SURVEY_SOURCE</th>\n",
       "      <th>STATE</th>\n",
       "      <th>WINTER_NOPV_BINNED</th>\n",
       "      <th>SUMMER_NOPV_BINNED</th>\n",
       "      <th>PN1</th>\n",
       "      <th>PN2</th>\n",
       "      <th>PN3</th>\n",
       "      <th>E2</th>\n",
       "      <th>...</th>\n",
       "      <th>STANCE</th>\n",
       "      <th>PEOPLE_TOT_3PLUS</th>\n",
       "      <th>HAVE_KIDS</th>\n",
       "      <th>GENDER</th>\n",
       "      <th>AGE_BINNED</th>\n",
       "      <th>EDUC_BINNED</th>\n",
       "      <th>FINANCIAL</th>\n",
       "      <th>INCOME_BINNED</th>\n",
       "      <th>RETIRED</th>\n",
       "      <th>Purchased</th>\n",
       "    </tr>\n",
       "  </thead>\n",
       "  <tbody>\n",
       "    <tr>\n",
       "      <th>count</th>\n",
       "      <td>1604</td>\n",
       "      <td>1604</td>\n",
       "      <td>1604</td>\n",
       "      <td>1604</td>\n",
       "      <td>1604.0</td>\n",
       "      <td>1604.0</td>\n",
       "      <td>1604</td>\n",
       "      <td>1604</td>\n",
       "      <td>1604</td>\n",
       "      <td>1604</td>\n",
       "      <td>...</td>\n",
       "      <td>1604</td>\n",
       "      <td>1604.0</td>\n",
       "      <td>1604.0</td>\n",
       "      <td>1604.0</td>\n",
       "      <td>1604.0</td>\n",
       "      <td>1604.0</td>\n",
       "      <td>1604</td>\n",
       "      <td>1604.0</td>\n",
       "      <td>1604</td>\n",
       "      <td>1604</td>\n",
       "    </tr>\n",
       "    <tr>\n",
       "      <th>unique</th>\n",
       "      <td>1604</td>\n",
       "      <td>1</td>\n",
       "      <td>2</td>\n",
       "      <td>4</td>\n",
       "      <td>12.0</td>\n",
       "      <td>12.0</td>\n",
       "      <td>7</td>\n",
       "      <td>7</td>\n",
       "      <td>7</td>\n",
       "      <td>7</td>\n",
       "      <td>...</td>\n",
       "      <td>8</td>\n",
       "      <td>2.0</td>\n",
       "      <td>3.0</td>\n",
       "      <td>3.0</td>\n",
       "      <td>4.0</td>\n",
       "      <td>5.0</td>\n",
       "      <td>5</td>\n",
       "      <td>7.0</td>\n",
       "      <td>3</td>\n",
       "      <td>1</td>\n",
       "    </tr>\n",
       "    <tr>\n",
       "      <th>top</th>\n",
       "      <td>2945</td>\n",
       "      <td>3</td>\n",
       "      <td>2</td>\n",
       "      <td>4</td>\n",
       "      <td>5.0</td>\n",
       "      <td>11.0</td>\n",
       "      <td>5</td>\n",
       "      <td>5</td>\n",
       "      <td>4</td>\n",
       "      <td>5</td>\n",
       "      <td>...</td>\n",
       "      <td>3</td>\n",
       "      <td>0.0</td>\n",
       "      <td>0.0</td>\n",
       "      <td>0.0</td>\n",
       "      <td>3.0</td>\n",
       "      <td>2.0</td>\n",
       "      <td>1</td>\n",
       "      <td>4.0</td>\n",
       "      <td>0</td>\n",
       "      <td>1</td>\n",
       "    </tr>\n",
       "    <tr>\n",
       "      <th>freq</th>\n",
       "      <td>1</td>\n",
       "      <td>1604</td>\n",
       "      <td>1529</td>\n",
       "      <td>1176</td>\n",
       "      <td>312.0</td>\n",
       "      <td>285.0</td>\n",
       "      <td>543</td>\n",
       "      <td>505</td>\n",
       "      <td>657</td>\n",
       "      <td>672</td>\n",
       "      <td>...</td>\n",
       "      <td>494</td>\n",
       "      <td>811.0</td>\n",
       "      <td>1030.0</td>\n",
       "      <td>1018.0</td>\n",
       "      <td>497.0</td>\n",
       "      <td>557.0</td>\n",
       "      <td>835</td>\n",
       "      <td>374.0</td>\n",
       "      <td>996</td>\n",
       "      <td>1604</td>\n",
       "    </tr>\n",
       "  </tbody>\n",
       "</table>\n",
       "<p>4 rows × 49 columns</p>\n",
       "</div>"
      ],
      "text/plain": [
       "        CASE_ID  GPS_NAC_ADOPTER  SURVEY_SOURCE  STATE  WINTER_NOPV_BINNED  \\\n",
       "count      1604             1604           1604   1604              1604.0   \n",
       "unique     1604                1              2      4                12.0   \n",
       "top        2945                3              2      4                 5.0   \n",
       "freq          1             1604           1529   1176               312.0   \n",
       "\n",
       "        SUMMER_NOPV_BINNED   PN1   PN2   PN3    E2    ...      STANCE  \\\n",
       "count               1604.0  1604  1604  1604  1604    ...        1604   \n",
       "unique                12.0     7     7     7     7    ...           8   \n",
       "top                   11.0     5     5     4     5    ...           3   \n",
       "freq                 285.0   543   505   657   672    ...         494   \n",
       "\n",
       "        PEOPLE_TOT_3PLUS  HAVE_KIDS  GENDER  AGE_BINNED  EDUC_BINNED  \\\n",
       "count             1604.0     1604.0  1604.0      1604.0       1604.0   \n",
       "unique               2.0        3.0     3.0         4.0          5.0   \n",
       "top                  0.0        0.0     0.0         3.0          2.0   \n",
       "freq               811.0     1030.0  1018.0       497.0        557.0   \n",
       "\n",
       "        FINANCIAL  INCOME_BINNED  RETIRED  Purchased  \n",
       "count        1604         1604.0     1604       1604  \n",
       "unique          5            7.0        3          1  \n",
       "top             1            4.0        0          1  \n",
       "freq          835          374.0      996       1604  \n",
       "\n",
       "[4 rows x 49 columns]"
      ]
     },
     "execution_count": 51,
     "metadata": {},
     "output_type": "execute_result"
    }
   ],
   "source": [
    "a_comparable_cat = a_comparable[a_comparable.columns].astype('category')\n",
    "a_comparable_cat.set_index('CASE_ID')\n",
    "a_comparable_cat.describe()"
   ]
  },
  {
   "cell_type": "code",
   "execution_count": 52,
   "metadata": {},
   "outputs": [
    {
     "data": {
      "text/html": [
       "<div>\n",
       "<style scoped>\n",
       "    .dataframe tbody tr th:only-of-type {\n",
       "        vertical-align: middle;\n",
       "    }\n",
       "\n",
       "    .dataframe tbody tr th {\n",
       "        vertical-align: top;\n",
       "    }\n",
       "\n",
       "    .dataframe thead th {\n",
       "        text-align: right;\n",
       "    }\n",
       "</style>\n",
       "<table border=\"1\" class=\"dataframe\">\n",
       "  <thead>\n",
       "    <tr style=\"text-align: right;\">\n",
       "      <th></th>\n",
       "      <th>CASE_ID</th>\n",
       "      <th>GPS_NAC_ADOPTER</th>\n",
       "      <th>SURVEY_SOURCE</th>\n",
       "      <th>STATE</th>\n",
       "      <th>WINTER_NOPV_BINNED</th>\n",
       "      <th>SUMMER_NOPV_BINNED</th>\n",
       "      <th>PN1</th>\n",
       "      <th>PN2</th>\n",
       "      <th>PN3</th>\n",
       "      <th>E2</th>\n",
       "      <th>...</th>\n",
       "      <th>STANCE</th>\n",
       "      <th>PEOPLE_TOT_3PLUS</th>\n",
       "      <th>HAVE_KIDS</th>\n",
       "      <th>GENDER</th>\n",
       "      <th>AGE_BINNED</th>\n",
       "      <th>EDUC_BINNED</th>\n",
       "      <th>FINANCIAL</th>\n",
       "      <th>INCOME_BINNED</th>\n",
       "      <th>RETIRED</th>\n",
       "      <th>Purchased</th>\n",
       "    </tr>\n",
       "  </thead>\n",
       "  <tbody>\n",
       "    <tr>\n",
       "      <th>0</th>\n",
       "      <td>1342</td>\n",
       "      <td>3</td>\n",
       "      <td>2</td>\n",
       "      <td>4</td>\n",
       "      <td>4.000000</td>\n",
       "      <td>9.000000</td>\n",
       "      <td>4</td>\n",
       "      <td>4</td>\n",
       "      <td>4</td>\n",
       "      <td>5</td>\n",
       "      <td>...</td>\n",
       "      <td>2</td>\n",
       "      <td>1.0</td>\n",
       "      <td>0.0</td>\n",
       "      <td>0.0</td>\n",
       "      <td>4.0</td>\n",
       "      <td>4.0</td>\n",
       "      <td>2</td>\n",
       "      <td>5.0</td>\n",
       "      <td>1</td>\n",
       "      <td>1</td>\n",
       "    </tr>\n",
       "    <tr>\n",
       "      <th>1</th>\n",
       "      <td>1343</td>\n",
       "      <td>3</td>\n",
       "      <td>2</td>\n",
       "      <td>4</td>\n",
       "      <td>7.000000</td>\n",
       "      <td>11.000000</td>\n",
       "      <td>4</td>\n",
       "      <td>4</td>\n",
       "      <td>5</td>\n",
       "      <td>4</td>\n",
       "      <td>...</td>\n",
       "      <td>5</td>\n",
       "      <td>0.0</td>\n",
       "      <td>0.0</td>\n",
       "      <td>0.0</td>\n",
       "      <td>4.0</td>\n",
       "      <td>2.0</td>\n",
       "      <td>1</td>\n",
       "      <td>4.0</td>\n",
       "      <td>0</td>\n",
       "      <td>1</td>\n",
       "    </tr>\n",
       "    <tr>\n",
       "      <th>2</th>\n",
       "      <td>1344</td>\n",
       "      <td>3</td>\n",
       "      <td>2</td>\n",
       "      <td>4</td>\n",
       "      <td>6.201224</td>\n",
       "      <td>7.469136</td>\n",
       "      <td>4</td>\n",
       "      <td>4</td>\n",
       "      <td>3</td>\n",
       "      <td>4</td>\n",
       "      <td>...</td>\n",
       "      <td>90</td>\n",
       "      <td>0.0</td>\n",
       "      <td>99.0</td>\n",
       "      <td>99.0</td>\n",
       "      <td>4.0</td>\n",
       "      <td>99.0</td>\n",
       "      <td>99</td>\n",
       "      <td>99.0</td>\n",
       "      <td>99</td>\n",
       "      <td>1</td>\n",
       "    </tr>\n",
       "    <tr>\n",
       "      <th>3</th>\n",
       "      <td>1345</td>\n",
       "      <td>3</td>\n",
       "      <td>2</td>\n",
       "      <td>4</td>\n",
       "      <td>11.000000</td>\n",
       "      <td>11.000000</td>\n",
       "      <td>1</td>\n",
       "      <td>1</td>\n",
       "      <td>1</td>\n",
       "      <td>3</td>\n",
       "      <td>...</td>\n",
       "      <td>5</td>\n",
       "      <td>1.0</td>\n",
       "      <td>1.0</td>\n",
       "      <td>0.0</td>\n",
       "      <td>2.0</td>\n",
       "      <td>2.0</td>\n",
       "      <td>2</td>\n",
       "      <td>3.0</td>\n",
       "      <td>0</td>\n",
       "      <td>1</td>\n",
       "    </tr>\n",
       "    <tr>\n",
       "      <th>4</th>\n",
       "      <td>1346</td>\n",
       "      <td>3</td>\n",
       "      <td>2</td>\n",
       "      <td>4</td>\n",
       "      <td>5.000000</td>\n",
       "      <td>7.000000</td>\n",
       "      <td>5</td>\n",
       "      <td>3</td>\n",
       "      <td>4</td>\n",
       "      <td>3</td>\n",
       "      <td>...</td>\n",
       "      <td>3</td>\n",
       "      <td>1.0</td>\n",
       "      <td>0.0</td>\n",
       "      <td>1.0</td>\n",
       "      <td>2.0</td>\n",
       "      <td>2.0</td>\n",
       "      <td>2</td>\n",
       "      <td>1.0</td>\n",
       "      <td>0</td>\n",
       "      <td>1</td>\n",
       "    </tr>\n",
       "  </tbody>\n",
       "</table>\n",
       "<p>5 rows × 49 columns</p>\n",
       "</div>"
      ],
      "text/plain": [
       "  CASE_ID GPS_NAC_ADOPTER SURVEY_SOURCE STATE WINTER_NOPV_BINNED  \\\n",
       "0    1342               3             2     4           4.000000   \n",
       "1    1343               3             2     4           7.000000   \n",
       "2    1344               3             2     4           6.201224   \n",
       "3    1345               3             2     4          11.000000   \n",
       "4    1346               3             2     4           5.000000   \n",
       "\n",
       "  SUMMER_NOPV_BINNED PN1 PN2 PN3 E2    ...    STANCE PEOPLE_TOT_3PLUS  \\\n",
       "0           9.000000   4   4   4  5    ...         2              1.0   \n",
       "1          11.000000   4   4   5  4    ...         5              0.0   \n",
       "2           7.469136   4   4   3  4    ...        90              0.0   \n",
       "3          11.000000   1   1   1  3    ...         5              1.0   \n",
       "4           7.000000   5   3   4  3    ...         3              1.0   \n",
       "\n",
       "  HAVE_KIDS GENDER AGE_BINNED EDUC_BINNED FINANCIAL INCOME_BINNED RETIRED  \\\n",
       "0       0.0    0.0        4.0         4.0         2           5.0       1   \n",
       "1       0.0    0.0        4.0         2.0         1           4.0       0   \n",
       "2      99.0   99.0        4.0        99.0        99          99.0      99   \n",
       "3       1.0    0.0        2.0         2.0         2           3.0       0   \n",
       "4       0.0    1.0        2.0         2.0         2           1.0       0   \n",
       "\n",
       "  Purchased  \n",
       "0         1  \n",
       "1         1  \n",
       "2         1  \n",
       "3         1  \n",
       "4         1  \n",
       "\n",
       "[5 rows x 49 columns]"
      ]
     },
     "execution_count": 52,
     "metadata": {},
     "output_type": "execute_result"
    }
   ],
   "source": [
    "#adding in a target column, and populating the adopters with '1' (rest are left empty)\n",
    "a_comparable_cat['Purchased'] = 1\n",
    "a_comparable_cat.head()"
   ]
  },
  {
   "cell_type": "code",
   "execution_count": 53,
   "metadata": {},
   "outputs": [
    {
     "data": {
      "text/html": [
       "<div>\n",
       "<style scoped>\n",
       "    .dataframe tbody tr th:only-of-type {\n",
       "        vertical-align: middle;\n",
       "    }\n",
       "\n",
       "    .dataframe tbody tr th {\n",
       "        vertical-align: top;\n",
       "    }\n",
       "\n",
       "    .dataframe thead th {\n",
       "        text-align: right;\n",
       "    }\n",
       "</style>\n",
       "<table border=\"1\" class=\"dataframe\">\n",
       "  <thead>\n",
       "    <tr style=\"text-align: right;\">\n",
       "      <th></th>\n",
       "      <th>CASE_ID</th>\n",
       "      <th>GPS_NAC_ADOPTER</th>\n",
       "      <th>SURVEY_SOURCE</th>\n",
       "      <th>STATE</th>\n",
       "      <th>WINTER_NOPV_BINNED</th>\n",
       "      <th>SUMMER_NOPV_BINNED</th>\n",
       "      <th>PN1</th>\n",
       "      <th>PN2</th>\n",
       "      <th>PN3</th>\n",
       "      <th>E2</th>\n",
       "      <th>...</th>\n",
       "      <th>STANCE</th>\n",
       "      <th>PEOPLE_TOT_3PLUS</th>\n",
       "      <th>HAVE_KIDS</th>\n",
       "      <th>GENDER</th>\n",
       "      <th>AGE_BINNED</th>\n",
       "      <th>EDUC_BINNED</th>\n",
       "      <th>FINANCIAL</th>\n",
       "      <th>INCOME_BINNED</th>\n",
       "      <th>RETIRED</th>\n",
       "      <th>Purchased</th>\n",
       "    </tr>\n",
       "  </thead>\n",
       "  <tbody>\n",
       "    <tr>\n",
       "      <th>count</th>\n",
       "      <td>588</td>\n",
       "      <td>588</td>\n",
       "      <td>588</td>\n",
       "      <td>588</td>\n",
       "      <td>588.0</td>\n",
       "      <td>588.0</td>\n",
       "      <td>588</td>\n",
       "      <td>588.0</td>\n",
       "      <td>588</td>\n",
       "      <td>588.0</td>\n",
       "      <td>...</td>\n",
       "      <td>588</td>\n",
       "      <td>588.0</td>\n",
       "      <td>588</td>\n",
       "      <td>588</td>\n",
       "      <td>588.0</td>\n",
       "      <td>588</td>\n",
       "      <td>588</td>\n",
       "      <td>588</td>\n",
       "      <td>588</td>\n",
       "      <td>588</td>\n",
       "    </tr>\n",
       "    <tr>\n",
       "      <th>unique</th>\n",
       "      <td>588</td>\n",
       "      <td>1</td>\n",
       "      <td>2</td>\n",
       "      <td>4</td>\n",
       "      <td>12.0</td>\n",
       "      <td>12.0</td>\n",
       "      <td>6</td>\n",
       "      <td>6.0</td>\n",
       "      <td>6</td>\n",
       "      <td>6.0</td>\n",
       "      <td>...</td>\n",
       "      <td>8</td>\n",
       "      <td>2.0</td>\n",
       "      <td>3</td>\n",
       "      <td>3</td>\n",
       "      <td>4.0</td>\n",
       "      <td>4</td>\n",
       "      <td>5</td>\n",
       "      <td>7</td>\n",
       "      <td>3</td>\n",
       "      <td>1</td>\n",
       "    </tr>\n",
       "    <tr>\n",
       "      <th>top</th>\n",
       "      <td>3533</td>\n",
       "      <td>2</td>\n",
       "      <td>5</td>\n",
       "      <td>4</td>\n",
       "      <td>5.0</td>\n",
       "      <td>5.0</td>\n",
       "      <td>4</td>\n",
       "      <td>4.0</td>\n",
       "      <td>4</td>\n",
       "      <td>5.0</td>\n",
       "      <td>...</td>\n",
       "      <td>3</td>\n",
       "      <td>1.0</td>\n",
       "      <td>0</td>\n",
       "      <td>0</td>\n",
       "      <td>1.0</td>\n",
       "      <td>4</td>\n",
       "      <td>1</td>\n",
       "      <td>3</td>\n",
       "      <td>0</td>\n",
       "      <td>0</td>\n",
       "    </tr>\n",
       "    <tr>\n",
       "      <th>freq</th>\n",
       "      <td>1</td>\n",
       "      <td>588</td>\n",
       "      <td>436</td>\n",
       "      <td>187</td>\n",
       "      <td>145.0</td>\n",
       "      <td>96.0</td>\n",
       "      <td>200</td>\n",
       "      <td>200.0</td>\n",
       "      <td>233</td>\n",
       "      <td>249.0</td>\n",
       "      <td>...</td>\n",
       "      <td>183</td>\n",
       "      <td>325.0</td>\n",
       "      <td>317</td>\n",
       "      <td>323</td>\n",
       "      <td>276.0</td>\n",
       "      <td>178</td>\n",
       "      <td>284</td>\n",
       "      <td>121</td>\n",
       "      <td>468</td>\n",
       "      <td>588</td>\n",
       "    </tr>\n",
       "  </tbody>\n",
       "</table>\n",
       "<p>4 rows × 49 columns</p>\n",
       "</div>"
      ],
      "text/plain": [
       "        CASE_ID  GPS_NAC_ADOPTER  SURVEY_SOURCE  STATE  WINTER_NOPV_BINNED  \\\n",
       "count       588              588            588    588               588.0   \n",
       "unique      588                1              2      4                12.0   \n",
       "top        3533                2              5      4                 5.0   \n",
       "freq          1              588            436    187               145.0   \n",
       "\n",
       "        SUMMER_NOPV_BINNED  PN1    PN2  PN3     E2    ...      STANCE  \\\n",
       "count                588.0  588  588.0  588  588.0    ...         588   \n",
       "unique                12.0    6    6.0    6    6.0    ...           8   \n",
       "top                    5.0    4    4.0    4    5.0    ...           3   \n",
       "freq                  96.0  200  200.0  233  249.0    ...         183   \n",
       "\n",
       "        PEOPLE_TOT_3PLUS  HAVE_KIDS  GENDER  AGE_BINNED  EDUC_BINNED  \\\n",
       "count              588.0        588     588       588.0          588   \n",
       "unique               2.0          3       3         4.0            4   \n",
       "top                  1.0          0       0         1.0            4   \n",
       "freq               325.0        317     323       276.0          178   \n",
       "\n",
       "        FINANCIAL  INCOME_BINNED  RETIRED  Purchased  \n",
       "count         588            588      588        588  \n",
       "unique          5              7        3          1  \n",
       "top             1              3        0          0  \n",
       "freq          284            121      468        588  \n",
       "\n",
       "[4 rows x 49 columns]"
      ]
     },
     "execution_count": 53,
     "metadata": {},
     "output_type": "execute_result"
    }
   ],
   "source": [
    "c_comparable_cat = c_comparable[c_comparable.columns].astype('category')\n",
    "c_comparable_cat.set_index('CASE_ID')\n",
    "c_comparable['CASE_ID'].rename('ID')\n",
    "c_comparable_cat.describe()"
   ]
  },
  {
   "cell_type": "code",
   "execution_count": 54,
   "metadata": {},
   "outputs": [
    {
     "data": {
      "text/html": [
       "<div>\n",
       "<style scoped>\n",
       "    .dataframe tbody tr th:only-of-type {\n",
       "        vertical-align: middle;\n",
       "    }\n",
       "\n",
       "    .dataframe tbody tr th {\n",
       "        vertical-align: top;\n",
       "    }\n",
       "\n",
       "    .dataframe thead th {\n",
       "        text-align: right;\n",
       "    }\n",
       "</style>\n",
       "<table border=\"1\" class=\"dataframe\">\n",
       "  <thead>\n",
       "    <tr style=\"text-align: right;\">\n",
       "      <th></th>\n",
       "      <th>CASE_ID</th>\n",
       "      <th>GPS_NAC_ADOPTER</th>\n",
       "      <th>SURVEY_SOURCE</th>\n",
       "      <th>STATE</th>\n",
       "      <th>WINTER_NOPV_BINNED</th>\n",
       "      <th>SUMMER_NOPV_BINNED</th>\n",
       "      <th>PN1</th>\n",
       "      <th>PN2</th>\n",
       "      <th>PN3</th>\n",
       "      <th>E2</th>\n",
       "      <th>...</th>\n",
       "      <th>STANCE</th>\n",
       "      <th>PEOPLE_TOT_3PLUS</th>\n",
       "      <th>HAVE_KIDS</th>\n",
       "      <th>GENDER</th>\n",
       "      <th>AGE_BINNED</th>\n",
       "      <th>EDUC_BINNED</th>\n",
       "      <th>FINANCIAL</th>\n",
       "      <th>INCOME_BINNED</th>\n",
       "      <th>RETIRED</th>\n",
       "      <th>Purchased</th>\n",
       "    </tr>\n",
       "  </thead>\n",
       "  <tbody>\n",
       "    <tr>\n",
       "      <th>0</th>\n",
       "      <td>2946</td>\n",
       "      <td>2</td>\n",
       "      <td>4</td>\n",
       "      <td>2</td>\n",
       "      <td>5.0</td>\n",
       "      <td>6.0</td>\n",
       "      <td>3</td>\n",
       "      <td>3.0</td>\n",
       "      <td>2</td>\n",
       "      <td>4.0</td>\n",
       "      <td>...</td>\n",
       "      <td>97</td>\n",
       "      <td>1.0</td>\n",
       "      <td>1</td>\n",
       "      <td>1</td>\n",
       "      <td>1.0</td>\n",
       "      <td>3</td>\n",
       "      <td>3</td>\n",
       "      <td>4</td>\n",
       "      <td>0</td>\n",
       "      <td>0</td>\n",
       "    </tr>\n",
       "    <tr>\n",
       "      <th>1</th>\n",
       "      <td>2947</td>\n",
       "      <td>2</td>\n",
       "      <td>4</td>\n",
       "      <td>3</td>\n",
       "      <td>6.0</td>\n",
       "      <td>11.0</td>\n",
       "      <td>3</td>\n",
       "      <td>3.0</td>\n",
       "      <td>3</td>\n",
       "      <td>1.0</td>\n",
       "      <td>...</td>\n",
       "      <td>4</td>\n",
       "      <td>1.0</td>\n",
       "      <td>1</td>\n",
       "      <td>0</td>\n",
       "      <td>2.0</td>\n",
       "      <td>2</td>\n",
       "      <td>1</td>\n",
       "      <td>4</td>\n",
       "      <td>0</td>\n",
       "      <td>0</td>\n",
       "    </tr>\n",
       "    <tr>\n",
       "      <th>2</th>\n",
       "      <td>2948</td>\n",
       "      <td>2</td>\n",
       "      <td>4</td>\n",
       "      <td>4</td>\n",
       "      <td>6.0</td>\n",
       "      <td>7.0</td>\n",
       "      <td>5</td>\n",
       "      <td>5.0</td>\n",
       "      <td>3</td>\n",
       "      <td>5.0</td>\n",
       "      <td>...</td>\n",
       "      <td>1</td>\n",
       "      <td>1.0</td>\n",
       "      <td>0</td>\n",
       "      <td>1</td>\n",
       "      <td>4.0</td>\n",
       "      <td>4</td>\n",
       "      <td>1</td>\n",
       "      <td>3</td>\n",
       "      <td>0</td>\n",
       "      <td>0</td>\n",
       "    </tr>\n",
       "    <tr>\n",
       "      <th>3</th>\n",
       "      <td>2949</td>\n",
       "      <td>2</td>\n",
       "      <td>4</td>\n",
       "      <td>4</td>\n",
       "      <td>5.0</td>\n",
       "      <td>5.0</td>\n",
       "      <td>2</td>\n",
       "      <td>2.0</td>\n",
       "      <td>2</td>\n",
       "      <td>2.0</td>\n",
       "      <td>...</td>\n",
       "      <td>3</td>\n",
       "      <td>1.0</td>\n",
       "      <td>0</td>\n",
       "      <td>0</td>\n",
       "      <td>3.0</td>\n",
       "      <td>1</td>\n",
       "      <td>2</td>\n",
       "      <td>4</td>\n",
       "      <td>1</td>\n",
       "      <td>0</td>\n",
       "    </tr>\n",
       "    <tr>\n",
       "      <th>4</th>\n",
       "      <td>2950</td>\n",
       "      <td>2</td>\n",
       "      <td>4</td>\n",
       "      <td>2</td>\n",
       "      <td>9.0</td>\n",
       "      <td>5.0</td>\n",
       "      <td>4</td>\n",
       "      <td>4.0</td>\n",
       "      <td>3</td>\n",
       "      <td>4.0</td>\n",
       "      <td>...</td>\n",
       "      <td>4</td>\n",
       "      <td>0.0</td>\n",
       "      <td>0</td>\n",
       "      <td>0</td>\n",
       "      <td>4.0</td>\n",
       "      <td>3</td>\n",
       "      <td>1</td>\n",
       "      <td>2</td>\n",
       "      <td>1</td>\n",
       "      <td>0</td>\n",
       "    </tr>\n",
       "  </tbody>\n",
       "</table>\n",
       "<p>5 rows × 49 columns</p>\n",
       "</div>"
      ],
      "text/plain": [
       "  CASE_ID GPS_NAC_ADOPTER SURVEY_SOURCE STATE WINTER_NOPV_BINNED  \\\n",
       "0    2946               2             4     2                5.0   \n",
       "1    2947               2             4     3                6.0   \n",
       "2    2948               2             4     4                6.0   \n",
       "3    2949               2             4     4                5.0   \n",
       "4    2950               2             4     2                9.0   \n",
       "\n",
       "  SUMMER_NOPV_BINNED PN1  PN2 PN3   E2    ...    STANCE PEOPLE_TOT_3PLUS  \\\n",
       "0                6.0   3  3.0   2  4.0    ...        97              1.0   \n",
       "1               11.0   3  3.0   3  1.0    ...         4              1.0   \n",
       "2                7.0   5  5.0   3  5.0    ...         1              1.0   \n",
       "3                5.0   2  2.0   2  2.0    ...         3              1.0   \n",
       "4                5.0   4  4.0   3  4.0    ...         4              0.0   \n",
       "\n",
       "  HAVE_KIDS GENDER AGE_BINNED EDUC_BINNED FINANCIAL INCOME_BINNED RETIRED  \\\n",
       "0         1      1        1.0           3         3             4       0   \n",
       "1         1      0        2.0           2         1             4       0   \n",
       "2         0      1        4.0           4         1             3       0   \n",
       "3         0      0        3.0           1         2             4       1   \n",
       "4         0      0        4.0           3         1             2       1   \n",
       "\n",
       "  Purchased  \n",
       "0         0  \n",
       "1         0  \n",
       "2         0  \n",
       "3         0  \n",
       "4         0  \n",
       "\n",
       "[5 rows x 49 columns]"
      ]
     },
     "execution_count": 54,
     "metadata": {},
     "output_type": "execute_result"
    }
   ],
   "source": [
    "#adding in a target column, and populating the C group with 0 (have not purchased)\n",
    "c_comparable_cat['Purchased'] = '0'\n",
    "c_comparable_cat.head()"
   ]
  },
  {
   "cell_type": "code",
   "execution_count": 55,
   "metadata": {},
   "outputs": [
    {
     "data": {
      "text/plain": [
       "Index(['CASE_ID', 'GPS_NAC_ADOPTER', 'SURVEY_SOURCE', 'STATE',\n",
       "       'WINTER_NOPV_BINNED', 'SUMMER_NOPV_BINNED', 'PN1', 'PN2', 'PN3', 'E2',\n",
       "       'BB1', 'BB2', 'BB3', 'BTE8', 'BE13', 'BE10', 'Co3', 'VB1', 'VB2', 'VB3',\n",
       "       'VA1', 'VA2', 'VA3', 'VT1', 'VT2', 'VT3', 'VE1', 'VE2', 'VE4', 'VO1',\n",
       "       'VO2', 'VO3', 'CIJM1', 'CIJM2', 'CIJM3', 'CNS1', 'CNS2', 'CNS4',\n",
       "       'SQFT_BINNED', 'STANCE', 'PEOPLE_TOT_3PLUS', 'HAVE_KIDS', 'GENDER',\n",
       "       'AGE_BINNED', 'EDUC_BINNED', 'FINANCIAL', 'INCOME_BINNED', 'RETIRED',\n",
       "       'Purchased'],\n",
       "      dtype='object')"
      ]
     },
     "execution_count": 55,
     "metadata": {},
     "output_type": "execute_result"
    }
   ],
   "source": [
    "a_comparable.columns"
   ]
  },
  {
   "cell_type": "code",
   "execution_count": 56,
   "metadata": {},
   "outputs": [
    {
     "data": {
      "text/plain": [
       "5     543\n",
       "4     540\n",
       "3     331\n",
       "1      92\n",
       "2      73\n",
       "98     16\n",
       "99      9\n",
       "Name: PN1, dtype: int64"
      ]
     },
     "execution_count": 56,
     "metadata": {},
     "output_type": "execute_result"
    }
   ],
   "source": [
    "a_comparable.PN1.value_counts()"
   ]
  },
  {
   "cell_type": "code",
   "execution_count": 57,
   "metadata": {},
   "outputs": [
    {
     "data": {
      "text/plain": [
       "array([[<matplotlib.axes._subplots.AxesSubplot object at 0x00000231EB363C88>]],\n",
       "      dtype=object)"
      ]
     },
     "execution_count": 57,
     "metadata": {},
     "output_type": "execute_result"
    },
    {
     "data": {
      "image/png": "[encoded data removed]",
      "text/plain": [
       "<Figure size 1152x360 with 1 Axes>"
      ]
     },
     "metadata": {
      "needs_background": "light"
     },
     "output_type": "display_data"
    }
   ],
   "source": [
    "#### plot features in comparison to each other, and datasets against one another\n",
    "a_noOutliers = a_comparable[a_comparable['PN1'] < 98]\n",
    "a_noOutliers.hist(column='PN1', bins=5)"
   ]
  },
  {
   "cell_type": "code",
   "execution_count": 58,
   "metadata": {},
   "outputs": [
    {
     "data": {
      "text/plain": [
       "array([[<matplotlib.axes._subplots.AxesSubplot object at 0x00000231EB418080>]],\n",
       "      dtype=object)"
      ]
     },
     "execution_count": 58,
     "metadata": {},
     "output_type": "execute_result"
    },
    {
     "data": {
      "image/png": "[encoded data removed]",
      "text/plain": [
       "<Figure size 1152x360 with 1 Axes>"
      ]
     },
     "metadata": {
      "needs_background": "light"
     },
     "output_type": "display_data"
    }
   ],
   "source": [
    "#### plot features in comparison to each other, and datasets against one another\n",
    "c_noOutliers = c_comparable[c_comparable['PN1'] < 98]\n",
    "c_noOutliers.hist(column='PN1', bins=5)"
   ]
  },
  {
   "cell_type": "code",
   "execution_count": 59,
   "metadata": {},
   "outputs": [
    {
     "data": {
      "text/plain": [
       "array([[<matplotlib.axes._subplots.AxesSubplot object at 0x00000231EB920C18>]],\n",
       "      dtype=object)"
      ]
     },
     "execution_count": 59,
     "metadata": {},
     "output_type": "execute_result"
    },
    {
     "data": {
      "image/png": "[encoded data removed]",
      "text/plain": [
       "<Figure size 1152x360 with 1 Axes>"
      ]
     },
     "metadata": {
      "needs_background": "light"
     },
     "output_type": "display_data"
    }
   ],
   "source": [
    "#### plot features in comparison to each other, and datasets against one another\n",
    "g_noOutliers = g_comparable[g_comparable['PN1'] < 98]\n",
    "g_noOutliers.hist(column='PN1', bins=5)"
   ]
  },
  {
   "cell_type": "code",
   "execution_count": 60,
   "metadata": {},
   "outputs": [
    {
     "data": {
      "text/plain": [
       "2.0     557\n",
       "3.0     486\n",
       "4.0     411\n",
       "1.0     115\n",
       "99.0     35\n",
       "Name: EDUC_BINNED, dtype: int64"
      ]
     },
     "execution_count": 60,
     "metadata": {},
     "output_type": "execute_result"
    }
   ],
   "source": [
    "a_comparable['EDUC_BINNED'].value_counts()"
   ]
  },
  {
   "cell_type": "code",
   "execution_count": 61,
   "metadata": {},
   "outputs": [],
   "source": [
    "#Combine all datasets together\n",
    "combined = pd.concat([a_comparable, c_comparable, g_comparable], sort=False)"
   ]
  },
  {
   "cell_type": "code",
   "execution_count": 62,
   "metadata": {},
   "outputs": [
    {
     "data": {
      "text/html": [
       "<div>\n",
       "<style scoped>\n",
       "    .dataframe tbody tr th:only-of-type {\n",
       "        vertical-align: middle;\n",
       "    }\n",
       "\n",
       "    .dataframe tbody tr th {\n",
       "        vertical-align: top;\n",
       "    }\n",
       "\n",
       "    .dataframe thead th {\n",
       "        text-align: right;\n",
       "    }\n",
       "</style>\n",
       "<table border=\"1\" class=\"dataframe\">\n",
       "  <thead>\n",
       "    <tr style=\"text-align: right;\">\n",
       "      <th></th>\n",
       "      <th>CASE_ID</th>\n",
       "      <th>GPS_NAC_ADOPTER</th>\n",
       "      <th>SURVEY_SOURCE</th>\n",
       "      <th>STATE</th>\n",
       "      <th>WINTER_NOPV_BINNED</th>\n",
       "      <th>SUMMER_NOPV_BINNED</th>\n",
       "      <th>PN1</th>\n",
       "      <th>PN2</th>\n",
       "      <th>PN3</th>\n",
       "      <th>E2</th>\n",
       "      <th>...</th>\n",
       "      <th>STANCE</th>\n",
       "      <th>PEOPLE_TOT_3PLUS</th>\n",
       "      <th>HAVE_KIDS</th>\n",
       "      <th>GENDER</th>\n",
       "      <th>AGE_BINNED</th>\n",
       "      <th>EDUC_BINNED</th>\n",
       "      <th>FINANCIAL</th>\n",
       "      <th>INCOME_BINNED</th>\n",
       "      <th>RETIRED</th>\n",
       "      <th>Purchased</th>\n",
       "    </tr>\n",
       "  </thead>\n",
       "  <tbody>\n",
       "    <tr>\n",
       "      <th>0</th>\n",
       "      <td>1342</td>\n",
       "      <td>3</td>\n",
       "      <td>2</td>\n",
       "      <td>4</td>\n",
       "      <td>4.000000</td>\n",
       "      <td>9.000000</td>\n",
       "      <td>4</td>\n",
       "      <td>4.0</td>\n",
       "      <td>4</td>\n",
       "      <td>5.0</td>\n",
       "      <td>...</td>\n",
       "      <td>2</td>\n",
       "      <td>1.0</td>\n",
       "      <td>0.0</td>\n",
       "      <td>0.0</td>\n",
       "      <td>4.0</td>\n",
       "      <td>4.0</td>\n",
       "      <td>2</td>\n",
       "      <td>5.0</td>\n",
       "      <td>1</td>\n",
       "      <td>1</td>\n",
       "    </tr>\n",
       "    <tr>\n",
       "      <th>1</th>\n",
       "      <td>1343</td>\n",
       "      <td>3</td>\n",
       "      <td>2</td>\n",
       "      <td>4</td>\n",
       "      <td>7.000000</td>\n",
       "      <td>11.000000</td>\n",
       "      <td>4</td>\n",
       "      <td>4.0</td>\n",
       "      <td>5</td>\n",
       "      <td>4.0</td>\n",
       "      <td>...</td>\n",
       "      <td>5</td>\n",
       "      <td>0.0</td>\n",
       "      <td>0.0</td>\n",
       "      <td>0.0</td>\n",
       "      <td>4.0</td>\n",
       "      <td>2.0</td>\n",
       "      <td>1</td>\n",
       "      <td>4.0</td>\n",
       "      <td>0</td>\n",
       "      <td>1</td>\n",
       "    </tr>\n",
       "    <tr>\n",
       "      <th>2</th>\n",
       "      <td>1344</td>\n",
       "      <td>3</td>\n",
       "      <td>2</td>\n",
       "      <td>4</td>\n",
       "      <td>6.201224</td>\n",
       "      <td>7.469136</td>\n",
       "      <td>4</td>\n",
       "      <td>4.0</td>\n",
       "      <td>3</td>\n",
       "      <td>4.0</td>\n",
       "      <td>...</td>\n",
       "      <td>90</td>\n",
       "      <td>0.0</td>\n",
       "      <td>99.0</td>\n",
       "      <td>99.0</td>\n",
       "      <td>4.0</td>\n",
       "      <td>99.0</td>\n",
       "      <td>99</td>\n",
       "      <td>99.0</td>\n",
       "      <td>99</td>\n",
       "      <td>1</td>\n",
       "    </tr>\n",
       "    <tr>\n",
       "      <th>3</th>\n",
       "      <td>1345</td>\n",
       "      <td>3</td>\n",
       "      <td>2</td>\n",
       "      <td>4</td>\n",
       "      <td>11.000000</td>\n",
       "      <td>11.000000</td>\n",
       "      <td>1</td>\n",
       "      <td>1.0</td>\n",
       "      <td>1</td>\n",
       "      <td>3.0</td>\n",
       "      <td>...</td>\n",
       "      <td>5</td>\n",
       "      <td>1.0</td>\n",
       "      <td>1.0</td>\n",
       "      <td>0.0</td>\n",
       "      <td>2.0</td>\n",
       "      <td>2.0</td>\n",
       "      <td>2</td>\n",
       "      <td>3.0</td>\n",
       "      <td>0</td>\n",
       "      <td>1</td>\n",
       "    </tr>\n",
       "    <tr>\n",
       "      <th>4</th>\n",
       "      <td>1346</td>\n",
       "      <td>3</td>\n",
       "      <td>2</td>\n",
       "      <td>4</td>\n",
       "      <td>5.000000</td>\n",
       "      <td>7.000000</td>\n",
       "      <td>5</td>\n",
       "      <td>3.0</td>\n",
       "      <td>4</td>\n",
       "      <td>3.0</td>\n",
       "      <td>...</td>\n",
       "      <td>3</td>\n",
       "      <td>1.0</td>\n",
       "      <td>0.0</td>\n",
       "      <td>1.0</td>\n",
       "      <td>2.0</td>\n",
       "      <td>2.0</td>\n",
       "      <td>2</td>\n",
       "      <td>1.0</td>\n",
       "      <td>0</td>\n",
       "      <td>1</td>\n",
       "    </tr>\n",
       "  </tbody>\n",
       "</table>\n",
       "<p>5 rows × 49 columns</p>\n",
       "</div>"
      ],
      "text/plain": [
       "   CASE_ID  GPS_NAC_ADOPTER  SURVEY_SOURCE  STATE  WINTER_NOPV_BINNED  \\\n",
       "0     1342                3              2      4            4.000000   \n",
       "1     1343                3              2      4            7.000000   \n",
       "2     1344                3              2      4            6.201224   \n",
       "3     1345                3              2      4           11.000000   \n",
       "4     1346                3              2      4            5.000000   \n",
       "\n",
       "   SUMMER_NOPV_BINNED  PN1  PN2  PN3   E2    ...      STANCE  \\\n",
       "0            9.000000    4  4.0    4  5.0    ...           2   \n",
       "1           11.000000    4  4.0    5  4.0    ...           5   \n",
       "2            7.469136    4  4.0    3  4.0    ...          90   \n",
       "3           11.000000    1  1.0    1  3.0    ...           5   \n",
       "4            7.000000    5  3.0    4  3.0    ...           3   \n",
       "\n",
       "   PEOPLE_TOT_3PLUS  HAVE_KIDS  GENDER  AGE_BINNED  EDUC_BINNED  FINANCIAL  \\\n",
       "0               1.0        0.0     0.0         4.0          4.0          2   \n",
       "1               0.0        0.0     0.0         4.0          2.0          1   \n",
       "2               0.0       99.0    99.0         4.0         99.0         99   \n",
       "3               1.0        1.0     0.0         2.0          2.0          2   \n",
       "4               1.0        0.0     1.0         2.0          2.0          2   \n",
       "\n",
       "   INCOME_BINNED  RETIRED  Purchased  \n",
       "0            5.0        1          1  \n",
       "1            4.0        0          1  \n",
       "2           99.0       99          1  \n",
       "3            3.0        0          1  \n",
       "4            1.0        0          1  \n",
       "\n",
       "[5 rows x 49 columns]"
      ]
     },
     "execution_count": 62,
     "metadata": {},
     "output_type": "execute_result"
    }
   ],
   "source": [
    "combined.head()"
   ]
  },
  {
   "cell_type": "markdown",
   "metadata": {},
   "source": [
    "#### EDA on combined dataset, with Purchased class fully populated"
   ]
  },
  {
   "cell_type": "code",
   "execution_count": 63,
   "metadata": {},
   "outputs": [],
   "source": [
    "plt.rcParams['figure.figsize'] = (20,10)\n",
    "#combined.loc[:, 'WINTER_NOPV_BINNED':].boxplot(sym='')#ignoring the outliers so as to expand the view of the other data"
   ]
  },
  {
   "cell_type": "code",
   "execution_count": 64,
   "metadata": {},
   "outputs": [],
   "source": [
    "#nullifying the outlier values of 99 and 98, used in survey for did not answer\n",
    "\n",
    "a_comparable = a_comparable.replace(98,np.NaN)\n",
    "a_comparable = a_comparable.replace(99,np.NaN)\n",
    "c_comparable = c_comparable.replace(98,np.NaN)\n",
    "c_comparable = c_comparable.replace(99,np.NaN)\n",
    "g_comparable = g_comparable.replace(98,np.NaN)\n",
    "g_comparable = g_comparable.replace(99,np.NaN)\n",
    "#gender had a 95 for did not answer\n",
    "a_comparable = a_comparable.replace(95,np.NaN)\n",
    "c_comparable = c_comparable.replace(95,np.NaN)\n",
    "g_comparable = g_comparable.replace(95,np.NaN)\n",
    "#stance has 90-other and 97-don't know/no politcal party\n",
    "a_comparable = a_comparable.replace(90,np.NaN)\n",
    "c_comparable = c_comparable.replace(90,np.NaN)\n",
    "g_comparable = g_comparable.replace(90,np.NaN)\n",
    "a_comparable = a_comparable.replace(97,np.NaN)\n",
    "c_comparable = c_comparable.replace(97,np.NaN)\n",
    "g_comparable = g_comparable.replace(97,np.NaN)\n"
   ]
  },
  {
   "cell_type": "code",
   "execution_count": 65,
   "metadata": {},
   "outputs": [
    {
     "name": "stdout",
     "output_type": "stream",
     "text": [
      "\u001b[1m\n",
      "\t\t\t\tWINTER_NOPV_BINNED\u001b[0m\n"
     ]
    },
    {
     "data": {
      "image/png": "[encoded data removed]",
      "text/plain": [
       "<Figure size 720x360 with 1 Axes>"
      ]
     },
     "metadata": {
      "needs_background": "light"
     },
     "output_type": "display_data"
    },
    {
     "name": "stdout",
     "output_type": "stream",
     "text": [
      "\u001b[1m\n",
      "\t\t\t\tSUMMER_NOPV_BINNED\u001b[0m\n"
     ]
    },
    {
     "data": {
      "image/png": "[encoded data removed]",
      "text/plain": [
       "<Figure size 720x360 with 1 Axes>"
      ]
     },
     "metadata": {
      "needs_background": "light"
     },
     "output_type": "display_data"
    },
    {
     "name": "stdout",
     "output_type": "stream",
     "text": [
      "\u001b[1m\n",
      "\t\t\t\tPN1\u001b[0m\n"
     ]
    },
    {
     "name": "stderr",
     "output_type": "stream",
     "text": [
      "D:\\Installs\\Anaconda\\lib\\site-packages\\numpy\\lib\\histograms.py:746: RuntimeWarning: invalid value encountered in greater_equal\n",
      "  keep = (tmp_a >= first_edge)\n",
      "D:\\Installs\\Anaconda\\lib\\site-packages\\numpy\\lib\\histograms.py:747: RuntimeWarning: invalid value encountered in less_equal\n",
      "  keep &= (tmp_a <= last_edge)\n"
     ]
    },
    {
     "data": {
      "image/png": "[encoded data removed]",
      "text/plain": [
       "<Figure size 720x360 with 1 Axes>"
      ]
     },
     "metadata": {
      "needs_background": "light"
     },
     "output_type": "display_data"
    },
    {
     "name": "stdout",
     "output_type": "stream",
     "text": [
      "\u001b[1m\n",
      "\t\t\t\tPN2\u001b[0m\n"
     ]
    },
    {
     "data": {
      "image/png": "[encoded data removed]",
      "text/plain": [
       "<Figure size 720x360 with 1 Axes>"
      ]
     },
     "metadata": {
      "needs_background": "light"
     },
     "output_type": "display_data"
    },
    {
     "name": "stdout",
     "output_type": "stream",
     "text": [
      "\u001b[1m\n",
      "\t\t\t\tPN3\u001b[0m\n"
     ]
    },
    {
     "data": {
      "image/png": "[encoded data removed]",
      "text/plain": [
       "<Figure size 720x360 with 1 Axes>"
      ]
     },
     "metadata": {
      "needs_background": "light"
     },
     "output_type": "display_data"
    },
    {
     "name": "stdout",
     "output_type": "stream",
     "text": [
      "\u001b[1m\n",
      "\t\t\t\tE2\u001b[0m\n"
     ]
    },
    {
     "data": {
      "image/png": "[encoded data removed]",
      "text/plain": [
       "<Figure size 720x360 with 1 Axes>"
      ]
     },
     "metadata": {
      "needs_background": "light"
     },
     "output_type": "display_data"
    },
    {
     "name": "stdout",
     "output_type": "stream",
     "text": [
      "\u001b[1m\n",
      "\t\t\t\tBB1\u001b[0m\n"
     ]
    },
    {
     "data": {
      "image/png": "[encoded data removed]",
      "text/plain": [
       "<Figure size 720x360 with 1 Axes>"
      ]
     },
     "metadata": {
      "needs_background": "light"
     },
     "output_type": "display_data"
    },
    {
     "name": "stdout",
     "output_type": "stream",
     "text": [
      "\u001b[1m\n",
      "\t\t\t\tBB2\u001b[0m\n"
     ]
    },
    {
     "data": {
      "image/png": "[encoded data removed]",
      "text/plain": [
       "<Figure size 720x360 with 1 Axes>"
      ]
     },
     "metadata": {
      "needs_background": "light"
     },
     "output_type": "display_data"
    },
    {
     "name": "stdout",
     "output_type": "stream",
     "text": [
      "\u001b[1m\n",
      "\t\t\t\tBB3\u001b[0m\n"
     ]
    },
    {
     "data": {
      "image/png": "[encoded data removed]",
      "text/plain": [
       "<Figure size 720x360 with 1 Axes>"
      ]
     },
     "metadata": {
      "needs_background": "light"
     },
     "output_type": "display_data"
    },
    {
     "name": "stdout",
     "output_type": "stream",
     "text": [
      "\u001b[1m\n",
      "\t\t\t\tBTE8\u001b[0m\n"
     ]
    },
    {
     "data": {
      "image/png": "[encoded data removed]",
      "text/plain": [
       "<Figure size 720x360 with 1 Axes>"
      ]
     },
     "metadata": {
      "needs_background": "light"
     },
     "output_type": "display_data"
    },
    {
     "name": "stdout",
     "output_type": "stream",
     "text": [
      "\u001b[1m\n",
      "\t\t\t\tBE13\u001b[0m\n"
     ]
    },
    {
     "data": {
      "image/png": "[encoded data removed]",
      "text/plain": [
       "<Figure size 720x360 with 1 Axes>"
      ]
     },
     "metadata": {
      "needs_background": "light"
     },
     "output_type": "display_data"
    },
    {
     "name": "stdout",
     "output_type": "stream",
     "text": [
      "\u001b[1m\n",
      "\t\t\t\tBE10\u001b[0m\n"
     ]
    },
    {
     "data": {
      "image/png": "[encoded data removed]",
      "text/plain": [
       "<Figure size 720x360 with 1 Axes>"
      ]
     },
     "metadata": {
      "needs_background": "light"
     },
     "output_type": "display_data"
    },
    {
     "name": "stdout",
     "output_type": "stream",
     "text": [
      "\u001b[1m\n",
      "\t\t\t\tCo3\u001b[0m\n"
     ]
    },
    {
     "data": {
      "image/png": "[encoded data removed]",
      "text/plain": [
       "<Figure size 720x360 with 1 Axes>"
      ]
     },
     "metadata": {
      "needs_background": "light"
     },
     "output_type": "display_data"
    },
    {
     "name": "stdout",
     "output_type": "stream",
     "text": [
      "\u001b[1m\n",
      "\t\t\t\tVB1\u001b[0m\n"
     ]
    },
    {
     "data": {
      "image/png": "[encoded data removed]",
      "text/plain": [
       "<Figure size 720x360 with 1 Axes>"
      ]
     },
     "metadata": {
      "needs_background": "light"
     },
     "output_type": "display_data"
    },
    {
     "name": "stdout",
     "output_type": "stream",
     "text": [
      "\u001b[1m\n",
      "\t\t\t\tVB2\u001b[0m\n"
     ]
    },
    {
     "data": {
      "image/png": "[encoded data removed]",
      "text/plain": [
       "<Figure size 720x360 with 1 Axes>"
      ]
     },
     "metadata": {
      "needs_background": "light"
     },
     "output_type": "display_data"
    },
    {
     "name": "stdout",
     "output_type": "stream",
     "text": [
      "\u001b[1m\n",
      "\t\t\t\tVB3\u001b[0m\n"
     ]
    },
    {
     "data": {
      "image/png": "[encoded data removed]",
      "text/plain": [
       "<Figure size 720x360 with 1 Axes>"
      ]
     },
     "metadata": {
      "needs_background": "light"
     },
     "output_type": "display_data"
    },
    {
     "name": "stdout",
     "output_type": "stream",
     "text": [
      "\u001b[1m\n",
      "\t\t\t\tVA1\u001b[0m\n"
     ]
    },
    {
     "data": {
      "image/png": "[encoded data removed]",
      "text/plain": [
       "<Figure size 720x360 with 1 Axes>"
      ]
     },
     "metadata": {
      "needs_background": "light"
     },
     "output_type": "display_data"
    },
    {
     "name": "stdout",
     "output_type": "stream",
     "text": [
      "\u001b[1m\n",
      "\t\t\t\tVA2\u001b[0m\n"
     ]
    },
    {
     "data": {
      "image/png": "[encoded data removed]",
      "text/plain": [
       "<Figure size 720x360 with 1 Axes>"
      ]
     },
     "metadata": {
      "needs_background": "light"
     },
     "output_type": "display_data"
    },
    {
     "name": "stdout",
     "output_type": "stream",
     "text": [
      "\u001b[1m\n",
      "\t\t\t\tVA3\u001b[0m\n"
     ]
    },
    {
     "data": {
      "image/png": "[encoded data removed]",
      "text/plain": [
       "<Figure size 720x360 with 1 Axes>"
      ]
     },
     "metadata": {
      "needs_background": "light"
     },
     "output_type": "display_data"
    },
    {
     "name": "stdout",
     "output_type": "stream",
     "text": [
      "\u001b[1m\n",
      "\t\t\t\tVT1\u001b[0m\n"
     ]
    },
    {
     "data": {
      "image/png": "[encoded data removed]",
      "text/plain": [
       "<Figure size 720x360 with 1 Axes>"
      ]
     },
     "metadata": {
      "needs_background": "light"
     },
     "output_type": "display_data"
    },
    {
     "name": "stdout",
     "output_type": "stream",
     "text": [
      "\u001b[1m\n",
      "\t\t\t\tVT2\u001b[0m\n"
     ]
    },
    {
     "data": {
      "image/png": "[encoded data removed]",
      "text/plain": [
       "<Figure size 720x360 with 1 Axes>"
      ]
     },
     "metadata": {
      "needs_background": "light"
     },
     "output_type": "display_data"
    },
    {
     "name": "stdout",
     "output_type": "stream",
     "text": [
      "\u001b[1m\n",
      "\t\t\t\tVT3\u001b[0m\n"
     ]
    },
    {
     "data": {
      "image/png": "[encoded data removed]",
      "text/plain": [
       "<Figure size 720x360 with 1 Axes>"
      ]
     },
     "metadata": {
      "needs_background": "light"
     },
     "output_type": "display_data"
    },
    {
     "name": "stdout",
     "output_type": "stream",
     "text": [
      "\u001b[1m\n",
      "\t\t\t\tVE1\u001b[0m\n"
     ]
    },
    {
     "data": {
      "image/png": "[encoded data removed]",
      "text/plain": [
       "<Figure size 720x360 with 1 Axes>"
      ]
     },
     "metadata": {
      "needs_background": "light"
     },
     "output_type": "display_data"
    },
    {
     "name": "stdout",
     "output_type": "stream",
     "text": [
      "\u001b[1m\n",
      "\t\t\t\tVE2\u001b[0m\n"
     ]
    },
    {
     "data": {
      "image/png": "[encoded data removed]",
      "text/plain": [
       "<Figure size 720x360 with 1 Axes>"
      ]
     },
     "metadata": {
      "needs_background": "light"
     },
     "output_type": "display_data"
    },
    {
     "name": "stdout",
     "output_type": "stream",
     "text": [
      "\u001b[1m\n",
      "\t\t\t\tVE4\u001b[0m\n"
     ]
    },
    {
     "data": {
      "image/png": "[encoded data removed]",
      "text/plain": [
       "<Figure size 720x360 with 1 Axes>"
      ]
     },
     "metadata": {
      "needs_background": "light"
     },
     "output_type": "display_data"
    },
    {
     "name": "stdout",
     "output_type": "stream",
     "text": [
      "\u001b[1m\n",
      "\t\t\t\tVO1\u001b[0m\n"
     ]
    },
    {
     "data": {
      "image/png": "[encoded data removed]",
      "text/plain": [
       "<Figure size 720x360 with 1 Axes>"
      ]
     },
     "metadata": {
      "needs_background": "light"
     },
     "output_type": "display_data"
    },
    {
     "name": "stdout",
     "output_type": "stream",
     "text": [
      "\u001b[1m\n",
      "\t\t\t\tVO2\u001b[0m\n"
     ]
    },
    {
     "data": {
      "image/png": "[encoded data removed]",
      "text/plain": [
       "<Figure size 720x360 with 1 Axes>"
      ]
     },
     "metadata": {
      "needs_background": "light"
     },
     "output_type": "display_data"
    },
    {
     "name": "stdout",
     "output_type": "stream",
     "text": [
      "\u001b[1m\n",
      "\t\t\t\tVO3\u001b[0m\n"
     ]
    },
    {
     "data": {
      "image/png": "[encoded data removed]",
      "text/plain": [
       "<Figure size 720x360 with 1 Axes>"
      ]
     },
     "metadata": {
      "needs_background": "light"
     },
     "output_type": "display_data"
    },
    {
     "name": "stdout",
     "output_type": "stream",
     "text": [
      "\u001b[1m\n",
      "\t\t\t\tCIJM1\u001b[0m\n"
     ]
    },
    {
     "data": {
      "image/png": "[encoded data removed]",
      "text/plain": [
       "<Figure size 720x360 with 1 Axes>"
      ]
     },
     "metadata": {
      "needs_background": "light"
     },
     "output_type": "display_data"
    },
    {
     "name": "stdout",
     "output_type": "stream",
     "text": [
      "\u001b[1m\n",
      "\t\t\t\tCIJM2\u001b[0m\n"
     ]
    },
    {
     "data": {
      "image/png": "[encoded data removed]",
      "text/plain": [
       "<Figure size 720x360 with 1 Axes>"
      ]
     },
     "metadata": {
      "needs_background": "light"
     },
     "output_type": "display_data"
    },
    {
     "name": "stdout",
     "output_type": "stream",
     "text": [
      "\u001b[1m\n",
      "\t\t\t\tCIJM3\u001b[0m\n"
     ]
    },
    {
     "data": {
      "image/png": "[encoded data removed]",
      "text/plain": [
       "<Figure size 720x360 with 1 Axes>"
      ]
     },
     "metadata": {
      "needs_background": "light"
     },
     "output_type": "display_data"
    },
    {
     "name": "stdout",
     "output_type": "stream",
     "text": [
      "\u001b[1m\n",
      "\t\t\t\tCNS1\u001b[0m\n"
     ]
    },
    {
     "data": {
      "image/png": "[encoded data removed]",
      "text/plain": [
       "<Figure size 720x360 with 1 Axes>"
      ]
     },
     "metadata": {
      "needs_background": "light"
     },
     "output_type": "display_data"
    },
    {
     "name": "stdout",
     "output_type": "stream",
     "text": [
      "\u001b[1m\n",
      "\t\t\t\tCNS2\u001b[0m\n"
     ]
    },
    {
     "data": {
      "image/png": "[encoded data removed]",
      "text/plain": [
       "<Figure size 720x360 with 1 Axes>"
      ]
     },
     "metadata": {
      "needs_background": "light"
     },
     "output_type": "display_data"
    },
    {
     "name": "stdout",
     "output_type": "stream",
     "text": [
      "\u001b[1m\n",
      "\t\t\t\tCNS4\u001b[0m\n"
     ]
    },
    {
     "data": {
      "image/png": "[encoded data removed]",
      "text/plain": [
       "<Figure size 720x360 with 1 Axes>"
      ]
     },
     "metadata": {
      "needs_background": "light"
     },
     "output_type": "display_data"
    },
    {
     "name": "stdout",
     "output_type": "stream",
     "text": [
      "\u001b[1m\n",
      "\t\t\t\tSQFT_BINNED\u001b[0m\n"
     ]
    },
    {
     "data": {
      "image/png": "[encoded data removed]",
      "text/plain": [
       "<Figure size 720x360 with 1 Axes>"
      ]
     },
     "metadata": {
      "needs_background": "light"
     },
     "output_type": "display_data"
    },
    {
     "name": "stdout",
     "output_type": "stream",
     "text": [
      "\u001b[1m\n",
      "\t\t\t\tSTANCE\u001b[0m\n"
     ]
    },
    {
     "data": {
      "image/png": "[encoded data removed]",
      "text/plain": [
       "<Figure size 720x360 with 1 Axes>"
      ]
     },
     "metadata": {
      "needs_background": "light"
     },
     "output_type": "display_data"
    },
    {
     "name": "stdout",
     "output_type": "stream",
     "text": [
      "\u001b[1m\n",
      "\t\t\t\tPEOPLE_TOT_3PLUS\u001b[0m\n"
     ]
    },
    {
     "data": {
      "image/png": "[encoded data removed]",
      "text/plain": [
       "<Figure size 720x360 with 1 Axes>"
      ]
     },
     "metadata": {
      "needs_background": "light"
     },
     "output_type": "display_data"
    },
    {
     "name": "stdout",
     "output_type": "stream",
     "text": [
      "\u001b[1m\n",
      "\t\t\t\tHAVE_KIDS\u001b[0m\n"
     ]
    },
    {
     "data": {
      "image/png": "[encoded data removed]",
      "text/plain": [
       "<Figure size 720x360 with 1 Axes>"
      ]
     },
     "metadata": {
      "needs_background": "light"
     },
     "output_type": "display_data"
    },
    {
     "name": "stdout",
     "output_type": "stream",
     "text": [
      "\u001b[1m\n",
      "\t\t\t\tGENDER\u001b[0m\n"
     ]
    },
    {
     "data": {
      "image/png": "[encoded data removed]",
      "text/plain": [
       "<Figure size 720x360 with 1 Axes>"
      ]
     },
     "metadata": {
      "needs_background": "light"
     },
     "output_type": "display_data"
    },
    {
     "name": "stdout",
     "output_type": "stream",
     "text": [
      "\u001b[1m\n",
      "\t\t\t\tAGE_BINNED\u001b[0m\n"
     ]
    },
    {
     "data": {
      "image/png": "[encoded data removed]",
      "text/plain": [
       "<Figure size 720x360 with 1 Axes>"
      ]
     },
     "metadata": {
      "needs_background": "light"
     },
     "output_type": "display_data"
    },
    {
     "name": "stdout",
     "output_type": "stream",
     "text": [
      "\u001b[1m\n",
      "\t\t\t\tEDUC_BINNED\u001b[0m\n"
     ]
    },
    {
     "data": {
      "image/png": "[encoded data removed]",
      "text/plain": [
       "<Figure size 720x360 with 1 Axes>"
      ]
     },
     "metadata": {
      "needs_background": "light"
     },
     "output_type": "display_data"
    },
    {
     "name": "stdout",
     "output_type": "stream",
     "text": [
      "\u001b[1m\n",
      "\t\t\t\tFINANCIAL\u001b[0m\n"
     ]
    },
    {
     "data": {
      "image/png": "[encoded data removed]",
      "text/plain": [
       "<Figure size 720x360 with 1 Axes>"
      ]
     },
     "metadata": {
      "needs_background": "light"
     },
     "output_type": "display_data"
    },
    {
     "name": "stdout",
     "output_type": "stream",
     "text": [
      "\u001b[1m\n",
      "\t\t\t\tINCOME_BINNED\u001b[0m\n"
     ]
    },
    {
     "data": {
      "image/png": "[encoded data removed]",
      "text/plain": [
       "<Figure size 720x360 with 1 Axes>"
      ]
     },
     "metadata": {
      "needs_background": "light"
     },
     "output_type": "display_data"
    },
    {
     "name": "stdout",
     "output_type": "stream",
     "text": [
      "\u001b[1m\n",
      "\t\t\t\tRETIRED\u001b[0m\n"
     ]
    },
    {
     "data": {
      "image/png": "[encoded data removed]",
      "text/plain": [
       "<Figure size 720x360 with 1 Axes>"
      ]
     },
     "metadata": {
      "needs_background": "light"
     },
     "output_type": "display_data"
    }
   ],
   "source": [
    "# Make a multiple-histogram of data-sets with different length.\n",
    "plt.rcParams['figure.figsize'] = (10,5)\n",
    "\n",
    "class color:\n",
    "   PURPLE = '\\033[95m'\n",
    "   CYAN = '\\033[96m'\n",
    "   DARKCYAN = '\\033[36m'\n",
    "   BLUE = '\\033[94m'\n",
    "   GREEN = '\\033[92m'\n",
    "   YELLOW = '\\033[93m'\n",
    "   RED = '\\033[91m'\n",
    "   BOLD = '\\033[1m'\n",
    "   UNDERLINE = '\\033[4m'\n",
    "   END = '\\033[0m'\n",
    "#print (color.BOLD + 'Hello World !' + color.END)\n",
    "\n",
    "for i in range(4,48):\n",
    "    col = str(a_comparable.columns[i])\n",
    "    print(color.BOLD + '\\n\\t\\t\\t\\t' + col + color.END)\n",
    "    x_multi = [a_comparable.loc[:, col], c_comparable.loc[:, col], g_comparable.loc[:, col]]\n",
    "    n, bins, patches = p.hist(x_multi, 5, density=1, histtype='bar',\n",
    "                            color=['blue', 'orange', 'green'],\n",
    "                            label=['A-Group', 'C-Group', 'G-Group'])\n",
    "    p.legend()\n",
    "    plt.show()"
   ]
  },
  {
   "cell_type": "markdown",
   "metadata": {},
   "source": [
    "#### features that visually seem to show importance:\n",
    "- Winter_nopv_binned/Summer_nopv_binned-A group is slightly right skewed, with G group slightly left skewed\n",
    "- CIJM(1-3)-\"ask others/research products before buying\"; seems that G group researches more (less impulse buying?)\n",
    "- gender-G group predominantly female, A group is mostly male, C group slightly more male"
   ]
  },
  {
   "cell_type": "markdown",
   "metadata": {},
   "source": [
    "#### Statistics on all features:"
   ]
  },
  {
   "cell_type": "code",
   "execution_count": 66,
   "metadata": {},
   "outputs": [
    {
     "name": "stdout",
     "output_type": "stream",
     "text": [
      "\n",
      "Testing significance between A group and C group for feature:  WINTER_NOPV_BINNED\n",
      "Mean of A:  6.2012236573759125\n",
      "Mean of C:  6.010471204188481\n",
      "The T-Statistic is 1 with a p-value of 0.08897057019106627\n",
      "P-value greater than 0.05, no significant difference.                       No Sig\n",
      "\n",
      "And between A group and G group:\n",
      "Mean of A:  6.2012236573759125\n",
      "Mean of G:  4.675609756097552\n",
      "The T-Statistic is 21 with a p-value of 3.371429986064247e-96\n",
      "There is a significant difference between these two groups.                 Significant\n",
      "---------------------------------------------------------------------------------------------\n",
      "\n",
      "Testing significance between A group and C group for feature:  SUMMER_NOPV_BINNED\n",
      "Mean of A:  7.469135802469123\n",
      "Mean of C:  6.568695652173912\n",
      "The T-Statistic is 7 with a p-value of 1.1767249836412106e-13\n",
      "There is a significant difference between these two groups.                 Significant\n",
      "\n",
      "And between A group and G group:\n",
      "Mean of A:  7.469135802469123\n",
      "Mean of G:  5.575732899022816\n",
      "The T-Statistic is 22 with a p-value of 3.072286995989981e-106\n",
      "There is a significant difference between these two groups.                 Significant\n",
      "---------------------------------------------------------------------------------------------\n",
      "\n",
      "Testing significance between A group and C group for feature:  PN1\n",
      "Mean of A:  3.8670044331855604\n",
      "Mean of C:  3.803448275862069\n",
      "The T-Statistic is 1 with a p-value of 0.23545070100232385\n",
      "P-value greater than 0.05, no significant difference.                       No Sig\n",
      "\n",
      "And between A group and G group:\n",
      "Mean of A:  3.8670044331855604\n",
      "Mean of G:  3.399548532731377\n",
      "The T-Statistic is 12 with a p-value of 2.982670964289778e-33\n",
      "There is a significant difference between these two groups.                 Significant\n",
      "---------------------------------------------------------------------------------------------\n",
      "\n",
      "Testing significance between A group and C group for feature:  PN2\n",
      "Mean of A:  3.731457800511509\n",
      "Mean of C:  3.734375\n",
      "The T-Statistic is 0 with a p-value of 0.9584032290346312\n",
      "P-value greater than 0.05, no significant difference.                       No Sig\n",
      "\n",
      "And between A group and G group:\n",
      "Mean of A:  3.731457800511509\n",
      "Mean of G:  3.4367041198501873\n",
      "The T-Statistic is 7 with a p-value of 1.880734782297734e-12\n",
      "There is a significant difference between these two groups.                 Significant\n",
      "---------------------------------------------------------------------------------------------\n",
      "\n",
      "Testing significance between A group and C group for feature:  PN3\n",
      "Mean of A:  3.776582278481013\n",
      "Mean of C:  3.7677642980935877\n",
      "The T-Statistic is 0 with a p-value of 0.8654353893792044\n",
      "P-value greater than 0.05, no significant difference.                       No Sig\n",
      "\n",
      "And between A group and G group:\n",
      "Mean of A:  3.776582278481013\n",
      "Mean of G:  3.7294469357249627\n",
      "The T-Statistic is 1 with a p-value of 0.2049176938217136\n",
      "P-value greater than 0.05, no significant difference.                       No Sig\n",
      "---------------------------------------------------------------------------------------------\n",
      "\n",
      "Testing significance between A group and C group for feature:  E2\n",
      "Mean of A:  3.8636950904392764\n",
      "Mean of C:  3.923758865248227\n",
      "The T-Statistic is 0 with a p-value of 0.3299716983625248\n",
      "P-value greater than 0.05, no significant difference.                       No Sig\n",
      "\n",
      "And between A group and G group:\n",
      "Mean of A:  3.8636950904392764\n",
      "Mean of G:  3.7797123391370175\n",
      "The T-Statistic is 1 with a p-value of 0.0702991665892931\n",
      "P-value greater than 0.05, no significant difference.                       No Sig\n",
      "---------------------------------------------------------------------------------------------\n",
      "\n",
      "Testing significance between A group and C group for feature:  BB1\n",
      "Mean of A:  4.05003248862898\n",
      "Mean of C:  3.932980599647266\n",
      "The T-Statistic is 2 with a p-value of 0.01325262335346059\n",
      "There is a significant difference between these two groups.                 Significant\n",
      "\n",
      "And between A group and G group:\n",
      "Mean of A:  4.05003248862898\n",
      "Mean of G:  3.59601593625498\n",
      "The T-Statistic is 12 with a p-value of 5.6934219708614454e-34\n",
      "There is a significant difference between these two groups.                 Significant\n",
      "---------------------------------------------------------------------------------------------\n",
      "\n",
      "Testing significance between A group and C group for feature:  BB2\n",
      "Mean of A:  3.620244565217391\n",
      "Mean of C:  3.6464088397790055\n",
      "The T-Statistic is 0 with a p-value of 0.6495180286860569\n",
      "P-value greater than 0.05, no significant difference.                       No Sig\n",
      "\n",
      "And between A group and G group:\n",
      "Mean of A:  3.620244565217391\n",
      "Mean of G:  3.2689956331877728\n",
      "The T-Statistic is 7 with a p-value of 5.392561779448364e-15\n",
      "There is a significant difference between these two groups.                 Significant\n",
      "---------------------------------------------------------------------------------------------\n",
      "\n",
      "Testing significance between A group and C group for feature:  BB3\n",
      "Mean of A:  4.150127226463105\n",
      "Mean of C:  4.069808027923211\n",
      "The T-Statistic is 1 with a p-value of 0.081598777490142\n",
      "P-value greater than 0.05, no significant difference.                       No Sig\n",
      "\n",
      "And between A group and G group:\n",
      "Mean of A:  4.150127226463105\n",
      "Mean of G:  3.7058823529411766\n",
      "The T-Statistic is 12 with a p-value of 5.589929559989907e-36\n",
      "There is a significant difference between these two groups.                 Significant\n",
      "---------------------------------------------------------------------------------------------\n",
      "\n",
      "Testing significance between A group and C group for feature:  BTE8\n",
      "Mean of A:  4.395900064061499\n",
      "Mean of C:  4.08421052631579\n",
      "The T-Statistic is 7 with a p-value of 3.705413292943775e-15\n",
      "There is a significant difference between these two groups.                 Significant\n",
      "\n",
      "And between A group and G group:\n",
      "Mean of A:  4.395900064061499\n",
      "Mean of G:  3.6333601933924253\n",
      "The T-Statistic is 23 with a p-value of 9.766624893795718e-110\n",
      "There is a significant difference between these two groups.                 Significant\n",
      "---------------------------------------------------------------------------------------------\n",
      "\n",
      "Testing significance between A group and C group for feature:  BE13\n",
      "Mean of A:  3.9248322147651007\n",
      "Mean of C:  3.6451612903225805\n",
      "The T-Statistic is 5 with a p-value of 1.7140273584791164e-08\n",
      "There is a significant difference between these two groups.                 Significant\n",
      "\n",
      "And between A group and G group:\n",
      "Mean of A:  3.9248322147651007\n",
      "Mean of G:  3.2412914188615125\n",
      "The T-Statistic is 18 with a p-value of 3.359547811213121e-72\n",
      "There is a significant difference between these two groups.                 Significant\n",
      "---------------------------------------------------------------------------------------------\n",
      "\n",
      "Testing significance between A group and C group for feature:  BE10\n",
      "Mean of A:  4.412101910828025\n",
      "Mean of C:  3.9342806394316163\n",
      "The T-Statistic is 10 with a p-value of 1.106945706388905e-24\n",
      "There is a significant difference between these two groups.                 Significant\n",
      "\n",
      "And between A group and G group:\n",
      "Mean of A:  4.412101910828025\n",
      "Mean of G:  3.4694719471947195\n",
      "The T-Statistic is 27 with a p-value of 1.100334791961541e-143\n",
      "There is a significant difference between these two groups.                 Significant\n",
      "---------------------------------------------------------------------------------------------\n",
      "\n",
      "Testing significance between A group and C group for feature:  Co3\n",
      "Mean of A:  4.146964856230032\n",
      "Mean of C:  3.8641975308641974\n",
      "The T-Statistic is 6 with a p-value of 1.8375004283503394e-10\n",
      "There is a significant difference between these two groups.                 Significant\n",
      "\n",
      "And between A group and G group:\n",
      "Mean of A:  4.146964856230032\n",
      "Mean of G:  3.3060556464811786\n",
      "The T-Statistic is 24 with a p-value of 2.7044529633264534e-115\n",
      "There is a significant difference between these two groups.                 Significant\n",
      "---------------------------------------------------------------------------------------------\n",
      "\n",
      "Testing significance between A group and C group for feature:  VB1\n",
      "Mean of A:  3.9184193753983427\n",
      "Mean of C:  3.9744463373083474\n",
      "The T-Statistic is 1 with a p-value of 0.26151298220333463\n",
      "P-value greater than 0.05, no significant difference.                       No Sig\n",
      "\n",
      "And between A group and G group:\n",
      "Mean of A:  3.9184193753983427\n",
      "Mean of G:  3.9038031319910513\n",
      "The T-Statistic is 0 with a p-value of 0.6901390983072234\n",
      "P-value greater than 0.05, no significant difference.                       No Sig\n",
      "---------------------------------------------------------------------------------------------\n",
      "\n",
      "Testing significance between A group and C group for feature:  VB2\n",
      "Mean of A:  3.7468112244897958\n",
      "Mean of C:  3.887372013651877\n",
      "The T-Statistic is 2 with a p-value of 0.007727431656640878\n",
      "There is a significant difference between these two groups.                 Significant\n",
      "\n",
      "And between A group and G group:\n",
      "Mean of A:  3.7468112244897958\n",
      "Mean of G:  3.8322147651006713\n",
      "The T-Statistic is 2 with a p-value of 0.03049777148460193\n",
      "There is a significant difference between these two groups.                 Significant\n",
      "---------------------------------------------------------------------------------------------\n",
      "\n",
      "Testing significance between A group and C group for feature:  VB3\n",
      "Mean of A:  3.3762820512820513\n",
      "Mean of C:  3.7597955706984667\n",
      "The T-Statistic is 6 with a p-value of 4.887493053144767e-12\n",
      "There is a significant difference between these two groups.                 Significant\n",
      "\n",
      "And between A group and G group:\n",
      "Mean of A:  3.3762820512820513\n",
      "Mean of G:  3.436241610738255\n",
      "The T-Statistic is 1 with a p-value of 0.15959804311971607\n",
      "P-value greater than 0.05, no significant difference.                       No Sig\n",
      "---------------------------------------------------------------------------------------------\n",
      "\n",
      "Testing significance between A group and C group for feature:  VA1\n",
      "Mean of A:  4.019243104554201\n",
      "Mean of C:  4.141396933560477\n",
      "The T-Statistic is 2 with a p-value of 0.016632976898123267\n",
      "There is a significant difference between these two groups.                 Significant\n",
      "\n",
      "And between A group and G group:\n",
      "Mean of A:  4.019243104554201\n",
      "Mean of G:  4.214019388516033\n",
      "The T-Statistic is 5 with a p-value of 3.077068910501979e-07\n",
      "There is a significant difference between these two groups.                 Significant\n",
      "---------------------------------------------------------------------------------------------\n",
      "\n",
      "Testing significance between A group and C group for feature:  VA2\n",
      "Mean of A:  3.6500319897632756\n",
      "Mean of C:  3.9233390119250426\n",
      "The T-Statistic is 5 with a p-value of 1.561725274896953e-07\n",
      "There is a significant difference between these two groups.                 Significant\n",
      "\n",
      "And between A group and G group:\n",
      "Mean of A:  3.6500319897632756\n",
      "Mean of G:  3.8277404921700224\n",
      "The T-Statistic is 4 with a p-value of 7.83819917374092e-06\n",
      "There is a significant difference between these two groups.                 Significant\n",
      "---------------------------------------------------------------------------------------------\n",
      "\n",
      "Testing significance between A group and C group for feature:  VA3\n",
      "Mean of A:  3.884122919334187\n",
      "Mean of C:  4.0289608177172065\n",
      "The T-Statistic is 2 with a p-value of 0.0053349046057055175\n",
      "There is a significant difference between these two groups.                 Significant\n",
      "\n",
      "And between A group and G group:\n",
      "Mean of A:  3.884122919334187\n",
      "Mean of G:  4.038031319910514\n",
      "The T-Statistic is 3 with a p-value of 0.00011403398265417835\n",
      "There is a significant difference between these two groups.                 Significant\n",
      "---------------------------------------------------------------------------------------------\n",
      "\n",
      "Testing significance between A group and C group for feature:  VT1\n",
      "Mean of A:  4.2554417413572345\n",
      "Mean of C:  4.175468483816013\n",
      "The T-Statistic is 1 with a p-value of 0.07427322768568399\n",
      "P-value greater than 0.05, no significant difference.                       No Sig\n",
      "\n",
      "And between A group and G group:\n",
      "Mean of A:  4.2554417413572345\n",
      "Mean of G:  4.37434750186428\n",
      "The T-Statistic is 3 with a p-value of 0.00018651487547755767\n",
      "There is a significant difference between these two groups.                 Significant\n",
      "---------------------------------------------------------------------------------------------\n",
      "\n",
      "Testing significance between A group and C group for feature:  VT2\n",
      "Mean of A:  4.522988505747127\n",
      "Mean of C:  4.354948805460751\n",
      "The T-Statistic is 3 with a p-value of 0.00011966260366972816\n",
      "There is a significant difference between these two groups.                 Significant\n",
      "\n",
      "And between A group and G group:\n",
      "Mean of A:  4.522988505747127\n",
      "Mean of G:  4.621641791044776\n",
      "The T-Statistic is 3 with a p-value of 0.0004410534975520204\n",
      "There is a significant difference between these two groups.                 Significant\n",
      "---------------------------------------------------------------------------------------------\n",
      "\n",
      "Testing significance between A group and C group for feature:  VT3\n",
      "Mean of A:  3.674135723431498\n",
      "Mean of C:  3.7235494880546076\n",
      "The T-Statistic is 1 with a p-value of 0.3173345847318456\n",
      "P-value greater than 0.05, no significant difference.                       No Sig\n",
      "\n",
      "And between A group and G group:\n",
      "Mean of A:  3.674135723431498\n",
      "Mean of G:  3.8292319164802384\n",
      "The T-Statistic is 4 with a p-value of 1.0581958192832063e-05\n",
      "There is a significant difference between these two groups.                 Significant\n",
      "---------------------------------------------------------------------------------------------\n",
      "\n",
      "Testing significance between A group and C group for feature:  VE1\n",
      "Mean of A:  2.767650834403081\n",
      "Mean of C:  3.0273504273504273\n",
      "The T-Statistic is 4 with a p-value of 2.8482735428919717e-05\n",
      "There is a significant difference between these two groups.                 Significant\n",
      "\n",
      "And between A group and G group:\n",
      "Mean of A:  2.767650834403081\n",
      "Mean of G:  2.876865671641791\n",
      "The T-Statistic is 2 with a p-value of 0.012183363920460344\n",
      "There is a significant difference between these two groups.                 Significant\n",
      "---------------------------------------------------------------------------------------------\n",
      "\n",
      "Testing significance between A group and C group for feature:  VE2\n",
      "Mean of A:  3.102498398462524\n",
      "Mean of C:  3.36518771331058\n",
      "The T-Statistic is 4 with a p-value of 5.146272987411286e-06\n",
      "There is a significant difference between these two groups.                 Significant\n",
      "\n",
      "And between A group and G group:\n",
      "Mean of A:  3.102498398462524\n",
      "Mean of G:  3.054436987322893\n",
      "The T-Statistic is 1 with a p-value of 0.24722165485512682\n",
      "P-value greater than 0.05, no significant difference.                       No Sig\n",
      "---------------------------------------------------------------------------------------------\n",
      "\n",
      "Testing significance between A group and C group for feature:  VE4\n",
      "Mean of A:  2.786127167630058\n",
      "Mean of C:  3.058119658119658\n",
      "The T-Statistic is 4 with a p-value of 1.885962903544042e-06\n",
      "There is a significant difference between these two groups.                 Significant\n",
      "\n",
      "And between A group and G group:\n",
      "Mean of A:  2.786127167630058\n",
      "Mean of G:  2.8031319910514543\n",
      "The T-Statistic is 0 with a p-value of 0.6491304408470575\n",
      "P-value greater than 0.05, no significant difference.                       No Sig\n",
      "---------------------------------------------------------------------------------------------\n",
      "\n",
      "Testing significance between A group and C group for feature:  VO1\n",
      "Mean of A:  3.485294117647059\n",
      "Mean of C:  3.6877133105802047\n",
      "The T-Statistic is 3 with a p-value of 7.62549541464195e-05\n",
      "There is a significant difference between these two groups.                 Significant\n",
      "\n",
      "And between A group and G group:\n",
      "Mean of A:  3.485294117647059\n",
      "Mean of G:  3.464578672632364\n",
      "The T-Statistic is 0 with a p-value of 0.5914457775192886\n",
      "P-value greater than 0.05, no significant difference.                       No Sig\n",
      "---------------------------------------------------------------------------------------------\n",
      "\n",
      "Testing significance between A group and C group for feature:  VO2\n",
      "Mean of A:  3.4775641025641026\n",
      "Mean of C:  3.6791808873720138\n",
      "The T-Statistic is 3 with a p-value of 9.612494860386082e-05\n",
      "There is a significant difference between these two groups.                 Significant\n",
      "\n",
      "And between A group and G group:\n",
      "Mean of A:  3.4775641025641026\n",
      "Mean of G:  3.5488441461595825\n",
      "The T-Statistic is 1 with a p-value of 0.06180298943785958\n",
      "P-value greater than 0.05, no significant difference.                       No Sig\n",
      "---------------------------------------------------------------------------------------------\n",
      "\n",
      "Testing significance between A group and C group for feature:  VO3\n",
      "Mean of A:  3.6006410256410257\n",
      "Mean of C:  3.8432708688245314\n",
      "The T-Statistic is 4 with a p-value of 7.51839897831536e-07\n",
      "There is a significant difference between these two groups.                 Significant\n",
      "\n",
      "And between A group and G group:\n",
      "Mean of A:  3.6006410256410257\n",
      "Mean of G:  3.582089552238806\n",
      "The T-Statistic is 0 with a p-value of 0.6228811729552497\n",
      "P-value greater than 0.05, no significant difference.                       No Sig\n",
      "---------------------------------------------------------------------------------------------\n",
      "\n",
      "Testing significance between A group and C group for feature:  CIJM1\n",
      "Mean of A:  3.2331210191082804\n",
      "Mean of C:  3.529109589041096\n",
      "The T-Statistic is 6 with a p-value of 2.209026174400422e-10\n",
      "There is a significant difference between these two groups.                 Significant\n",
      "\n",
      "And between A group and G group:\n",
      "Mean of A:  3.2331210191082804\n",
      "Mean of G:  3.7024608501118568\n",
      "The T-Statistic is 13 with a p-value of 3.9563189380253797e-41\n",
      "There is a significant difference between these two groups.                 Significant\n",
      "---------------------------------------------------------------------------------------------\n",
      "\n",
      "Testing significance between A group and C group for feature:  CIJM2\n",
      "Mean of A:  3.2340966921119594\n",
      "Mean of C:  3.458904109589041\n",
      "The T-Statistic is 4 with a p-value of 1.0996658106647422e-06\n",
      "There is a significant difference between these two groups.                 Significant\n",
      "\n",
      "And between A group and G group:\n",
      "Mean of A:  3.2340966921119594\n",
      "Mean of G:  3.6741237882177478\n",
      "The T-Statistic is 12 with a p-value of 9.993081285158305e-36\n",
      "There is a significant difference between these two groups.                 Significant\n",
      "---------------------------------------------------------------------------------------------\n",
      "\n",
      "Testing significance between A group and C group for feature:  CIJM3\n",
      "Mean of A:  3.3161577608142494\n",
      "Mean of C:  3.4871794871794872\n",
      "The T-Statistic is 4 with a p-value of 3.700600095309135e-05\n",
      "There is a significant difference between these two groups.                 Significant\n",
      "\n",
      "And between A group and G group:\n",
      "Mean of A:  3.3161577608142494\n",
      "Mean of G:  3.606263982102908\n",
      "The T-Statistic is 9 with a p-value of 3.6314521971652355e-20\n",
      "There is a significant difference between these two groups.                 Significant\n",
      "---------------------------------------------------------------------------------------------\n",
      "\n",
      "Testing significance between A group and C group for feature:  CNS1\n",
      "Mean of A:  2.6762268961121736\n",
      "Mean of C:  3.3407534246575343\n",
      "The T-Statistic is 12 with a p-value of 1.4891242753206873e-33\n",
      "There is a significant difference between these two groups.                 Significant\n",
      "\n",
      "And between A group and G group:\n",
      "Mean of A:  2.6762268961121736\n",
      "Mean of G:  2.964951528709918\n",
      "The T-Statistic is 7 with a p-value of 4.6744516991565814e-14\n",
      "There is a significant difference between these two groups.                 Significant\n",
      "---------------------------------------------------------------------------------------------\n",
      "\n",
      "Testing significance between A group and C group for feature:  CNS2\n",
      "Mean of A:  2.703184713375796\n",
      "Mean of C:  3.3321917808219177\n",
      "The T-Statistic is 12 with a p-value of 5.529068037506326e-33\n",
      "There is a significant difference between these two groups.                 Significant\n",
      "\n",
      "And between A group and G group:\n",
      "Mean of A:  2.703184713375796\n",
      "Mean of G:  2.9724086502609994\n",
      "The T-Statistic is 7 with a p-value of 4.509216198292783e-13\n",
      "There is a significant difference between these two groups.                 Significant\n",
      "---------------------------------------------------------------------------------------------\n",
      "\n",
      "Testing significance between A group and C group for feature:  CNS4\n",
      "Mean of A:  2.878498727735369\n",
      "Mean of C:  3.482876712328767\n",
      "The T-Statistic is 12 with a p-value of 2.500766120633379e-32\n",
      "There is a significant difference between these two groups.                 Significant\n",
      "\n",
      "And between A group and G group:\n",
      "Mean of A:  2.878498727735369\n",
      "Mean of G:  3.265473527218494\n",
      "The T-Statistic is 10 with a p-value of 2.0559826915436336e-24\n",
      "There is a significant difference between these two groups.                 Significant\n",
      "---------------------------------------------------------------------------------------------\n",
      "\n",
      "Testing significance between A group and C group for feature:  SQFT_BINNED\n",
      "Mean of A:  2.4620786516853883\n",
      "Mean of C:  2.3163743025300016\n",
      "The T-Statistic is 2 with a p-value of 0.004139342194837605\n",
      "There is a significant difference between these two groups.                 Significant\n",
      "\n",
      "And between A group and G group:\n",
      "Mean of A:  2.4620786516853883\n",
      "Mean of G:  2.3676360924683073\n",
      "The T-Statistic is 2 with a p-value of 0.013661187740341595\n",
      "There is a significant difference between these two groups.                 Significant\n",
      "---------------------------------------------------------------------------------------------\n",
      "\n",
      "Testing significance between A group and C group for feature:  STANCE\n",
      "Mean of A:  3.1887905604719764\n",
      "Mean of C:  2.9464627151051626\n",
      "The T-Statistic is 4 with a p-value of 1.683619193889301e-05\n",
      "There is a significant difference between these two groups.                 Significant\n",
      "\n",
      "And between A group and G group:\n",
      "Mean of A:  3.1887905604719764\n",
      "Mean of G:  3.20704845814978\n",
      "The T-Statistic is 0 with a p-value of 0.6495551332689726\n",
      "P-value greater than 0.05, no significant difference.                       No Sig\n",
      "---------------------------------------------------------------------------------------------\n",
      "\n",
      "Testing significance between A group and C group for feature:  PEOPLE_TOT_3PLUS\n",
      "Mean of A:  0.49438902743142144\n",
      "Mean of C:  0.5527210884353742\n",
      "The T-Statistic is 2 with a p-value of 0.015341582584560393\n",
      "There is a significant difference between these two groups.                 Significant\n",
      "\n",
      "And between A group and G group:\n",
      "Mean of A:  0.49438902743142144\n",
      "Mean of G:  0.3542132736763609\n",
      "The T-Statistic is 7 with a p-value of 1.2061765135514952e-14\n",
      "There is a significant difference between these two groups.                 Significant\n",
      "---------------------------------------------------------------------------------------------\n",
      "\n",
      "Testing significance between A group and C group for feature:  HAVE_KIDS\n",
      "Mean of A:  0.3026404874746107\n",
      "Mean of C:  0.44773519163763065\n",
      "The T-Statistic is 6 with a p-value of 2.0215941421285856e-09\n",
      "There is a significant difference between these two groups.                 Significant\n",
      "\n",
      "And between A group and G group:\n",
      "Mean of A:  0.3026404874746107\n",
      "Mean of G:  0.2178517397881997\n",
      "The T-Statistic is 5 with a p-value of 2.916432917697886e-07\n",
      "There is a significant difference between these two groups.                 Significant\n",
      "---------------------------------------------------------------------------------------------\n",
      "\n",
      "Testing significance between A group and C group for feature:  GENDER\n",
      "Mean of A:  0.35200509229789945\n",
      "Mean of C:  0.4478632478632479\n",
      "The T-Statistic is 4 with a p-value of 6.263452421067308e-05\n",
      "There is a significant difference between these two groups.                 Significant\n",
      "\n",
      "And between A group and G group:\n",
      "Mean of A:  0.35200509229789945\n",
      "Mean of G:  0.5977443609022557\n",
      "The T-Statistic is 13 with a p-value of 7.18815556330765e-41\n",
      "There is a significant difference between these two groups.                 Significant\n",
      "---------------------------------------------------------------------------------------------\n",
      "\n",
      "Testing significance between A group and C group for feature:  AGE_BINNED\n",
      "Mean of A:  2.7618453865336656\n",
      "Mean of C:  2.054421768707483\n",
      "The T-Statistic is 13 with a p-value of 4.9259055698120695e-36\n",
      "There is a significant difference between these two groups.                 Significant\n",
      "\n",
      "And between A group and G group:\n",
      "Mean of A:  2.7618453865336656\n",
      "Mean of G:  2.558538404175988\n",
      "The T-Statistic is 4 with a p-value of 6.964968734015655e-07\n",
      "There is a significant difference between these two groups.                 Significant\n",
      "---------------------------------------------------------------------------------------------\n",
      "\n",
      "Testing significance between A group and C group for feature:  EDUC_BINNED\n",
      "Mean of A:  2.760356915232632\n",
      "Mean of C:  2.795918367346939\n",
      "The T-Statistic is 0 with a p-value of 0.45027253281567003\n",
      "P-value greater than 0.05, no significant difference.                       No Sig\n",
      "\n",
      "And between A group and G group:\n",
      "Mean of A:  2.760356915232632\n",
      "Mean of G:  2.4504101416853095\n",
      "The T-Statistic is 8 with a p-value of 7.607363053753158e-17\n",
      "There is a significant difference between these two groups.                 Significant\n",
      "---------------------------------------------------------------------------------------------\n",
      "\n",
      "Testing significance between A group and C group for feature:  FINANCIAL\n",
      "Mean of A:  1.5680359435173299\n",
      "Mean of C:  1.685025817555938\n",
      "The T-Statistic is 3 with a p-value of 0.0014612268069332502\n",
      "There is a significant difference between these two groups.                 Significant\n",
      "\n",
      "And between A group and G group:\n",
      "Mean of A:  1.5680359435173299\n",
      "Mean of G:  1.712789827973074\n",
      "The T-Statistic is 5 with a p-value of 1.296624161502663e-07\n",
      "There is a significant difference between these two groups.                 Significant\n",
      "---------------------------------------------------------------------------------------------\n",
      "\n",
      "Testing significance between A group and C group for feature:  INCOME_BINNED\n",
      "Mean of A:  3.3668261562998407\n",
      "Mean of C:  2.973977695167286\n",
      "The T-Statistic is 5 with a p-value of 2.0465257808482844e-08\n",
      "There is a significant difference between these two groups.                 Significant\n",
      "\n",
      "And between A group and G group:\n",
      "Mean of A:  3.3668261562998407\n",
      "Mean of G:  2.8565101860053144\n",
      "The T-Statistic is 9 with a p-value of 1.3018250775844138e-20\n",
      "There is a significant difference between these two groups.                 Significant\n",
      "---------------------------------------------------------------------------------------------\n",
      "\n",
      "Testing significance between A group and C group for feature:  RETIRED\n",
      "Mean of A:  0.3747645951035782\n",
      "Mean of C:  0.20272572402044292\n",
      "The T-Statistic is 8 with a p-value of 1.59295294395363e-16\n",
      "There is a significant difference between these two groups.                 Significant\n",
      "\n",
      "And between A group and G group:\n",
      "Mean of A:  0.3747645951035782\n",
      "Mean of G:  0.36092468307233405\n",
      "The T-Statistic is 0 with a p-value of 0.43869791293348814\n",
      "P-value greater than 0.05, no significant difference.                       No Sig\n",
      "---------------------------------------------------------------------------------------------\n"
     ]
    }
   ],
   "source": [
    "#loop through interesting features, and see if they are statistically significant\n",
    "#run all features, if select desired: ['WINTER_NOPV_BINNED', 'SUMMER_NOPV_BINNED', 'CIJM1', 'CIJM2', 'CIJM3', 'GENDER']\n",
    "features = list(a_comparable.columns)\n",
    "#remove the first 4 features (not important or significant), and the last target class\n",
    "features = features[4:-1]\n",
    "\n",
    "for feature in features:\n",
    "    print('\\nTesting significance between A group and C group for feature: ',feature)\n",
    "    print('Mean of A: ', np.mean(a_comparable[feature]))\n",
    "    print('Mean of C: ', np.mean(c_comparable[feature]))\n",
    "\n",
    "    #Independent samples t-test\n",
    "    feature_ttest, feature_pval = stats.ttest_ind(a=a_comparable[feature], b=c_comparable[feature], equal_var=False,nan_policy='omit')\n",
    "    print('The T-Statistic is %d with a p-value of %s' %(abs(feature_ttest), feature_pval))\n",
    "    \n",
    "    if feature_pval < 0.05:\n",
    "        print('There is a significant difference between these two groups.                 Significant')\n",
    "    else:\n",
    "        print('P-value greater than 0.05, no significant difference.                       No Sig')\n",
    "    \n",
    "    print(\"\\nAnd between A group and G group:\")    \n",
    "\n",
    "    print('Mean of A: ', np.mean(a_comparable[feature]))\n",
    "    print('Mean of G: ', np.mean(g_comparable[feature]))\n",
    "\n",
    "    #Independent samples t-test\n",
    "    feature_ttest, feature_pval = stats.ttest_ind(a=a_comparable[feature], b=g_comparable[feature], equal_var=False,nan_policy='omit')\n",
    "    print('The T-Statistic is %d with a p-value of %s' %(abs(feature_ttest), feature_pval))\n",
    "    \n",
    "    if feature_pval < 0.05:\n",
    "        print('There is a significant difference between these two groups.                 Significant')\n",
    "    else:\n",
    "        print('P-value greater than 0.05, no significant difference.                       No Sig')\n",
    "    print('---------------------------------------------------------------------------------------------')"
   ]
  },
  {
   "cell_type": "markdown",
   "metadata": {},
   "source": [
    "##### Features that stand out:\n",
    "- **Gender** appears to be statistically significant, with p-values of 6.3e-5 and 7.2e-41 for C and G groups, respectively, when compared to the A group.\n",
    "- The **Winter** electric costs seem to be significantly different for the G group when compared to the A group (p-value of 3.4e-96), but does not seem to be significant in the C group, with a p-value of 0.08.  This suggests that winter electric bills may have been a factor in A group purchasing solar, with the C group interested in reducing bills and thus considering purchasing, with less incentive for the G group to purchase.\n",
    "- The **Summer** electric costs seem to be significantly different for the both the C and G groups when compared to the A group (p-values of 1.2e-13 and 3.1e-106, respectively).  This suggests that summer electric bills may have been a factor in A group purchasing solar, with the C and G groups less incentivised to reduce their bills and thus less inclined to purchasing solar.\n",
    "- There seems to be a significant difference from the A group in both C and G groups for **CIJM(1-3)**(Before buying a new brand, I usually ask someone who has experience with the brand for advice.)\n",
    "- Most significance seems to occur between A group and G group, with C group often not being significant, or having a higher p-value than G group"
   ]
  },
  {
   "cell_type": "markdown",
   "metadata": {},
   "source": [
    "#### Features that may need to be dropped due to unimportance:\n",
    "- PN3\n",
    "- E2\n",
    "- VB1"
   ]
  },
  {
   "cell_type": "code",
   "execution_count": 67,
   "metadata": {},
   "outputs": [],
   "source": [
    "#Let's try combined group histograms (this probably does not show significance or pattern, since it is all mixed together:\n",
    "plt.rcParams['figure.figsize'] = (25,25)\n",
    "\n",
    "#a_comparable.loc[:, 'WINTER_NOPV_BINNED':].groupby('Purchased').hist()"
   ]
  },
  {
   "cell_type": "code",
   "execution_count": 68,
   "metadata": {},
   "outputs": [],
   "source": [
    "#Change the outlier values from NaN to 0 so logistic regression will not fail to run\n",
    "\n",
    "a_comparable = a_comparable.replace(np.NaN,0)\n",
    "c_comparable = c_comparable.replace(np.NaN,0)\n",
    "g_comparable = g_comparable.replace(np.NaN,0)\n"
   ]
  },
  {
   "cell_type": "code",
   "execution_count": 69,
   "metadata": {},
   "outputs": [],
   "source": [
    "#Scatter matrix-not useful\n",
    "from pandas.plotting import scatter_matrix\n",
    "#re-run combined, now that groups have had outliers changed to NaN:\n",
    "combined = pd.concat([a_comparable, c_comparable, g_comparable], sort=False)\n",
    "#scatter_matrix(combined.loc[:,'WINTER_NOPV_BINNED':'BE10'], alpha=0.2, figsize=(25, 25), diagonal='kde')"
   ]
  },
  {
   "cell_type": "code",
   "execution_count": 70,
   "metadata": {},
   "outputs": [
    {
     "data": {
      "text/html": [
       "<div>\n",
       "<style scoped>\n",
       "    .dataframe tbody tr th:only-of-type {\n",
       "        vertical-align: middle;\n",
       "    }\n",
       "\n",
       "    .dataframe tbody tr th {\n",
       "        vertical-align: top;\n",
       "    }\n",
       "\n",
       "    .dataframe thead th {\n",
       "        text-align: right;\n",
       "    }\n",
       "</style>\n",
       "<table border=\"1\" class=\"dataframe\">\n",
       "  <thead>\n",
       "    <tr style=\"text-align: right;\">\n",
       "      <th></th>\n",
       "      <th>CASE_ID</th>\n",
       "      <th>GPS_NAC_ADOPTER</th>\n",
       "      <th>SURVEY_SOURCE</th>\n",
       "      <th>STATE</th>\n",
       "      <th>WINTER_NOPV_BINNED</th>\n",
       "      <th>SUMMER_NOPV_BINNED</th>\n",
       "      <th>PN1</th>\n",
       "      <th>PN2</th>\n",
       "      <th>PN3</th>\n",
       "      <th>E2</th>\n",
       "      <th>...</th>\n",
       "      <th>STANCE</th>\n",
       "      <th>PEOPLE_TOT_3PLUS</th>\n",
       "      <th>HAVE_KIDS</th>\n",
       "      <th>GENDER</th>\n",
       "      <th>AGE_BINNED</th>\n",
       "      <th>EDUC_BINNED</th>\n",
       "      <th>FINANCIAL</th>\n",
       "      <th>INCOME_BINNED</th>\n",
       "      <th>RETIRED</th>\n",
       "      <th>Purchased</th>\n",
       "    </tr>\n",
       "  </thead>\n",
       "  <tbody>\n",
       "    <tr>\n",
       "      <th>count</th>\n",
       "      <td>3533.0</td>\n",
       "      <td>3533</td>\n",
       "      <td>3533</td>\n",
       "      <td>3533</td>\n",
       "      <td>3533.0</td>\n",
       "      <td>3533.0</td>\n",
       "      <td>3533.0</td>\n",
       "      <td>3533.0</td>\n",
       "      <td>3533.0</td>\n",
       "      <td>3533.0</td>\n",
       "      <td>...</td>\n",
       "      <td>3533.0</td>\n",
       "      <td>3533.0</td>\n",
       "      <td>3533.0</td>\n",
       "      <td>3533.0</td>\n",
       "      <td>3533.0</td>\n",
       "      <td>3533.0</td>\n",
       "      <td>3533.0</td>\n",
       "      <td>3533.0</td>\n",
       "      <td>3533.0</td>\n",
       "      <td>3533</td>\n",
       "    </tr>\n",
       "    <tr>\n",
       "      <th>unique</th>\n",
       "      <td>3529.0</td>\n",
       "      <td>3</td>\n",
       "      <td>5</td>\n",
       "      <td>4</td>\n",
       "      <td>14.0</td>\n",
       "      <td>14.0</td>\n",
       "      <td>6.0</td>\n",
       "      <td>6.0</td>\n",
       "      <td>6.0</td>\n",
       "      <td>6.0</td>\n",
       "      <td>...</td>\n",
       "      <td>6.0</td>\n",
       "      <td>2.0</td>\n",
       "      <td>2.0</td>\n",
       "      <td>2.0</td>\n",
       "      <td>4.0</td>\n",
       "      <td>5.0</td>\n",
       "      <td>5.0</td>\n",
       "      <td>6.0</td>\n",
       "      <td>2.0</td>\n",
       "      <td>2</td>\n",
       "    </tr>\n",
       "    <tr>\n",
       "      <th>top</th>\n",
       "      <td>0.0</td>\n",
       "      <td>3</td>\n",
       "      <td>2</td>\n",
       "      <td>4</td>\n",
       "      <td>5.0</td>\n",
       "      <td>5.0</td>\n",
       "      <td>4.0</td>\n",
       "      <td>4.0</td>\n",
       "      <td>4.0</td>\n",
       "      <td>5.0</td>\n",
       "      <td>...</td>\n",
       "      <td>3.0</td>\n",
       "      <td>0.0</td>\n",
       "      <td>0.0</td>\n",
       "      <td>0.0</td>\n",
       "      <td>4.0</td>\n",
       "      <td>2.0</td>\n",
       "      <td>1.0</td>\n",
       "      <td>4.0</td>\n",
       "      <td>0.0</td>\n",
       "      <td>0</td>\n",
       "    </tr>\n",
       "    <tr>\n",
       "      <th>freq</th>\n",
       "      <td>5.0</td>\n",
       "      <td>1604</td>\n",
       "      <td>1529</td>\n",
       "      <td>1701</td>\n",
       "      <td>754.0</td>\n",
       "      <td>553.0</td>\n",
       "      <td>1244.0</td>\n",
       "      <td>1243.0</td>\n",
       "      <td>1563.0</td>\n",
       "      <td>1349.0</td>\n",
       "      <td>...</td>\n",
       "      <td>1114.0</td>\n",
       "      <td>1940.0</td>\n",
       "      <td>2541.0</td>\n",
       "      <td>1923.0</td>\n",
       "      <td>966.0</td>\n",
       "      <td>1185.0</td>\n",
       "      <td>1733.0</td>\n",
       "      <td>743.0</td>\n",
       "      <td>2333.0</td>\n",
       "      <td>1929</td>\n",
       "    </tr>\n",
       "  </tbody>\n",
       "</table>\n",
       "<p>4 rows × 49 columns</p>\n",
       "</div>"
      ],
      "text/plain": [
       "        CASE_ID  GPS_NAC_ADOPTER  SURVEY_SOURCE  STATE  WINTER_NOPV_BINNED  \\\n",
       "count    3533.0             3533           3533   3533              3533.0   \n",
       "unique   3529.0                3              5      4                14.0   \n",
       "top         0.0                3              2      4                 5.0   \n",
       "freq        5.0             1604           1529   1701               754.0   \n",
       "\n",
       "        SUMMER_NOPV_BINNED     PN1     PN2     PN3      E2    ...      STANCE  \\\n",
       "count               3533.0  3533.0  3533.0  3533.0  3533.0    ...      3533.0   \n",
       "unique                14.0     6.0     6.0     6.0     6.0    ...         6.0   \n",
       "top                    5.0     4.0     4.0     4.0     5.0    ...         3.0   \n",
       "freq                 553.0  1244.0  1243.0  1563.0  1349.0    ...      1114.0   \n",
       "\n",
       "        PEOPLE_TOT_3PLUS  HAVE_KIDS  GENDER  AGE_BINNED  EDUC_BINNED  \\\n",
       "count             3533.0     3533.0  3533.0      3533.0       3533.0   \n",
       "unique               2.0        2.0     2.0         4.0          5.0   \n",
       "top                  0.0        0.0     0.0         4.0          2.0   \n",
       "freq              1940.0     2541.0  1923.0       966.0       1185.0   \n",
       "\n",
       "        FINANCIAL  INCOME_BINNED  RETIRED  Purchased  \n",
       "count      3533.0         3533.0   3533.0       3533  \n",
       "unique        5.0            6.0      2.0          2  \n",
       "top           1.0            4.0      0.0          0  \n",
       "freq       1733.0          743.0   2333.0       1929  \n",
       "\n",
       "[4 rows x 49 columns]"
      ]
     },
     "execution_count": 70,
     "metadata": {},
     "output_type": "execute_result"
    }
   ],
   "source": [
    "#dataset of combined data, converted to categorical dtype-not used currently...\n",
    "combined_cat = combined[combined.columns].astype('category')\n",
    "combined_cat.set_index('CASE_ID')\n",
    "combined_cat['CASE_ID'].rename('ID')\n",
    "combined_cat.describe()"
   ]
  },
  {
   "cell_type": "code",
   "execution_count": 71,
   "metadata": {},
   "outputs": [],
   "source": [
    "#scatter plot--not useful\n",
    "#plt.rcParams['figure.figsize'] = (12,12)\n",
    "#sns.scatterplot(x='INCOME_BINNED', y='SUMMER_NOPV_BINNED', data=combined, hue='Purchased')\n",
    "#scatter plots will not work with this categorical data, as it plots a point at every intersection, making for a useless plot"
   ]
  },
  {
   "cell_type": "code",
   "execution_count": 72,
   "metadata": {},
   "outputs": [
    {
     "data": {
      "text/plain": [
       "<matplotlib.axes._subplots.AxesSubplot at 0x231eb7b9780>"
      ]
     },
     "execution_count": 72,
     "metadata": {},
     "output_type": "execute_result"
    },
    {
     "data": {
      "image/png": "[encoded data removed]",
      "text/plain": [
       "<Figure size 864x864 with 2 Axes>"
      ]
     },
     "metadata": {
      "needs_background": "light"
     },
     "output_type": "display_data"
    }
   ],
   "source": [
    "#plot a heatmap to see what features have correlations to one another\n",
    "plt.rcParams['figure.figsize'] = (12,12)\n",
    "sns.heatmap(combined.corr(), square=True, cmap='RdYlGn')\n",
    "\n",
    "#why is the heatmap missing the target feature 'Purchased'?"
   ]
  },
  {
   "cell_type": "code",
   "execution_count": 73,
   "metadata": {},
   "outputs": [],
   "source": [
    "from sklearn.model_selection import train_test_split\n",
    "#make a list of all valid predictors (all columns minus the first 4, and the target 'Purchased' feature)\n",
    "cols = list(combined)\n",
    "cols = cols[4:-1]\n",
    "#set X and y from 'combined' dataset\n",
    "X = combined[cols]\n",
    "#X = X.values.reshape(-1,1)\n",
    "y = combined.Purchased\n",
    "# Split the data into a training and test set.\n",
    "X_train, X_test, y_train, y_test = train_test_split(X,y,random_state=5)"
   ]
  },
  {
   "cell_type": "markdown",
   "metadata": {},
   "source": [
    "#### Logistic Regression"
   ]
  },
  {
   "cell_type": "code",
   "execution_count": 100,
   "metadata": {},
   "outputs": [
    {
     "name": "stdout",
     "output_type": "stream",
     "text": [
      "0.8042986425339367\n"
     ]
    }
   ],
   "source": [
    "from sklearn.linear_model import LogisticRegression\n",
    "from sklearn.metrics import accuracy_score, confusion_matrix, classification_report\n",
    "\n",
    "#create regressor model\n",
    "logreg = LogisticRegression(C=3.73)#why are different values of C not changing the accuracy_score???\n",
    "# Fit the model on the trainng data.\n",
    "logreg.fit(X_train, y_train)\n",
    "y_pred = logreg.predict(X_test)\n",
    "# Print the accuracy from the testing data.\n",
    "print(accuracy_score(y_test, y_pred))"
   ]
  },
  {
   "cell_type": "code",
   "execution_count": 75,
   "metadata": {},
   "outputs": [
    {
     "name": "stdout",
     "output_type": "stream",
     "text": [
      "Tuned Logistic Regression Parameters: {'C': 3.727593720314938}\n",
      "Best score is 0.7814888196999717\n"
     ]
    }
   ],
   "source": [
    "#GridSearch to identify best hyperparameter C and best score\n",
    "from sklearn.model_selection import GridSearchCV\n",
    "\n",
    "# Setup the hyperparameter grid\n",
    "c_space = np.logspace(-5, 8, 15)\n",
    "param_grid = {'C': c_space}\n",
    "\n",
    "# Instantiate a logistic regression classifier: logreg\n",
    "logreg = LogisticRegression()\n",
    "\n",
    "# Instantiate the GridSearchCV object: logreg_cv\n",
    "logreg_cv = GridSearchCV(logreg, param_grid, cv=5)\n",
    "\n",
    "# Fit it to the data\n",
    "logreg_cv.fit(X,y)\n",
    "\n",
    "# Print the tuned parameters and score\n",
    "print(\"Tuned Logistic Regression Parameters: {}\".format(logreg_cv.best_params_)) \n",
    "print(\"Best score is {}\".format(logreg_cv.best_score_))"
   ]
  },
  {
   "cell_type": "code",
   "execution_count": 76,
   "metadata": {},
   "outputs": [
    {
     "name": "stdout",
     "output_type": "stream",
     "text": [
      "[[402  84]\n",
      " [ 88 310]]\n",
      "             precision    recall  f1-score   support\n",
      "\n",
      "          0       0.82      0.83      0.82       486\n",
      "          1       0.79      0.78      0.78       398\n",
      "\n",
      "avg / total       0.81      0.81      0.81       884\n",
      "\n"
     ]
    }
   ],
   "source": [
    "print(confusion_matrix(y_test, y_pred))\n",
    "print(classification_report(y_test, y_pred))"
   ]
  },
  {
   "cell_type": "code",
   "execution_count": 82,
   "metadata": {},
   "outputs": [
    {
     "data": {
      "text/plain": [
       "3533"
      ]
     },
     "execution_count": 82,
     "metadata": {},
     "output_type": "execute_result"
    }
   ],
   "source": [
    "len(combined) #why in my confusion matrix I am not getting this many records???"
   ]
  },
  {
   "cell_type": "code",
   "execution_count": 77,
   "metadata": {},
   "outputs": [],
   "source": [
    "#I had to convert y_test to an array of ints, because of an error in ROC_Curve function\n",
    "y_test_conv = np.array(y_test.values)\n",
    "y_test_conv = y_test_conv.astype(np.int)"
   ]
  },
  {
   "cell_type": "code",
   "execution_count": 78,
   "metadata": {},
   "outputs": [
    {
     "data": {
      "image/png": "[encoded data removed]",
      "text/plain": [
       "<Figure size 576x576 with 1 Axes>"
      ]
     },
     "metadata": {
      "needs_background": "light"
     },
     "output_type": "display_data"
    }
   ],
   "source": [
    "#Receiver Operating Characteristic (ROC) curve for the Logistic Regression\n",
    "from sklearn.metrics import roc_curve \n",
    "\n",
    "plt.rcParams['figure.figsize'] = (8,8)\n",
    "\n",
    "# Fit the model on the trainng data.\n",
    "logreg.fit(X_train, y_train)\n",
    "#compute the predicted probabilities\n",
    "y_pred_prob = logreg.predict_proba(X_test)[:,1]\n",
    "#generate ROC curve values\n",
    "fpr, tpr, thresholds = roc_curve(y_test_conv, y_pred_prob)\n",
    "#plot ROC\n",
    "plt.plot([0,1], [0,1], 'k--')\n",
    "plt.plot(fpr,tpr)\n",
    "plt.xlabel('False Positive Rate')\n",
    "plt.ylabel('True Positive Rate')\n",
    "plt.title('ROC Curve')\n",
    "plt.show()\n"
   ]
  },
  {
   "cell_type": "code",
   "execution_count": 79,
   "metadata": {},
   "outputs": [
    {
     "name": "stdout",
     "output_type": "stream",
     "text": [
      "AUC: 0.8684006452013152\n",
      "AUC scores computed using 5-fold cross-validation: [0.76811224 0.86262887 0.8556701  0.88216103 0.89729871]\n"
     ]
    }
   ],
   "source": [
    "#calculating Area Under the Curve (AUC) for another scoring metric\n",
    "from sklearn.metrics import roc_auc_score\n",
    "from sklearn.model_selection import cross_val_score\n",
    "\n",
    "# Compute predicted probabilities: y_pred_prob\n",
    "y_pred_prob = logreg.predict_proba(X_test)[:,1]\n",
    "\n",
    "# Compute and print AUC score\n",
    "print(\"AUC: {}\".format(roc_auc_score(y_test_conv, y_pred_prob)))\n",
    "#!!!!!!!!!!!!!!!!!!!!!!!!!!!!!!!!!!!!!!!!!!!!!!!!!!!!!\n",
    "# Compute cross-validated AUC scores: cv_auc\n",
    "cv_auc = cross_val_score(logreg, X_test, y_test_conv,cv=5, scoring='roc_auc')#!!!!!tried to use X,y, but got not a binary error again!!!???\n",
    "#!!!!!!!!!!!!!!!!!!!!!!!!!!!!!!!!!!!!!!!!!!!!!!!!!!!!\n",
    "# Print list of AUC scores\n",
    "print(\"AUC scores computed using 5-fold cross-validation: {}\".format(cv_auc))"
   ]
  },
  {
   "cell_type": "code",
   "execution_count": 94,
   "metadata": {},
   "outputs": [],
   "source": [
    "#Refine the list of features to those deemed 'important' (from the p-values ran before) and re-run all of these algorithms\n",
    "#see if cleaning up the 'noise' of unimportant features improves the accuracy scores\n",
    "\n",
    "from sklearn.model_selection import train_test_split\n",
    "#make a list of all predictors with greater than e-30 p-value:\n",
    "cols_imp = ['WINTER_NOPV_BINNED', 'SUMMER_NOPV_BINNED', 'PN1', 'BB1', 'BB3', 'BTE8', 'BE13', 'BE10', 'Co3', 'CIJM1', 'CIJM2', 'CNS1', 'CNS2', 'CNS4', 'GENDER', 'AGE_BINNED']\n",
    "\n",
    "#set X and y from 'combined' dataset\n",
    "X_imp = combined[cols_imp]\n",
    "#X = X.values.reshape(-1,1)\n",
    "y_imp = combined.Purchased\n",
    "# Split the data into a training and test set.\n",
    "X_train_imp, X_test_imp, y_train_imp, y_test_imp = train_test_split(X_imp,y_imp,random_state=5)\n",
    "\n",
    "#now re-run all algorithms..."
   ]
  },
  {
   "cell_type": "code",
   "execution_count": 99,
   "metadata": {},
   "outputs": [
    {
     "name": "stdout",
     "output_type": "stream",
     "text": [
      "0.7975113122171946\n"
     ]
    }
   ],
   "source": [
    "#create regressor model\n",
    "logreg = LogisticRegression(C=3.73)\n",
    "# Fit the model on the trainng data.\n",
    "logreg.fit(X_train_imp, y_train_imp)\n",
    "y_pred_imp = logreg.predict(X_test_imp)\n",
    "# Print the accuracy from the testing data.\n",
    "print(accuracy_score(y_test_imp, y_pred_imp))"
   ]
  },
  {
   "cell_type": "code",
   "execution_count": 103,
   "metadata": {},
   "outputs": [
    {
     "name": "stdout",
     "output_type": "stream",
     "text": [
      "Tuned Logistic Regression Parameters: {'C': 0.006105402296585327}\n",
      "Best score is 0.7840694601736504\n"
     ]
    }
   ],
   "source": [
    "#GridSearch to identify best hyperparameter C and best score\n",
    "from sklearn.model_selection import GridSearchCV\n",
    "\n",
    "# Setup the hyperparameter grid\n",
    "c_space = np.logspace(-5, 8, 15)\n",
    "param_grid = {'C': c_space}\n",
    "\n",
    "# Instantiate a logistic regression classifier: logreg\n",
    "logreg = LogisticRegression()\n",
    "\n",
    "# Instantiate the GridSearchCV object: logreg_cv\n",
    "logreg_cv = GridSearchCV(logreg, param_grid, cv=5)\n",
    "\n",
    "# Fit it to the data\n",
    "logreg_cv.fit(X_train,y_train)\n",
    "\n",
    "# Print the tuned parameters and score\n",
    "print(\"Tuned Logistic Regression Parameters: {}\".format(logreg_cv.best_params_)) \n",
    "print(\"Best score is {}\".format(logreg_cv.best_score_))"
   ]
  },
  {
   "cell_type": "code",
   "execution_count": 104,
   "metadata": {},
   "outputs": [
    {
     "name": "stdout",
     "output_type": "stream",
     "text": [
      "[[399  87]\n",
      " [ 92 306]]\n",
      "             precision    recall  f1-score   support\n",
      "\n",
      "          0       0.81      0.82      0.82       486\n",
      "          1       0.78      0.77      0.77       398\n",
      "\n",
      "avg / total       0.80      0.80      0.80       884\n",
      "\n"
     ]
    }
   ],
   "source": [
    "print(confusion_matrix(y_test_imp, y_pred_imp))\n",
    "print(classification_report(y_test_imp, y_pred_imp))"
   ]
  },
  {
   "cell_type": "code",
   "execution_count": null,
   "metadata": {},
   "outputs": [],
   "source": [
    "#why are these scores not better with all features?  I would think removing the 'less important' features would have increased the scores???"
   ]
  },
  {
   "cell_type": "markdown",
   "metadata": {},
   "source": [
    "#### K Nearest Neighbors"
   ]
  },
  {
   "cell_type": "code",
   "execution_count": null,
   "metadata": {},
   "outputs": [],
   "source": [
    "from sklearn.metrics import classification_report, confusion_matrix\n",
    "from sklearn.neighbors import KNeighborsClassifier\n",
    "knn = KNeighborsClassifier(n_neighbors=47)\n",
    "y = combined.Purchased\n",
    "#predict k-NN on the test data, and print the accuracy score\n",
    "#fit to model\n",
    "knn.fit(X_train, y_train)\n",
    "#predict on the test data\n",
    "y_pred= knn.predict(X_test)\n",
    "#print accuracy score\n",
    "print(\"k-NN score \" + ': ' + str(knn.score(X_test, y_test)))"
   ]
  },
  {
   "cell_type": "code",
   "execution_count": null,
   "metadata": {},
   "outputs": [],
   "source": [
    "#run cross validation on the KNN\n",
    "from sklearn.model_selection import cross_val_score\n",
    "# creating odd list of K for KNN\n",
    "myList = list(range(1,50))\n",
    "\n",
    "# subsetting just the odd ones\n",
    "neighbors = list(filter(lambda x: x % 2 != 0, myList))\n",
    "\n",
    "# empty list that will hold cv scores\n",
    "cv_scores = []\n",
    "\n",
    "# perform 10-fold cross validation\n",
    "for k in neighbors:\n",
    "    knn = KNeighborsClassifier(n_neighbors=k)\n",
    "    scores = cross_val_score(knn, X_train, y_train, cv=10, scoring='accuracy')\n",
    "    cv_scores.append(scores.mean())"
   ]
  },
  {
   "cell_type": "code",
   "execution_count": null,
   "metadata": {},
   "outputs": [],
   "source": [
    "#plot scores from all numbers of neighbors\n",
    "# changing to misclassification error\n",
    "MSE = [1 - x for x in cv_scores]\n",
    "\n",
    "# determining best k\n",
    "optimal_k = neighbors[MSE.index(min(MSE))]\n",
    "print (\"The optimal number of neighbors is %d\"% optimal_k)\n",
    "\n",
    "# plot misclassification error vs k\n",
    "plt.plot(neighbors, MSE)\n",
    "plt.xlabel('Number of Neighbors K')\n",
    "plt.ylabel('Misclassification Error')\n",
    "plt.show()"
   ]
  },
  {
   "cell_type": "code",
   "execution_count": null,
   "metadata": {},
   "outputs": [],
   "source": [
    "print(confusion_matrix(y_test, y_pred))"
   ]
  },
  {
   "cell_type": "code",
   "execution_count": null,
   "metadata": {},
   "outputs": [],
   "source": [
    "print(classification_report(y_test, y_pred))"
   ]
  },
  {
   "cell_type": "code",
   "execution_count": null,
   "metadata": {},
   "outputs": [],
   "source": [
    "from sklearn.model_selection import GridSearchCV\n",
    "param_grid = {'n_neighbors':np.arange(1,50)}\n",
    "knn_cv = GridSearchCV(knn,param_grid,cv=5)\n",
    "knn_cv.fit(X,y)\n",
    "print(knn_cv.best_params_)\n",
    "print(knn_cv.best_score_)"
   ]
  },
  {
   "cell_type": "code",
   "execution_count": null,
   "metadata": {},
   "outputs": [],
   "source": [
    "#further studies:\n",
    "#variable importance in Random Forest, \n",
    "#try to feature select, only 'important' featuers, remove noise\n",
    "#gradient boosting, xgboost?\n",
    "\n",
    "#play with hyperparameters, know what they are doing\n",
    "#clean up notebook (forgot to ask if need multiple separate notebooks)\n"
   ]
  },
  {
   "cell_type": "markdown",
   "metadata": {},
   "source": [
    "#### Decision Tree"
   ]
  },
  {
   "cell_type": "code",
   "execution_count": null,
   "metadata": {},
   "outputs": [],
   "source": [
    "# Import necessary modules\n",
    "from scipy.stats import randint\n",
    "from sklearn.tree import DecisionTreeClassifier\n",
    "from sklearn.model_selection import RandomizedSearchCV\n",
    "\n",
    "# Setup the parameters and distributions to sample from: param_dist\n",
    "param_dist = {\"max_depth\": [3, None],\n",
    "              \"max_features\": randint(0, 50), #this is causing an error, must be in 0,n_features????\n",
    "              \"min_samples_leaf\": randint(1, 9),\n",
    "              \"criterion\": [\"gini\", \"entropy\"]}\n",
    "\n",
    "# Instantiate a Decision Tree classifier: tree\n",
    "tree = DecisionTreeClassifier()\n",
    "# Instantiate the RandomizedSearchCV object: tree_cv\n",
    "tree_cv = RandomizedSearchCV(tree, param_dist, cv=5)\n",
    "# Fit it to the data\n",
    "tree_cv.fit(X,y)\n",
    "# Print the tuned parameters and score\n",
    "print(\"Tuned Decision Tree Parameters: {}\".format(tree_cv.best_params_))\n",
    "print(\"Best score is {}\".format(tree_cv.best_score_))"
   ]
  },
  {
   "cell_type": "markdown",
   "metadata": {},
   "source": [
    "#### Random Forest"
   ]
  },
  {
   "cell_type": "code",
   "execution_count": null,
   "metadata": {},
   "outputs": [],
   "source": []
  },
  {
   "cell_type": "markdown",
   "metadata": {},
   "source": [
    "#### Support Vector Machine (SVM)"
   ]
  },
  {
   "cell_type": "code",
   "execution_count": null,
   "metadata": {},
   "outputs": [],
   "source": []
  },
  {
   "cell_type": "markdown",
   "metadata": {},
   "source": [
    "#### Gradient Boosting"
   ]
  },
  {
   "cell_type": "code",
   "execution_count": null,
   "metadata": {},
   "outputs": [],
   "source": []
  },
  {
   "cell_type": "code",
   "execution_count": null,
   "metadata": {},
   "outputs": [],
   "source": [
    "combined_cat.columns"
   ]
  },
  {
   "cell_type": "code",
   "execution_count": null,
   "metadata": {},
   "outputs": [],
   "source": [
    "#next steps:\n",
    "\n",
    "#refactor/clean up notebook, look for what can be used in presentation (slide deck, outside of notebook)\n",
    "#read capstone rubric, check off or make sure components are in project\n",
    "#should we do something with 'combined_cat' where features are converted to categorical data?\n"
   ]
  },
  {
   "cell_type": "code",
   "execution_count": null,
   "metadata": {},
   "outputs": [],
   "source": []
  }
 ],
 "metadata": {
  "kernelspec": {
   "display_name": "Python 3",
   "language": "python",
   "name": "python3"
  },
  "language_info": {
   "codemirror_mode": {
    "name": "ipython",
    "version": 3
   },
   "file_extension": ".py",
   "mimetype": "text/x-python",
   "name": "python",
   "nbconvert_exporter": "python",
   "pygments_lexer": "ipython3",
   "version": "3.7.0"
  }
 },
 "nbformat": 4,
 "nbformat_minor": 2
}
