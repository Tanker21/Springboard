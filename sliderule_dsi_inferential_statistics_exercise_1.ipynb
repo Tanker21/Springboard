{
 "cells": [
  {
   "cell_type": "markdown",
   "metadata": {},
   "source": [
    "# What is the True Normal Human Body Temperature? \n",
    "\n",
    "#### Background\n",
    "\n",
    "The mean normal body temperature was held to be 37$^{\\circ}$C or 98.6$^{\\circ}$F for more than 120 years since it was first conceptualized and reported by Carl Wunderlich in a famous 1868 book. But, is this value statistically correct?"
   ]
  },
  {
   "cell_type": "markdown",
   "metadata": {},
   "source": [
    "<h3>Exercises</h3>\n",
    "\n",
    "<p>In this exercise, you will analyze a dataset of human body temperatures and employ the concepts of hypothesis testing, confidence intervals, and statistical significance.</p>\n",
    "\n",
    "<p>Answer the following questions <b>in this notebook below and submit to your Github account</b>.</p> \n",
    "\n",
    "<ol>\n",
    "<li>  Is the distribution of body temperatures normal? \n",
    "    <ul>\n",
    "    <li> Although this is not a requirement for the Central Limit Theorem to hold (read the introduction on Wikipedia's page about the CLT carefully: https://en.wikipedia.org/wiki/Central_limit_theorem), it gives us some peace of mind that the population may also be normally distributed if we assume that this sample is representative of the population.\n",
    "    <li> Think about the way you're going to check for the normality of the distribution. Graphical methods are usually used first, but there are also other ways: https://en.wikipedia.org/wiki/Normality_test\n",
    "    </ul>\n",
    "<li>  Is the sample size large? Are the observations independent?\n",
    "    <ul>\n",
    "    <li> Remember that this is a condition for the Central Limit Theorem, and hence the statistical tests we are using, to apply.\n",
    "    </ul>\n",
    "<li>  Is the true population mean really 98.6 degrees F?\n",
    "    <ul>\n",
    "    <li> First, try a bootstrap hypothesis test.\n",
    "    <li> Now, let's try frequentist statistical testing. Would you use a one-sample or two-sample test? Why?\n",
    "    <li> In this situation, is it appropriate to use the $t$ or $z$ statistic? \n",
    "    <li> Now try using the other test. How is the result be different? Why?\n",
    "    </ul>\n",
    "<li>  Draw a small sample of size 10 from the data and repeat both frequentist tests. \n",
    "    <ul>\n",
    "    <li> Which one is the correct one to use? \n",
    "    <li> What do you notice? What does this tell you about the difference in application of the $t$ and $z$ statistic?\n",
    "    </ul>\n",
    "<li>  At what temperature should we consider someone's temperature to be \"abnormal\"?\n",
    "    <ul>\n",
    "    <li> As in the previous example, try calculating everything using the boostrap approach, as well as the frequentist approach.\n",
    "    <li> Start by computing the margin of error and confidence interval. When calculating the confidence interval, keep in mind that you should use the appropriate formula for one draw, and not N draws.\n",
    "    </ul>\n",
    "<li>  Is there a significant difference between males and females in normal temperature?\n",
    "    <ul>\n",
    "    <li> What testing approach did you use and why?\n",
    "    <li> Write a story with your conclusion in the context of the original problem.\n",
    "    </ul>\n",
    "</ol>\n",
    "\n",
    "You can include written notes in notebook cells using Markdown: \n",
    "   - In the control panel at the top, choose Cell > Cell Type > Markdown\n",
    "   - Markdown syntax: http://nestacms.com/docs/creating-content/markdown-cheat-sheet\n",
    "\n",
    "#### Resources\n",
    "\n",
    "+ Information and data sources: http://www.amstat.org/publications/jse/datasets/normtemp.txt, http://www.amstat.org/publications/jse/jse_data_archive.htm\n",
    "+ Markdown syntax: http://nestacms.com/docs/creating-content/markdown-cheat-sheet\n",
    "\n",
    "****"
   ]
  },
  {
   "cell_type": "markdown",
   "metadata": {},
   "source": [
    "## **Import packages, data, and Initial EDA**"
   ]
  },
  {
   "cell_type": "code",
   "execution_count": 1,
   "metadata": {},
   "outputs": [],
   "source": [
    "#import packages\n",
    "import matplotlib.pyplot as plt\n",
    "import seaborn as sns\n",
    "import numpy as np\n",
    "import pandas as pd\n",
    "from scipy import stats\n",
    "from scipy.stats.mstats import zscore\n",
    "import statsmodels.api as sm\n",
    "from statsmodels.stats.weightstats import ztest\n",
    "%matplotlib inline"
   ]
  },
  {
   "cell_type": "code",
   "execution_count": 2,
   "metadata": {},
   "outputs": [],
   "source": [
    "#import data\n",
    "df = pd.read_csv('data/human_body_temperature.csv')"
   ]
  },
  {
   "cell_type": "markdown",
   "metadata": {},
   "source": [
    "## EDA-investigate the dataset:"
   ]
  },
  {
   "cell_type": "code",
   "execution_count": 3,
   "metadata": {
    "collapsed": true
   },
   "outputs": [
    {
     "data": {
      "text/html": [
       "<div>\n",
       "<style scoped>\n",
       "    .dataframe tbody tr th:only-of-type {\n",
       "        vertical-align: middle;\n",
       "    }\n",
       "\n",
       "    .dataframe tbody tr th {\n",
       "        vertical-align: top;\n",
       "    }\n",
       "\n",
       "    .dataframe thead th {\n",
       "        text-align: right;\n",
       "    }\n",
       "</style>\n",
       "<table border=\"1\" class=\"dataframe\">\n",
       "  <thead>\n",
       "    <tr style=\"text-align: right;\">\n",
       "      <th></th>\n",
       "      <th>temperature</th>\n",
       "      <th>gender</th>\n",
       "      <th>heart_rate</th>\n",
       "    </tr>\n",
       "  </thead>\n",
       "  <tbody>\n",
       "    <tr>\n",
       "      <th>0</th>\n",
       "      <td>99.3</td>\n",
       "      <td>F</td>\n",
       "      <td>68.0</td>\n",
       "    </tr>\n",
       "    <tr>\n",
       "      <th>1</th>\n",
       "      <td>98.4</td>\n",
       "      <td>F</td>\n",
       "      <td>81.0</td>\n",
       "    </tr>\n",
       "    <tr>\n",
       "      <th>2</th>\n",
       "      <td>97.8</td>\n",
       "      <td>M</td>\n",
       "      <td>73.0</td>\n",
       "    </tr>\n",
       "    <tr>\n",
       "      <th>3</th>\n",
       "      <td>99.2</td>\n",
       "      <td>F</td>\n",
       "      <td>66.0</td>\n",
       "    </tr>\n",
       "    <tr>\n",
       "      <th>4</th>\n",
       "      <td>98.0</td>\n",
       "      <td>F</td>\n",
       "      <td>73.0</td>\n",
       "    </tr>\n",
       "  </tbody>\n",
       "</table>\n",
       "</div>"
      ],
      "text/plain": [
       "   temperature gender  heart_rate\n",
       "0         99.3      F        68.0\n",
       "1         98.4      F        81.0\n",
       "2         97.8      M        73.0\n",
       "3         99.2      F        66.0\n",
       "4         98.0      F        73.0"
      ]
     },
     "execution_count": 3,
     "metadata": {},
     "output_type": "execute_result"
    }
   ],
   "source": [
    "df.head()"
   ]
  },
  {
   "cell_type": "markdown",
   "metadata": {},
   "source": [
    "There are only three features, two are continuous, one categorical."
   ]
  },
  {
   "cell_type": "code",
   "execution_count": 4,
   "metadata": {},
   "outputs": [
    {
     "data": {
      "text/html": [
       "<div>\n",
       "<style scoped>\n",
       "    .dataframe tbody tr th:only-of-type {\n",
       "        vertical-align: middle;\n",
       "    }\n",
       "\n",
       "    .dataframe tbody tr th {\n",
       "        vertical-align: top;\n",
       "    }\n",
       "\n",
       "    .dataframe thead th {\n",
       "        text-align: right;\n",
       "    }\n",
       "</style>\n",
       "<table border=\"1\" class=\"dataframe\">\n",
       "  <thead>\n",
       "    <tr style=\"text-align: right;\">\n",
       "      <th></th>\n",
       "      <th>temperature</th>\n",
       "      <th>heart_rate</th>\n",
       "    </tr>\n",
       "  </thead>\n",
       "  <tbody>\n",
       "    <tr>\n",
       "      <th>count</th>\n",
       "      <td>130.000000</td>\n",
       "      <td>130.000000</td>\n",
       "    </tr>\n",
       "    <tr>\n",
       "      <th>mean</th>\n",
       "      <td>98.249231</td>\n",
       "      <td>73.761538</td>\n",
       "    </tr>\n",
       "    <tr>\n",
       "      <th>std</th>\n",
       "      <td>0.733183</td>\n",
       "      <td>7.062077</td>\n",
       "    </tr>\n",
       "    <tr>\n",
       "      <th>min</th>\n",
       "      <td>96.300000</td>\n",
       "      <td>57.000000</td>\n",
       "    </tr>\n",
       "    <tr>\n",
       "      <th>25%</th>\n",
       "      <td>97.800000</td>\n",
       "      <td>69.000000</td>\n",
       "    </tr>\n",
       "    <tr>\n",
       "      <th>50%</th>\n",
       "      <td>98.300000</td>\n",
       "      <td>74.000000</td>\n",
       "    </tr>\n",
       "    <tr>\n",
       "      <th>75%</th>\n",
       "      <td>98.700000</td>\n",
       "      <td>79.000000</td>\n",
       "    </tr>\n",
       "    <tr>\n",
       "      <th>max</th>\n",
       "      <td>100.800000</td>\n",
       "      <td>89.000000</td>\n",
       "    </tr>\n",
       "  </tbody>\n",
       "</table>\n",
       "</div>"
      ],
      "text/plain": [
       "       temperature  heart_rate\n",
       "count   130.000000  130.000000\n",
       "mean     98.249231   73.761538\n",
       "std       0.733183    7.062077\n",
       "min      96.300000   57.000000\n",
       "25%      97.800000   69.000000\n",
       "50%      98.300000   74.000000\n",
       "75%      98.700000   79.000000\n",
       "max     100.800000   89.000000"
      ]
     },
     "execution_count": 4,
     "metadata": {},
     "output_type": "execute_result"
    }
   ],
   "source": [
    "df.describe()"
   ]
  },
  {
   "cell_type": "markdown",
   "metadata": {},
   "source": [
    "Data ranges: **96.3-100.8** temp, **57.0-89.0** heart rate\n",
    "Mean for temp is **98.249**"
   ]
  },
  {
   "cell_type": "code",
   "execution_count": 5,
   "metadata": {},
   "outputs": [
    {
     "name": "stdout",
     "output_type": "stream",
     "text": [
      "<class 'pandas.core.frame.DataFrame'>\n",
      "RangeIndex: 130 entries, 0 to 129\n",
      "Data columns (total 3 columns):\n",
      "temperature    130 non-null float64\n",
      "gender         130 non-null object\n",
      "heart_rate     130 non-null float64\n",
      "dtypes: float64(2), object(1)\n",
      "memory usage: 3.1+ KB\n"
     ]
    }
   ],
   "source": [
    "df.info()"
   ]
  },
  {
   "cell_type": "markdown",
   "metadata": {},
   "source": [
    "There are **130** records, and no missing data.\n",
    "## On to the questions..."
   ]
  },
  {
   "cell_type": "markdown",
   "metadata": {},
   "source": [
    "### **Question 1: Is the distribution of body temperatures normal?**"
   ]
  },
  {
   "cell_type": "markdown",
   "metadata": {},
   "source": [
    "To begin, let's state the Null and Alternate Hypothesis:\n",
    "<br>**Null Hypothesis:** Body temperatures are normally distributed\n",
    "<br>**Alternate Hypothesis:** Body temperature is NOT normally distributed\n",
    "<br>Let's make a histagram of the temperature data to investigate this:"
   ]
  },
  {
   "cell_type": "code",
   "execution_count": 6,
   "metadata": {},
   "outputs": [
    {
     "data": {
      "image/png": "[encoded data removed]",
      "text/plain": [
       "<Figure size 432x288 with 1 Axes>"
      ]
     },
     "metadata": {},
     "output_type": "display_data"
    }
   ],
   "source": [
    "n_bins = int(np.sqrt(len(df['temperature'])))\n",
    "_ = plt.hist(df['temperature'], color='teal', edgecolor='black',bins=n_bins)\n",
    "_ = plt.xlabel('Body Temperature ($^\\circ$F)')\n",
    "_ = plt.ylabel('Number of Observations')\n",
    "_ = plt.title(('Distribution of Temperature \\nMean:'+('{:3.6}'.format(str(np.mean(df['temperature']))))+\n",
    "           ' --- Std. Dev:'+('{:1.6}'.format(str(np.mean(df['temperature']))))+\n",
    "          ' --- Mode:'+('{:3.6}'.format(str(df.temperature.sort_values().mode().values[0])))))\n",
    "plt.show()"
   ]
  },
  {
   "cell_type": "markdown",
   "metadata": {},
   "source": [
    "The plot looks somewhat like a normal distribution, but to further investigate if this is a normal distribution, let's use the normaltest method available in scipy.stats.\n",
    "The normaltest of a distribution returns a tuple: the first value is the chi-squared statistic and the second is \n",
    "the p-value. If the p-value is above a certain threshold (let's use 0.05), we can assume that the distribution is \n",
    "a normal distribution."
   ]
  },
  {
   "cell_type": "code",
   "execution_count": 7,
   "metadata": {},
   "outputs": [
    {
     "data": {
      "text/plain": [
       "NormaltestResult(statistic=2.703801433319203, pvalue=0.2587479863488254)"
      ]
     },
     "execution_count": 7,
     "metadata": {},
     "output_type": "execute_result"
    }
   ],
   "source": [
    "stats.normaltest(df['temperature'])"
   ]
  },
  {
   "cell_type": "markdown",
   "metadata": {},
   "source": [
    "The p-value obtained is approximately 0.258, greater than 0.05. This indicates that the null hypothesis cannot be rejected.\n",
    "\n",
    "Another way to test for normality is to calculate an Empirical Cumulative Distribution Function (ECDF) to compare the data\n",
    "to a normally distributed curve."
   ]
  },
  {
   "cell_type": "markdown",
   "metadata": {},
   "source": [
    "Define a function to calculate the ECDF and plot the sample cumulative distribution vs. the theoretical normal:"
   ]
  },
  {
   "cell_type": "code",
   "execution_count": 8,
   "metadata": {},
   "outputs": [],
   "source": [
    "def ecdf(df):\n",
    "    \"\"\"Compute ECDF for a one-dimensional array of measurements.  Return X and Y.\"\"\"\n",
    "\n",
    "    # Number of data points:\n",
    "    n = len(df)\n",
    "\n",
    "    # x-data for the ECDF:\n",
    "    x = np.sort(df)\n",
    "\n",
    "    # y-data for the ECDF:\n",
    "    y = np.arange(1, n+1) / n\n",
    "\n",
    "    return x, y"
   ]
  },
  {
   "cell_type": "markdown",
   "metadata": {},
   "source": [
    "Now calculate the mean and standard deviation from the Temperature data to model and plot a theoretical normal distribution for comparison to our ECDF:"
   ]
  },
  {
   "cell_type": "code",
   "execution_count": 9,
   "metadata": {},
   "outputs": [],
   "source": [
    "#sample mean and std dev\n",
    "mean_temp = np.mean(df['temperature'])\n",
    "std_temp = np.std(df['temperature'])\n",
    "\n",
    "#generate 10,000 samples at a normal distribution using sample mean and std dev\n",
    "temp_samples = np.random.normal(mean_temp, std_temp, size=10000)\n",
    "\n",
    "#generate x,y values of sample and normal distribution\n",
    "x_temp, y_temp = ecdf(df['temperature'])\n",
    "x_theor, y_theor = ecdf(temp_samples)"
   ]
  },
  {
   "cell_type": "code",
   "execution_count": 10,
   "metadata": {},
   "outputs": [
    {
     "data": {
      "image/png": "[encoded data removed]",
      "text/plain": [
       "<Figure size 432x288 with 1 Axes>"
      ]
     },
     "metadata": {},
     "output_type": "display_data"
    }
   ],
   "source": [
    "#Graph the ECDF and Theoretical Normal Distribution data\n",
    "sns.set()\n",
    "_ = plt.plot(x_theor, y_theor)\n",
    "_ = plt.plot(x_temp, y_temp, marker='.', linestyle='none')\n",
    "_ = plt.xlabel('Body Temperature ($^\\circ$F)')\n",
    "_ = plt.ylabel('ECDF')\n",
    "_ = plt.legend(['Theoretical Normal CDF', 'Sample CDF'])\n",
    "plt.margins(0.02)\n",
    "plt.show()"
   ]
  },
  {
   "cell_type": "markdown",
   "metadata": {},
   "source": [
    "The blue solid line represents the empirical cumulative distribution of body temperatures, given the sample mean \n",
    "and sample standard deviation, and modeled as a normal distribution.\n",
    "\n",
    "The orange plotted data represent the ECDF of body temperatures from the sample data drawn from the Tempterature\n",
    "data. The ECDF of the sample data closely alignes with the ECDF Theoretical Normal CDF distribution, indicating the data is normally distributed."
   ]
  },
  {
   "cell_type": "markdown",
   "metadata": {},
   "source": [
    "\n",
    "Using this plot,let's see if our sample set follows the 68% and 95% rule (the percentage of data that lies within 2 and 4 \n",
    "standard deviations around the mean, respectively). "
   ]
  },
  {
   "cell_type": "code",
   "execution_count": 11,
   "metadata": {},
   "outputs": [
    {
     "name": "stdout",
     "output_type": "stream",
     "text": [
      "68% of the observations below a body temperature value of:  98.97958854813578\n",
      "95% of the observations below a body temperature value of:  99.68073201588463\n",
      "[98.6 99.3]\n"
     ]
    }
   ],
   "source": [
    "print('68% of the observations below a body temperature value of: ', mean_temp + std_temp)\n",
    "print('95% of the observations below a body temperature value of: ', mean_temp + (1.96*std_temp))\n",
    "print(np.percentile(df['temperature'], [68,95]))"
   ]
  },
  {
   "cell_type": "markdown",
   "metadata": {},
   "source": [
    "<br>\n",
    "Lastly, let's make a normality quantile plot, another graphical way to look for normal distribution (this can show if the sample data came from a\n",
    "theoretical distribution, such as a normal distribution, if the plotted data follow closely the line,which shows the ideal normal distribution with mean and standard-deviation of the sample.)"
   ]
  },
  {
   "cell_type": "code",
   "execution_count": 12,
   "metadata": {},
   "outputs": [
    {
     "data": {
      "image/png": "[encoded data removed]",
      "text/plain": [
       "<Figure size 432x288 with 1 Axes>"
      ]
     },
     "metadata": {},
     "output_type": "display_data"
    }
   ],
   "source": [
    "#calc zscores of temp\n",
    "zscores = zscore(df['temperature'])\n",
    "\n",
    "#plot normality quantile plot\n",
    "_ = sm.qqplot(zscores, line='45')\n",
    "_ = plt.title('Normality Quantitle Plot')\n",
    "plt.show()"
   ]
  },
  {
   "cell_type": "markdown",
   "metadata": {},
   "source": [
    "### Conclusion:\n",
    "-  The histagram showed roughly a bell curve shape, with the mean close to the apex and samples rapidly dropping off further from the mean\n",
    "-  The SciPy NormalTest method showed a p-value of **0.25** (above our 0.05 threshold)\n",
    "-  The ECDF chart and 68% and 95% rule test results showed close tracking with a normal distribution and data within\n",
    "range of 2 and 4 standard deviations around the mean\n",
    "-  And lastly, the Normality Quantile plot showed the sample data falling on the line of normal distibution\n",
    "\n",
    "<br>With all this data, we can determine with **95%** confidence that our temperature data are **normally \n",
    "distribution**. In other words, we will **NOT** reject the null hypothesis."
   ]
  },
  {
   "cell_type": "markdown",
   "metadata": {},
   "source": [
    "### **Question 2: Is the sample size large? Are the observations independent?**"
   ]
  },
  {
   "cell_type": "code",
   "execution_count": 13,
   "metadata": {},
   "outputs": [
    {
     "data": {
      "text/plain": [
       "130"
      ]
     },
     "execution_count": 13,
     "metadata": {},
     "output_type": "execute_result"
    }
   ],
   "source": [
    "n = len(df)\n",
    "n"
   ]
  },
  {
   "cell_type": "markdown",
   "metadata": {},
   "source": [
    "The  number of samples, at **130**, is greater than the standard 30 samples deemed to be required by the Central Limit Theorem to be considered a \n",
    "large, significant sample size. \n",
    "<br>**Note**: The sample size of **130** represent a very small percentage of the actual population, \n",
    "which could amplify any sampling bias."
   ]
  },
  {
   "cell_type": "markdown",
   "metadata": {},
   "source": [
    "### **Are the observations independent? **\n",
    "Each sample, according to the documentation by Shoemaker (https://ww2.amstat.org/publications/jse/v4n2/datasets.shoemaker.html)\n",
    "indicates that the samples were taken from 130 **different** subjects, which would make each measurement independent of \n",
    "the other measurements taken, thus making these observations **independent**.  \n",
    "\n",
    "**Note**: region, date/time, or a number of other factors could bias this proportionally small data set."
   ]
  },
  {
   "cell_type": "markdown",
   "metadata": {},
   "source": [
    "### **Question 3: Is the true population mean really 98.6 degrees ($^\\circ$F)?**"
   ]
  },
  {
   "cell_type": "markdown",
   "metadata": {},
   "source": [
    "Frequentist statistical testing:\n",
    "-  **Would you use a one-sample or two-sample test? Why?**\n",
    "<br>For this example, we will conduct a one-sample test, since we are comparing a sample mean to the presumed \n",
    "population mean, and we do not know the population standard deviation.  A two-sample test is used when you have\n",
    "two independent sample populations and want to compare whether the average difference between the populations is \n",
    "significant or due to random chance.\n",
    "\n",
    "-  **In this situation, is it appropriate to use the t or z statistic?**\n",
    "<br>In this example, it is proper to use a t-statistic, since the population standard deviation is unknown,\n",
    "but seeing that the sample size is large (greater than 30, and thus satisfying the conditions for applying Central \n",
    "Limit Theorem) we could use the Z-statistic and both calculations would most likely be very close."
   ]
  },
  {
   "cell_type": "markdown",
   "metadata": {},
   "source": [
    "**Null Hypothesis**: the population mean temperature is 98.6 F \n",
    "<br>**Alternate Hypothesis**: the population mean temperature ≠ 98.6 F"
   ]
  },
  {
   "cell_type": "code",
   "execution_count": 29,
   "metadata": {},
   "outputs": [
    {
     "name": "stdout",
     "output_type": "stream",
     "text": [
      "t-statistic: -5.4548232923645195\n",
      "p-value: 2.4106320415561276e-07\n"
     ]
    }
   ],
   "source": [
    "#calculate one-sample t-test:\n",
    "t, p = stats.ttest_1samp(df.temperature, 98.6)\n",
    "\n",
    "print('t-statistic:', t)\n",
    "print('p-value:', p)"
   ]
  },
  {
   "cell_type": "markdown",
   "metadata": {},
   "source": [
    "To understand the math behind the t-statistic test:"
   ]
  },
  {
   "cell_type": "code",
   "execution_count": 35,
   "metadata": {},
   "outputs": [
    {
     "name": "stdout",
     "output_type": "stream",
     "text": [
      "Sample mean: \t\t 98.24923076923075\n",
      "Sample std dev: \t 0.730357778905038\n",
      "Sigma X: \t\t 0.06405661469519337\n",
      "Sigma X (stats): \t 0.06430441683789102\n"
     ]
    }
   ],
   "source": [
    "true_mean = 98.6\n",
    "sample_mean = np.mean(df['temperature'])\n",
    "sample_std = np.std(df['temperature'])\n",
    "#calc standard error of the mean (done since std dev of population is unknown)\n",
    "sigma_x = sample_std/np.sqrt(len(df))\n",
    "#can also be done using stats package\n",
    "sigma_x_stats  = stats.sem(df['temperature'])\n",
    "\n",
    "print('Sample mean: \\t\\t', sample_mean)\n",
    "print('Sample std dev: \\t', sample_std)\n",
    "print('Sigma X: \\t\\t', sigma_x)\n",
    "print('Sigma X (stats): \\t', sigma_x_stats)"
   ]
  },
  {
   "cell_type": "code",
   "execution_count": 30,
   "metadata": {},
   "outputs": [
    {
     "name": "stdout",
     "output_type": "stream",
     "text": [
      "t-statistic:  -5.4548232923645195\n",
      "p-value:  4.352315174926957e-08\n"
     ]
    }
   ],
   "source": [
    "z = (98.6 - sample_mean) / sigma_x\n",
    "p = (1-stats.norm.cdf(z))*2\n",
    "print('t-statistic: ', t)\n",
    "print('p-value: ', p) #slightly different, possibly due to rounding?"
   ]
  },
  {
   "cell_type": "markdown",
   "metadata": {},
   "source": [
    "Let's run a Bootstrap hypothesis test and compare results:"
   ]
  },
  {
   "cell_type": "code",
   "execution_count": 17,
   "metadata": {},
   "outputs": [],
   "source": [
    "def replicate(data, function):\n",
    "    \"\"\"Return resampled data array of the function passed in.\"\"\"\n",
    "    \n",
    "    # Create the resampled array and return the statistic of interest:\n",
    "    return function(np.random.choice(data, size=len(data)))\n",
    "\n",
    "\n",
    "def draw_replicates(data, function, size=1):\n",
    "    \"\"\"Draw bootstrap replicates.  Return array of replicate values.\"\"\"\n",
    "\n",
    "    # Initialize array of replicates:\n",
    "    replicates = np.empty(size)\n",
    "\n",
    "    # Generate replicates:\n",
    "    for i in range(size):\n",
    "        replicates[i] = replicate(data, function)\n",
    "\n",
    "    return replicates"
   ]
  },
  {
   "cell_type": "code",
   "execution_count": 18,
   "metadata": {},
   "outputs": [
    {
     "name": "stdout",
     "output_type": "stream",
     "text": [
      "p-value = 0.0\n"
     ]
    }
   ],
   "source": [
    "# Seed the random number generator:\n",
    "np.random.seed(42)\n",
    "\n",
    "# Make an array of translated temperatures:\n",
    "translated_temps = df.temperature - np.mean(df['temperature']) + 98.6\n",
    "\n",
    "# Draw bootstrap replicates of translated temperatures:\n",
    "translated_replicates = draw_replicates(translated_temps, np.mean, 10000)\n",
    "\n",
    "# Compute fraction of replicates that are less than the observed temperature mean:\n",
    "p = np.sum(translated_replicates <= np.mean(df['temperature'])) / len(translated_replicates)\n",
    "\n",
    "# Print the p-value:\n",
    "print('p-value =', p)"
   ]
  },
  {
   "cell_type": "markdown",
   "metadata": {},
   "source": [
    "### Bootstrapping method conclusion:\n",
    "\n",
    "In every test the p-value is significantly less than 0.01, so the null hypothesis is **rejected**. There is sufficient \n",
    "evidence to warrant rejection of the claim that the true population mean is the conventional normal human body \n",
    "temperature of 98.6°F."
   ]
  },
  {
   "cell_type": "markdown",
   "metadata": {},
   "source": [
    "### Finally,let's run a z-statistical test and see if they differ:"
   ]
  },
  {
   "cell_type": "code",
   "execution_count": 31,
   "metadata": {},
   "outputs": [
    {
     "name": "stdout",
     "output_type": "stream",
     "text": [
      "The Z-Statistic is 5 with a p-value of 4.9021570141012155e-08\n"
     ]
    }
   ],
   "source": [
    "z_score, z_pval = ztest(df['temperature'],value=98.6)\n",
    "print('The Z-Statistic is %d with a p-value of %s' %(abs(z_score),z_pval))"
   ]
  },
  {
   "cell_type": "markdown",
   "metadata": {},
   "source": [
    "### Z-statistic Conclusion:\n",
    "\n",
    "We see that the z-statistic is **5** std dev, outside of the **95%** CI, and the p-value is even smaller, matching the above\n",
    "conclusion that the null hypothesis can be rejected."
   ]
  },
  {
   "cell_type": "markdown",
   "metadata": {},
   "source": [
    "### Conclusion:\n",
    "\n",
    "T-statistic result is **-5.45**. This means that we would observe a mean of 98.6 at 5.45 standard \n",
    "deviations from our sample mean.  This is outside the range of a 95% confidence interval, and suggests the null\n",
    "hypothesis can be rejected.  To further support this, the p-value is very low, also suggesting the null hypothesis\n",
    "can be **rejected**, i.e. 98.6 F is NOT the mean body temperature."
   ]
  },
  {
   "cell_type": "markdown",
   "metadata": {},
   "source": [
    "## **Question 4: Draw a small sample of size 10 from the data and repeat both frequentist tests.**"
   ]
  },
  {
   "cell_type": "markdown",
   "metadata": {},
   "source": [
    "### Which one is the correct one to use?\n",
    "This test meets criteria for a **t-test**,  because the population standard deviation is unkown and the sample size of **10** is small."
   ]
  },
  {
   "cell_type": "code",
   "execution_count": 20,
   "metadata": {},
   "outputs": [
    {
     "data": {
      "text/plain": [
       "array([98.4, 97.9, 97.1, 98.7, 98.2, 98.4, 98.2, 98.8, 96.7, 96.4])"
      ]
     },
     "execution_count": 20,
     "metadata": {},
     "output_type": "execute_result"
    }
   ],
   "source": [
    "# Seed the random number generator:\n",
    "np.random.seed(15)\n",
    "\n",
    "# Draw a random sample of 10 from the temperature data:\n",
    "sample = np.random.choice(df.temperature, size=10)\n",
    "sample"
   ]
  },
  {
   "cell_type": "code",
   "execution_count": 32,
   "metadata": {},
   "outputs": [
    {
     "name": "stdout",
     "output_type": "stream",
     "text": [
      "t-statistic: -2.6882644585784705\n",
      "p-value: 0.024867110651187487\n"
     ]
    }
   ],
   "source": [
    "# calc t-stat and p-value of a one sample t-test:\n",
    "t, p = stats.ttest_1samp(sample, 98.6)\n",
    "\n",
    "print('t-statistic:', t)\n",
    "print('p-value:', p)"
   ]
  },
  {
   "cell_type": "code",
   "execution_count": 22,
   "metadata": {},
   "outputs": [
    {
     "name": "stdout",
     "output_type": "stream",
     "text": [
      "z-statistic: -2.833679547329114\n",
      "p-value: 0.004601545004804199\n"
     ]
    }
   ],
   "source": [
    "# Calculate and save z-statistic:\n",
    "z = (np.mean(sample) - 98.6) / (np.std(sample)/np.sqrt(len(sample)))\n",
    "\n",
    "# Calculate and save p-value:\n",
    "p = stats.norm.cdf(z) * 2\n",
    "\n",
    "# Print the values for z and p:\n",
    "print('z-statistic:', z)\n",
    "print('p-value:', p)"
   ]
  },
  {
   "cell_type": "markdown",
   "metadata": {},
   "source": [
    "Print the quantiles of the t-distribution corresponding to a **95%** CI and degrees of freedom:"
   ]
  },
  {
   "cell_type": "code",
   "execution_count": 23,
   "metadata": {},
   "outputs": [
    {
     "name": "stdout",
     "output_type": "stream",
     "text": [
      "-2.262157162740992 2.2621571627409915\n"
     ]
    }
   ],
   "source": [
    "print((stats.t.ppf(q=0.025, df=10-1)), (stats.t.ppf(q=0.975, df=10-1)))"
   ]
  },
  {
   "cell_type": "markdown",
   "metadata": {},
   "source": [
    "Print the quantiles of the t-distribution corresponding to a **99.5%** CI and degrees of freedom:"
   ]
  },
  {
   "cell_type": "code",
   "execution_count": 24,
   "metadata": {},
   "outputs": [
    {
     "name": "stdout",
     "output_type": "stream",
     "text": [
      "-4.780912585933472 4.7809125859335495\n"
     ]
    }
   ],
   "source": [
    "print((stats.t.ppf(q=0.0005, df=10-1)), (stats.t.ppf(q=0.9995, df=10-1)))"
   ]
  },
  {
   "cell_type": "markdown",
   "metadata": {},
   "source": [
    "### What do you notice? What does this tell you about the difference in application of the t  and z statistic?"
   ]
  },
  {
   "cell_type": "markdown",
   "metadata": {},
   "source": [
    "The test statistic, **-2.688**, falls outside the t-distribution corresponding to a **95%** CI, but **not 99.9%**. \n",
    "\n",
    "The p-value for the z-test is below both significance levels, but the p-value for the t-test indicates significance only at the 95% level. \n",
    "\n",
    "Both tests provide evidence to reject the null hypothesis. The difference in results reflects the nature of the two distributions. The t-distribution is wider so there is more variability. This makes the t-test less sensitive."
   ]
  },
  {
   "cell_type": "markdown",
   "metadata": {},
   "source": [
    "### **Question 5: At what temperature should we consider someone's temperature to be \"abnormal\"?**"
   ]
  },
  {
   "cell_type": "markdown",
   "metadata": {},
   "source": [
    "Let's first calculate the true mean temperature with a confidence interval of 95%:"
   ]
  },
  {
   "cell_type": "code",
   "execution_count": 25,
   "metadata": {},
   "outputs": [
    {
     "data": {
      "text/plain": [
       "(98.12368211145662, 98.37477942700488)"
      ]
     },
     "execution_count": 25,
     "metadata": {},
     "output_type": "execute_result"
    }
   ],
   "source": [
    "z0 = stats.norm.ppf(0.975)\n",
    "\n",
    "upper_temp = sample_mean + z0*sigma_x #sigma_x is std error of mean, calc'd above\n",
    "lower_temp = sample_mean - z0*sigma_x\n",
    "\n",
    "lower_temp, upper_temp"
   ]
  },
  {
   "cell_type": "markdown",
   "metadata": {},
   "source": [
    "Check the above calc using scipy.stats.norm.interval method:"
   ]
  },
  {
   "cell_type": "code",
   "execution_count": 26,
   "metadata": {},
   "outputs": [
    {
     "data": {
      "text/plain": [
       "(98.12319642818163, 98.37526511027987)"
      ]
     },
     "execution_count": 26,
     "metadata": {},
     "output_type": "execute_result"
    }
   ],
   "source": [
    "stats.norm.interval(0.95,np.mean(df['temperature']),stats.sem(df['temperature']))"
   ]
  },
  {
   "cell_type": "markdown",
   "metadata": {},
   "source": [
    "Bootstrap method:"
   ]
  },
  {
   "cell_type": "code",
   "execution_count": 27,
   "metadata": {},
   "outputs": [
    {
     "name": "stdout",
     "output_type": "stream",
     "text": [
      "99.9% Confidence Interval: [98.04384577 98.45923154]\n"
     ]
    }
   ],
   "source": [
    "# Seed the random number generator:\n",
    "np.random.seed(15)\n",
    "\n",
    "# Draw bootstrap replicates of temperatures:\n",
    "replicates = draw_replicates(df.temperature, np.mean, 10000)\n",
    "\n",
    "# Compute the 99.9% confidence interval:\n",
    "CI = np.percentile(replicates, [0.05, 99.95])\n",
    "print('99.9% Confidence Interval:', CI)"
   ]
  },
  {
   "cell_type": "markdown",
   "metadata": {},
   "source": [
    "### **Conclusion:**\n",
    "the normal range of mean temperature with a **95%** CI is **98.12-98.38**$^\\circ$F. The **99.9%** CI shows a range of **98.04-98.46**$^\\circ$F."
   ]
  },
  {
   "cell_type": "markdown",
   "metadata": {},
   "source": [
    "### **Question 6: Is there a significant difference between males and females in normal temperature?**"
   ]
  },
  {
   "cell_type": "code",
   "execution_count": 28,
   "metadata": {},
   "outputs": [
    {
     "name": "stdout",
     "output_type": "stream",
     "text": [
      "Mean body temp of male samples:  98.10461538461537\n",
      "Mean body temp of female samples:  98.39384615384614\n",
      "The T-Statistic is 2 with a p-value of 0.023938264182934196\n"
     ]
    }
   ],
   "source": [
    "#separate the data along gender\n",
    "male_temps = df.temperature[df.gender == 'M']\n",
    "female_temps = df.temperature[df.gender == 'F']\n",
    "\n",
    "print('Mean body temp of male samples: ', np.mean(male_temps))\n",
    "print('Mean body temp of female samples: ', np.mean(female_temps))\n",
    "\n",
    "#Independent samples t-test\n",
    "gender_ttest, gender_pval = stats.ttest_ind(a=male_temps, b=female_temps, equal_var=False)\n",
    "print('The T-Statistic is %d with a p-value of %s' %(abs(gender_ttest), gender_pval))"
   ]
  },
  {
   "cell_type": "markdown",
   "metadata": {},
   "source": [
    "### What testing approach did you use and why?\n",
    "we can use an **independent samples t-test** as we are comparing the means from two samples."
   ]
  },
  {
   "cell_type": "code",
   "execution_count": null,
   "metadata": {},
   "outputs": [],
   "source": [
    "### Write a story with your conclusion in the context of the original problem.\n",
    "\n",
    "**Null Hypothesis**: Normal Male temperature = Normal Female Temperature\n",
    "**<br>Alternative Hypothesis**: Normal Male temperature ≠ Normal Female Temperature\n",
    "\n",
    "The t-test statistic value was > 1.96 standard deviations of the 95% confidence level, and the p-value was > than 0.0\n",
    "\n",
    "The null hypothesis should be **rejected** in favor of the alternative which suggests a statistically \n",
    "significant difference between males and females.  This is supported by a relatively small p-value."
   ]
  }
 ],
 "metadata": {
  "kernelspec": {
   "display_name": "Python [conda env:tensorflow]",
   "language": "python",
   "name": "conda-env-tensorflow-py"
  },
  "language_info": {
   "codemirror_mode": {
    "name": "ipython",
    "version": 3
   },
   "file_extension": ".py",
   "mimetype": "text/x-python",
   "name": "python",
   "nbconvert_exporter": "python",
   "pygments_lexer": "ipython3",
   "version": "3.6.6"
  }
 },
 "nbformat": 4,
 "nbformat_minor": 2
}
